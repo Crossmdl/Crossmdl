{
 "cells": [
  {
   "cell_type": "code",
   "execution_count": 1,
   "id": "2fb8fa5d-cb03-44e7-99f0-00011c47638f",
   "metadata": {},
   "outputs": [],
   "source": [
    "import pickle\n",
    "import random\n",
    "import numpy as np"
   ]
  },
  {
   "cell_type": "code",
   "execution_count": 2,
   "id": "3b349a53-afb6-45ae-99bc-4f8693b15e20",
   "metadata": {},
   "outputs": [
    {
     "name": "stdout",
     "output_type": "stream",
     "text": [
      "Defaulting to user installation because normal site-packages is not writeable\n",
      "Requirement already satisfied: cca-zoo in /common/home/ps1169/.local/lib/python3.7/site-packages (1.10.16)\n",
      "Requirement already satisfied: scipy>=1.7 in /common/home/ps1169/.local/lib/python3.7/site-packages (from cca-zoo) (1.7.3)\n",
      "Requirement already satisfied: joblib in /usr/lib/anaconda3/lib/python3.7/site-packages (from cca-zoo) (1.0.1)\n",
      "Requirement already satisfied: pandas in /usr/lib/anaconda3/lib/python3.7/site-packages (from cca-zoo) (1.2.4)\n",
      "Requirement already satisfied: scikit-learn>=1.0 in /common/home/ps1169/.local/lib/python3.7/site-packages (from cca-zoo) (1.0.2)\n",
      "Requirement already satisfied: matplotlib in /usr/lib/anaconda3/lib/python3.7/site-packages (from cca-zoo) (3.3.4)\n",
      "Requirement already satisfied: mvlearn in /common/home/ps1169/.local/lib/python3.7/site-packages (from cca-zoo) (0.4.1)\n",
      "Requirement already satisfied: tensorly in /common/home/ps1169/.local/lib/python3.7/site-packages (from cca-zoo) (0.7.0)\n",
      "Requirement already satisfied: numpy in /usr/lib/anaconda3/lib/python3.7/site-packages (from cca-zoo) (1.20.2)\n",
      "Requirement already satisfied: seaborn in /usr/lib/anaconda3/lib/python3.7/site-packages (from cca-zoo) (0.11.1)\n",
      "Requirement already satisfied: threadpoolctl>=2.0.0 in /usr/lib/anaconda3/lib/python3.7/site-packages (from scikit-learn>=1.0->cca-zoo) (2.1.0)\n",
      "Requirement already satisfied: cycler>=0.10 in /usr/lib/anaconda3/lib/python3.7/site-packages (from matplotlib->cca-zoo) (0.10.0)\n",
      "Requirement already satisfied: pillow>=6.2.0 in /usr/lib/anaconda3/lib/python3.7/site-packages (from matplotlib->cca-zoo) (8.2.0)\n",
      "Requirement already satisfied: python-dateutil>=2.1 in /usr/lib/anaconda3/lib/python3.7/site-packages (from matplotlib->cca-zoo) (2.8.1)\n",
      "Requirement already satisfied: pyparsing!=2.0.4,!=2.1.2,!=2.1.6,>=2.0.3 in /usr/lib/anaconda3/lib/python3.7/site-packages (from matplotlib->cca-zoo) (2.4.7)\n",
      "Requirement already satisfied: kiwisolver>=1.0.1 in /usr/lib/anaconda3/lib/python3.7/site-packages (from matplotlib->cca-zoo) (1.3.1)\n",
      "Requirement already satisfied: six in /usr/lib/anaconda3/lib/python3.7/site-packages (from cycler>=0.10->matplotlib->cca-zoo) (1.15.0)\n",
      "Requirement already satisfied: pytz>=2017.3 in /usr/lib/anaconda3/lib/python3.7/site-packages (from pandas->cca-zoo) (2021.1)\n",
      "Requirement already satisfied: nose in /usr/lib/anaconda3/lib/python3.7/site-packages (from tensorly->cca-zoo) (1.3.7)\n",
      "Note: you may need to restart the kernel to use updated packages.\n"
     ]
    }
   ],
   "source": [
    "pip install cca-zoo"
   ]
  },
  {
   "cell_type": "code",
   "execution_count": 2,
   "id": "da2872c1-ba72-4a0d-8703-61c61dcb2ef1",
   "metadata": {},
   "outputs": [],
   "source": [
    "from cca_zoo.models import CCA"
   ]
  },
  {
   "cell_type": "code",
   "execution_count": 3,
   "id": "9995526a-b7a5-4630-9647-1a23eec0461f",
   "metadata": {},
   "outputs": [],
   "source": [
    "def rank(type_embedding , img_embeds, rec_embeds, samples):\n",
    "    random.seed(42)\n",
    "    im_vecs = img_embeds \n",
    "    instr_vecs = rec_embeds \n",
    "\n",
    "\n",
    "    # Sort based on names to always pick same samples for medr\n",
    "#     idxs = np.argsort(names)\n",
    "#     names = names[idxs]\n",
    "\n",
    "    # Ranker\n",
    "    N = samples\n",
    "    idxs = range(N)\n",
    "    \n",
    "    glob_rank = []\n",
    "    glob_recall = {1:0.0,5:0.0,10:0.0}\n",
    "    for i in range(10):\n",
    "\n",
    "        ids = random.sample(range(0,len(img_embeds)), N)\n",
    "        im_sub = im_vecs[ids,:]\n",
    "        instr_sub = instr_vecs[ids,:]\n",
    "#         ids_sub = names[ids]\n",
    "\n",
    "        # if params.embedding == 'image':\n",
    "        if type_embedding == 'image':\n",
    "            sims = np.dot(im_sub,instr_sub.T) # for im2recipe\n",
    "        else:\n",
    "            sims = np.dot(instr_sub,im_sub.T) # for recipe2im\n",
    "\n",
    "        med_rank = []\n",
    "        recall = {1:0.0,5:0.0,10:0.0}\n",
    "\n",
    "        for ii in idxs:\n",
    "\n",
    "#             name = ids_sub[ii]\n",
    "            # get a column of similarities\n",
    "            sim = sims[ii,:]\n",
    "\n",
    "            # sort indices in descending order\n",
    "            sorting = np.argsort(sim)[::-1].tolist()\n",
    "\n",
    "            # find where the index of the pair sample ended up in the sorting\n",
    "            pos = sorting.index(ii)\n",
    "\n",
    "            if (pos+1) == 1:\n",
    "                recall[1]+=1\n",
    "            if (pos+1) <=5:\n",
    "                recall[5]+=1\n",
    "            if (pos+1)<=10:\n",
    "                recall[10]+=1\n",
    "\n",
    "            # store the position\n",
    "            med_rank.append(pos+1)\n",
    "\n",
    "        for i in recall.keys():\n",
    "            recall[i]=recall[i]/N\n",
    "\n",
    "        med = np.median(med_rank)\n",
    "        # print \"median\", med\n",
    "\n",
    "        for i in recall.keys():\n",
    "            glob_recall[i]+=recall[i]\n",
    "        glob_rank.append(med)\n",
    "\n",
    "    for i in glob_recall.keys():\n",
    "        glob_recall[i] = glob_recall[i]/10\n",
    "\n",
    "    return np.average(glob_rank), glob_recall"
   ]
  },
  {
   "cell_type": "code",
   "execution_count": 4,
   "id": "3108fea4-cdc8-4286-b260-c04fa5817fba",
   "metadata": {},
   "outputs": [],
   "source": [
    "latent_dims=[2,10,50,100,200,500,1000]"
   ]
  },
  {
   "cell_type": "code",
   "execution_count": 5,
   "id": "e3fbfba9-3d8c-4be0-a9f9-b6086d6e78af",
   "metadata": {},
   "outputs": [],
   "source": [
    "with open('embeddings_train1.pkl', 'rb') as files:\n",
    "    data = pickle.load(files)"
   ]
  },
  {
   "cell_type": "code",
   "execution_count": 6,
   "id": "752d99f5-176a-4013-b2fd-9d0905ceef37",
   "metadata": {},
   "outputs": [],
   "source": [
    "with open('embeddings_val1.pkl', 'rb') as f:\n",
    "    data_validation = pickle.load(f)"
   ]
  },
  {
   "cell_type": "raw",
   "id": "05cdea06-c8c1-43e8-b311-1a38d0005bd9",
   "metadata": {},
   "source": [
    "1k Samples"
   ]
  },
  {
   "cell_type": "code",
   "execution_count": 13,
   "id": "a387e4a2-8456-439e-8f8f-ac6611b7c1b9",
   "metadata": {},
   "outputs": [
    {
     "name": "stdout",
     "output_type": "stream",
     "text": [
      "Dimension: 2\n",
      "203.1 {1: 0.0031, 5: 0.016300000000000002, 10: 0.031400000000000004}\n",
      "******************************\n",
      "Dimension: 10\n",
      "22.5 {1: 0.055400000000000005, 5: 0.19730000000000003, 10: 0.32010000000000005}\n",
      "******************************\n",
      "Dimension: 50\n",
      "2.7 {1: 0.34270000000000006, 5: 0.6896000000000001, 10: 0.8087}\n",
      "******************************\n",
      "Dimension: 100\n",
      "2.0 {1: 0.4082, 5: 0.7459, 10: 0.8452}\n",
      "******************************\n",
      "Dimension: 200\n",
      "1.7 {1: 0.48069999999999996, 5: 0.7776000000000002, 10: 0.8543000000000001}\n",
      "******************************\n",
      "Dimension: 500\n",
      "1.0 {1: 0.5474, 5: 0.7953, 10: 0.8505}\n",
      "******************************\n",
      "Dimension: 1000\n",
      "1.0 {1: 0.5549000000000001, 5: 0.7716, 10: 0.8160000000000001}\n",
      "******************************\n"
     ]
    }
   ],
   "source": [
    "for dims in latent_dims:\n",
    "    model=CCA(latent_dims=dims)\n",
    "    model.fit((data[0],data[1]))\n",
    "    filename='models/average_embeddings_img2text'+str(dims)+'_model.pkl'\n",
    "    pickle.dump(model, open(filename, 'wb'))\n",
    "    data_transform=model.transform([data_validation[0],data_validation[1]])\n",
    "    median,recall=rank('image', data_transform[0], data_transform[1], 1000)\n",
    "    print(\"Dimension: \"+str(dims))\n",
    "    print(median,recall)\n",
    "    print(\"*\"*30)"
   ]
  },
  {
   "cell_type": "raw",
   "id": "b5a96706-c008-4b4d-896e-eac3ce868959",
   "metadata": {},
   "source": [
    "10k Samples"
   ]
  },
  {
   "cell_type": "code",
   "execution_count": 15,
   "id": "a9c4be1c-504d-446c-a848-d68d3b54fcd2",
   "metadata": {},
   "outputs": [
    {
     "name": "stdout",
     "output_type": "stream",
     "text": [
      "Dimension: 2\n",
      "2033.65 {1: 0.0004, 5: 0.0016899999999999999, 10: 0.00326}\n",
      "******************************\n",
      "Dimension: 10\n",
      "218.8 {1: 0.00682, 5: 0.030390000000000007, 10: 0.05706}\n",
      "******************************\n",
      "Dimension: 50\n",
      "17.1 {1: 0.10355, 5: 0.28631, 10: 0.40496}\n",
      "******************************\n",
      "Dimension: 100\n",
      "12.0 {1: 0.14282, 5: 0.35245, 10: 0.47501999999999994}\n",
      "******************************\n",
      "Dimension: 200\n",
      "8.0 {1: 0.19366, 5: 0.43262999999999996, 10: 0.5537299999999999}\n",
      "******************************\n",
      "Dimension: 500\n",
      "5.0 {1: 0.26037, 5: 0.51621, 10: 0.62177}\n",
      "******************************\n",
      "Dimension: 1000\n",
      "4.9 {1: 0.28311, 5: 0.5301199999999999, 10: 0.62432}\n",
      "******************************\n"
     ]
    }
   ],
   "source": [
    "for dims in latent_dims:\n",
    "    filename='models/average_embeddings_img2text'+str(dims)+'_model.pkl'\n",
    "    with open(filename, 'rb') as files:\n",
    "        model= pickle.load(files)\n",
    "    data_transform=model.transform([data_validation[0],data_validation[1]])\n",
    "    median,recall=rank('image', data_transform[0], data_transform[1], 10000)\n",
    "    print(\"Dimension: \"+str(dims))\n",
    "    print(median,recall)\n",
    "    print(\"*\"*30)"
   ]
  },
  {
   "cell_type": "raw",
   "id": "f0142b13-23e1-467a-b0c5-b9d6b830f947",
   "metadata": {},
   "source": [
    "BEST MODEL TEST"
   ]
  },
  {
   "cell_type": "code",
   "execution_count": 40,
   "id": "f5b0fb69-b404-4c48-92c3-b3eebae74114",
   "metadata": {},
   "outputs": [],
   "source": [
    "with open('embeddings_test1.pkl', 'rb') as f:\n",
    "    data_test = pickle.load(f)"
   ]
  },
  {
   "cell_type": "code",
   "execution_count": 18,
   "id": "dfa6a0d7-4024-48da-ae23-5d319da61809",
   "metadata": {},
   "outputs": [
    {
     "name": "stdout",
     "output_type": "stream",
     "text": [
      "1K Samples:\n",
      "1.0 {1: 0.5495000000000001, 5: 0.7911, 10: 0.8480000000000001}\n",
      "******************************\n",
      "10K Samples:\n",
      "5.0 {1: 0.25931999999999994, 5: 0.51165, 10: 0.6194999999999999}\n",
      "******************************\n"
     ]
    }
   ],
   "source": [
    "filename='models/average_embeddings_img2text'+str(500)+'_model.pkl'\n",
    "with open(filename, 'rb') as files:\n",
    "    best_model= pickle.load(files)\n",
    "    \n",
    "data_transform=best_model.transform([data_test[0],data_test[1]])\n",
    "median,recall=rank('image', data_transform[0], data_transform[1], 1000)\n",
    "print(\"1K Samples:\")\n",
    "print(median,recall)\n",
    "print(\"*\"*30)\n",
    "\n",
    "median,recall=rank('image', data_transform[0], data_transform[1], 10000)\n",
    "print(\"10K Samples:\")\n",
    "print(median,recall)\n",
    "print(\"*\"*30)"
   ]
  },
  {
   "cell_type": "code",
   "execution_count": null,
   "id": "87af097c-75cf-4af2-98cf-f4f8e7138cff",
   "metadata": {},
   "outputs": [],
   "source": []
  },
  {
   "cell_type": "raw",
   "id": "4375cfd0-10f2-429e-a33b-b1e676c52ab8",
   "metadata": {},
   "source": [
    "Image to title embeddings"
   ]
  },
  {
   "cell_type": "code",
   "execution_count": 28,
   "id": "183a3359-afa1-41b4-98f3-f4ae02d8cbf4",
   "metadata": {},
   "outputs": [],
   "source": [
    "with open('title_embeddings_train.pkl', 'rb') as files:\n",
    "    data_title = pickle.load(files)"
   ]
  },
  {
   "cell_type": "code",
   "execution_count": 29,
   "id": "c752f83e-f36d-4a29-9cd3-709a78958f07",
   "metadata": {},
   "outputs": [],
   "source": [
    "with open('title_embeddings_val.pkl', 'rb') as f:\n",
    "    data_validation_title = pickle.load(f)"
   ]
  },
  {
   "cell_type": "code",
   "execution_count": 27,
   "id": "e22e9256-a622-4e63-9134-fa47b5804775",
   "metadata": {},
   "outputs": [
    {
     "name": "stdout",
     "output_type": "stream",
     "text": [
      "Dimension: 2\n",
      "216.75 {1: 0.0045, 5: 0.0182, 10: 0.036}\n",
      "******************************\n",
      "Dimension: 10\n",
      "54.95 {1: 0.022399999999999996, 5: 0.0959, 10: 0.1663}\n",
      "******************************\n",
      "Dimension: 50\n",
      "9.95 {1: 0.13840000000000002, 5: 0.3827, 10: 0.5115000000000001}\n",
      "******************************\n",
      "Dimension: 100\n",
      "7.7 {1: 0.1709, 5: 0.4316999999999999, 10: 0.5548}\n",
      "******************************\n",
      "Dimension: 200\n",
      "6.8 {1: 0.20529999999999998, 5: 0.4633000000000001, 10: 0.5654999999999999}\n",
      "******************************\n",
      "Dimension: 500\n",
      "9.4 {1: 0.21880000000000002, 5: 0.43789999999999996, 10: 0.5126000000000001}\n",
      "******************************\n",
      "Dimension: 1000\n",
      "24.95 {1: 0.19590000000000002, 5: 0.36669999999999997, 10: 0.42939999999999995}\n",
      "******************************\n"
     ]
    }
   ],
   "source": [
    "for dims in latent_dims:\n",
    "    model=CCA(latent_dims=dims)\n",
    "    model.fit((data[0],data_title[0]))\n",
    "    filename='models/title_embeddings_img2text'+str(dims)+'_model.pkl'\n",
    "    pickle.dump(model, open(filename, 'wb'))\n",
    "    data_transform=model.transform([data_validation[0],data_validation_title[0]])\n",
    "    median,recall=rank('image', data_transform[0], data_transform[1], 1000)\n",
    "    print(\"Dimension: \"+str(dims))\n",
    "    print(median,recall)\n",
    "    print(\"*\"*30)"
   ]
  },
  {
   "cell_type": "code",
   "execution_count": 28,
   "id": "ee9e47e5-f0a5-4e30-98aa-51ff160329a1",
   "metadata": {},
   "outputs": [
    {
     "name": "stdout",
     "output_type": "stream",
     "text": [
      "Dimension: 2\n",
      "2170.8 {1: 0.00037, 5: 0.00204, 10: 0.00404}\n",
      "******************************\n",
      "Dimension: 10\n",
      "554.15 {1: 0.00243, 5: 0.011859999999999999, 10: 0.02329}\n",
      "******************************\n",
      "Dimension: 50\n",
      "89.85 {1: 0.02521, 5: 0.09215, 10: 0.15421999999999997}\n",
      "******************************\n",
      "Dimension: 100\n",
      "67.4 {1: 0.03272, 5: 0.11724000000000001, 10: 0.18913}\n",
      "******************************\n",
      "Dimension: 200\n",
      "57.85 {1: 0.04543, 5: 0.15033000000000002, 10: 0.23278000000000004}\n",
      "******************************\n",
      "Dimension: 500\n",
      "84.15 {1: 0.0613, 5: 0.18009000000000003, 10: 0.25791000000000003}\n",
      "******************************\n",
      "Dimension: 1000\n",
      "243.5 {1: 0.06056, 5: 0.16706, 10: 0.23132999999999998}\n",
      "******************************\n"
     ]
    }
   ],
   "source": [
    "for dims in latent_dims:\n",
    "    filename='models/title_embeddings_img2text'+str(dims)+'_model.pkl'\n",
    "    with open(filename, 'rb') as files:\n",
    "        model= pickle.load(files)\n",
    "    data_transform=model.transform([data_validation[0],data_validation_title[0]])\n",
    "    median,recall=rank('image', data_transform[0], data_transform[1], 10000)\n",
    "    print(\"Dimension: \"+str(dims))\n",
    "    print(median,recall)\n",
    "    print(\"*\"*30)"
   ]
  },
  {
   "cell_type": "raw",
   "id": "f51c663b-5de8-4d63-9d90-c5435093810a",
   "metadata": {},
   "source": [
    "BEST MODEL TO TEST"
   ]
  },
  {
   "cell_type": "code",
   "execution_count": 41,
   "id": "0de49441-4bf6-445b-a486-3ea64df8d0b0",
   "metadata": {},
   "outputs": [],
   "source": [
    "with open('title_embeddings_test.pkl', 'rb') as f:\n",
    "    data_test_title = pickle.load(f)"
   ]
  },
  {
   "cell_type": "code",
   "execution_count": 20,
   "id": "9bce3cec-1d29-486c-99ef-74961b5169f8",
   "metadata": {},
   "outputs": [
    {
     "name": "stdout",
     "output_type": "stream",
     "text": [
      "1K Samples:\n",
      "6.95 {1: 0.19620000000000004, 5: 0.4614, 10: 0.5660999999999999}\n",
      "******************************\n",
      "10K Samples:\n",
      "60.9 {1: 0.04489, 5: 0.14948, 10: 0.22981}\n",
      "******************************\n"
     ]
    }
   ],
   "source": [
    "filename='models/title_embeddings_img2text'+str(200)+'_model.pkl'\n",
    "with open(filename, 'rb') as files:\n",
    "    best_model= pickle.load(files)\n",
    "    \n",
    "data_transform=best_model.transform([data_test[0],data_test_title[0]])\n",
    "median,recall=rank('image', data_transform[0], data_transform[1], 1000)\n",
    "print(\"1K Samples:\")\n",
    "print(median,recall)\n",
    "print(\"*\"*30)\n",
    "\n",
    "median,recall=rank('image', data_transform[0], data_transform[1], 10000)\n",
    "print(\"10K Samples:\")\n",
    "print(median,recall)\n",
    "print(\"*\"*30)"
   ]
  },
  {
   "cell_type": "code",
   "execution_count": null,
   "id": "b33b5496-2fc5-4ed4-addc-d3d7ed97e99f",
   "metadata": {},
   "outputs": [],
   "source": []
  },
  {
   "cell_type": "raw",
   "id": "a193ace3-df6d-4546-b4fa-9d6a2228515a",
   "metadata": {},
   "source": [
    "Image to ingredients embeddings"
   ]
  },
  {
   "cell_type": "code",
   "execution_count": 30,
   "id": "432e8bba-5b0e-410f-983a-9e7f2b7e6e9b",
   "metadata": {},
   "outputs": [],
   "source": [
    "with open('ingredients_embeddings_train.pkl', 'rb') as files:\n",
    "    data_ingre = pickle.load(files)"
   ]
  },
  {
   "cell_type": "code",
   "execution_count": 31,
   "id": "0c52f30e-fece-414c-923c-7829f89dc2cd",
   "metadata": {},
   "outputs": [],
   "source": [
    "with open('ingredients_embeddings_val.pkl', 'rb') as f:\n",
    "    data_validation_ingre = pickle.load(f)"
   ]
  },
  {
   "cell_type": "code",
   "execution_count": 11,
   "id": "6baffa44-2654-474a-ae1b-3a18abd7c530",
   "metadata": {},
   "outputs": [
    {
     "name": "stdout",
     "output_type": "stream",
     "text": [
      "Dimension: 2\n",
      "201.45 {1: 0.0037000000000000006, 5: 0.015600000000000003, 10: 0.031200000000000006}\n",
      "******************************\n",
      "Dimension: 10\n",
      "27.75 {1: 0.0421, 5: 0.1655, 10: 0.2762}\n",
      "******************************\n",
      "Dimension: 50\n",
      "4.7 {1: 0.23090000000000002, 5: 0.5421000000000001, 10: 0.6822}\n",
      "******************************\n",
      "Dimension: 100\n",
      "3.5 {1: 0.28470000000000006, 5: 0.5972999999999999, 10: 0.7181}\n",
      "******************************\n",
      "Dimension: 200\n",
      "2.9 {1: 0.3306, 5: 0.627, 10: 0.7270000000000001}\n",
      "******************************\n",
      "Dimension: 500\n",
      "2.8 {1: 0.361, 5: 0.6145999999999999, 10: 0.6882}\n",
      "******************************\n",
      "Dimension: 1000\n",
      "3.6 {1: 0.3438, 5: 0.5508, 10: 0.6125999999999999}\n",
      "******************************\n"
     ]
    }
   ],
   "source": [
    "for dims in latent_dims:\n",
    "    model=CCA(latent_dims=dims)\n",
    "    model.fit((data[0],data_ingre[0]))\n",
    "    filename='models/ingre_embeddings_img2text'+str(dims)+'_model.pkl'\n",
    "    pickle.dump(model, open(filename, 'wb'))\n",
    "    data_transform=model.transform([data_validation[0],data_validation_ingre[0]])\n",
    "    median,recall=rank('image', data_transform[0], data_transform[1], 1000)\n",
    "    print(\"Dimension: \"+str(dims))\n",
    "    print(median,recall)\n",
    "    print(\"*\"*30)"
   ]
  },
  {
   "cell_type": "code",
   "execution_count": 12,
   "id": "88894201-4369-4de6-8582-51e50b174f11",
   "metadata": {},
   "outputs": [
    {
     "name": "stdout",
     "output_type": "stream",
     "text": [
      "Dimension: 2\n",
      "2024.7 {1: 0.00030000000000000003, 5: 0.00173, 10: 0.00338}\n",
      "******************************\n",
      "Dimension: 10\n",
      "265.6 {1: 0.00532, 5: 0.02399, 10: 0.046130000000000004}\n",
      "******************************\n",
      "Dimension: 50\n",
      "38.3 {1: 0.057109999999999994, 5: 0.17942000000000002, 10: 0.26989}\n",
      "******************************\n",
      "Dimension: 100\n",
      "27.9 {1: 0.08001, 5: 0.22845, 10: 0.32592999999999994}\n",
      "******************************\n",
      "Dimension: 200\n",
      "21.3 {1: 0.10910000000000002, 5: 0.28113, 10: 0.38176999999999994}\n",
      "******************************\n",
      "Dimension: 500\n",
      "18.6 {1: 0.14042000000000002, 5: 0.32405, 10: 0.41857000000000005}\n",
      "******************************\n",
      "Dimension: 1000\n",
      "28.5 {1: 0.14079, 5: 0.30826, 10: 0.38906}\n",
      "******************************\n"
     ]
    }
   ],
   "source": [
    "for dims in latent_dims:\n",
    "    filename='models/ingre_embeddings_img2text'+str(dims)+'_model.pkl'\n",
    "    with open(filename, 'rb') as files:\n",
    "        model= pickle.load(files)\n",
    "    data_transform=model.transform([data_validation[0],data_validation_ingre[0]])\n",
    "    median,recall=rank('image', data_transform[0], data_transform[1], 10000)\n",
    "    print(\"Dimension: \"+str(dims))\n",
    "    print(median,recall)\n",
    "    print(\"*\"*30)"
   ]
  },
  {
   "cell_type": "code",
   "execution_count": null,
   "id": "9da84ed7-8e45-4bf5-af07-a055e27b8274",
   "metadata": {},
   "outputs": [],
   "source": []
  },
  {
   "cell_type": "code",
   "execution_count": null,
   "id": "ffaa320a-7e90-4b9c-9fc1-f1d4244f0412",
   "metadata": {},
   "outputs": [],
   "source": [
    "BEST MODEL TO TEST"
   ]
  },
  {
   "cell_type": "code",
   "execution_count": 42,
   "id": "ac3d0994-20f2-47b1-b53b-15c733ca6f3b",
   "metadata": {},
   "outputs": [],
   "source": [
    "with open('ingredients_embeddings_test.pkl', 'rb') as f:\n",
    "    data_test_ingre = pickle.load(f)"
   ]
  },
  {
   "cell_type": "code",
   "execution_count": 22,
   "id": "17462094-4e88-4830-852c-4d90eaac6e9a",
   "metadata": {},
   "outputs": [
    {
     "name": "stdout",
     "output_type": "stream",
     "text": [
      "1K Samples:\n",
      "3.0 {1: 0.35409999999999997, 5: 0.5980000000000001, 10: 0.6675}\n",
      "******************************\n",
      "10K Samples:\n",
      "19.5 {1: 0.13733, 5: 0.32005999999999996, 10: 0.41430000000000006}\n",
      "******************************\n"
     ]
    }
   ],
   "source": [
    "filename='models/ingre_embeddings_img2text'+str(500)+'_model.pkl'\n",
    "with open(filename, 'rb') as files:\n",
    "    best_model= pickle.load(files)\n",
    "    \n",
    "data_transform=best_model.transform([data_test[0],data_test_ingre[0]])\n",
    "median,recall=rank('image', data_transform[0], data_transform[1], 1000)\n",
    "print(\"1K Samples:\")\n",
    "print(median,recall)\n",
    "print(\"*\"*30)\n",
    "\n",
    "median,recall=rank('image', data_transform[0], data_transform[1], 10000)\n",
    "print(\"10K Samples:\")\n",
    "print(median,recall)\n",
    "print(\"*\"*30)"
   ]
  },
  {
   "cell_type": "code",
   "execution_count": null,
   "id": "68f57706-9d82-4910-af8d-f7ae4c1dc324",
   "metadata": {},
   "outputs": [],
   "source": []
  },
  {
   "cell_type": "raw",
   "id": "c26a6dbb-3da9-4e07-bcef-97115df7c569",
   "metadata": {},
   "source": [
    "Image to instructions embeddings"
   ]
  },
  {
   "cell_type": "code",
   "execution_count": 32,
   "id": "4d6b615d-013b-4e3f-920a-46adc5383295",
   "metadata": {},
   "outputs": [],
   "source": [
    "with open('instructions_embeddings_train.pkl', 'rb') as files:\n",
    "    data_instr = pickle.load(files)"
   ]
  },
  {
   "cell_type": "code",
   "execution_count": 33,
   "id": "e6104554-dffa-4daf-ade8-0c1150e5df80",
   "metadata": {},
   "outputs": [],
   "source": [
    "with open('instructions_embeddings_val.pkl', 'rb') as f:\n",
    "    data_validation_instr = pickle.load(f)"
   ]
  },
  {
   "cell_type": "code",
   "execution_count": 15,
   "id": "397f200c-27b4-4946-a2ad-c101f82e71c2",
   "metadata": {},
   "outputs": [
    {
     "name": "stdout",
     "output_type": "stream",
     "text": [
      "Dimension: 2\n",
      "189.35 {1: 0.0037000000000000006, 5: 0.0177, 10: 0.036199999999999996}\n",
      "******************************\n",
      "Dimension: 10\n",
      "33.0 {1: 0.0366, 5: 0.1485, 10: 0.24229999999999996}\n",
      "******************************\n",
      "Dimension: 50\n",
      "5.1 {1: 0.2165, 5: 0.5146, 10: 0.6540999999999999}\n",
      "******************************\n",
      "Dimension: 100\n",
      "3.7 {1: 0.26670000000000005, 5: 0.5843999999999999, 10: 0.7241}\n",
      "******************************\n",
      "Dimension: 200\n",
      "3.0 {1: 0.3119, 5: 0.6178, 10: 0.7258}\n",
      "******************************\n",
      "Dimension: 500\n",
      "3.0 {1: 0.35140000000000005, 5: 0.6132, 10: 0.6903}\n",
      "******************************\n",
      "Dimension: 1000\n",
      "3.7 {1: 0.3357, 5: 0.5513, 10: 0.6182999999999998}\n",
      "******************************\n"
     ]
    }
   ],
   "source": [
    "for dims in latent_dims:\n",
    "    model=CCA(latent_dims=dims)\n",
    "    model.fit((data[0],data_instr[0]))\n",
    "    filename='models/instr_embeddings_img2text'+str(dims)+'_model.pkl'\n",
    "    pickle.dump(model, open(filename, 'wb'))\n",
    "    data_transform=model.transform([data_validation[0],data_validation_instr[0]])\n",
    "    median,recall=rank('image', data_transform[0], data_transform[1], 1000)\n",
    "    print(\"Dimension: \"+str(dims))\n",
    "    print(median,recall)\n",
    "    print(\"*\"*30)"
   ]
  },
  {
   "cell_type": "code",
   "execution_count": 16,
   "id": "8aa9bccb-39e1-4bd1-9d0a-3b23f2fe81b1",
   "metadata": {},
   "outputs": [
    {
     "name": "stdout",
     "output_type": "stream",
     "text": [
      "Dimension: 2\n",
      "1868.75 {1: 0.00048000000000000007, 5: 0.00201, 10: 0.0038099999999999996}\n",
      "******************************\n",
      "Dimension: 10\n",
      "319.9 {1: 0.004999999999999999, 5: 0.022909999999999996, 10: 0.04071}\n",
      "******************************\n",
      "Dimension: 50\n",
      "43.4 {1: 0.05493, 5: 0.16638999999999998, 10: 0.24852999999999997}\n",
      "******************************\n",
      "Dimension: 100\n",
      "29.9 {1: 0.07239999999999999, 5: 0.21003, 10: 0.30542}\n",
      "******************************\n",
      "Dimension: 200\n",
      "23.0 {1: 0.09956, 5: 0.25765000000000005, 10: 0.36102}\n",
      "******************************\n",
      "Dimension: 500\n",
      "19.6 {1: 0.13107, 5: 0.30842, 10: 0.40619000000000005}\n",
      "******************************\n",
      "Dimension: 1000\n",
      "26.1 {1: 0.13413000000000003, 5: 0.30510000000000004, 10: 0.39122}\n",
      "******************************\n"
     ]
    }
   ],
   "source": [
    "for dims in latent_dims:\n",
    "    filename='models/instr_embeddings_img2text'+str(dims)+'_model.pkl'\n",
    "    with open(filename, 'rb') as files:\n",
    "        model= pickle.load(files)\n",
    "    data_transform=model.transform([data_validation[0],data_validation_instr[0]])\n",
    "    median,recall=rank('image', data_transform[0], data_transform[1], 10000)\n",
    "    print(\"Dimension: \"+str(dims))\n",
    "    print(median,recall)\n",
    "    print(\"*\"*30)"
   ]
  },
  {
   "cell_type": "code",
   "execution_count": null,
   "id": "8339edd7-da23-4aa8-9356-4c2224452402",
   "metadata": {},
   "outputs": [],
   "source": []
  },
  {
   "cell_type": "raw",
   "id": "826da71e-a9e4-4a25-a610-7bdc34ec2fc9",
   "metadata": {},
   "source": [
    "BEST MODEL TO TEST"
   ]
  },
  {
   "cell_type": "code",
   "execution_count": 43,
   "id": "796ea137-25ab-497b-9efc-0efb6b7d4a14",
   "metadata": {},
   "outputs": [],
   "source": [
    "with open('instructions_embeddings_test.pkl', 'rb') as f:\n",
    "    data_test_instr = pickle.load(f)"
   ]
  },
  {
   "cell_type": "code",
   "execution_count": 24,
   "id": "f18cf699-3e03-4de9-8c37-42688776ff81",
   "metadata": {},
   "outputs": [
    {
     "name": "stdout",
     "output_type": "stream",
     "text": [
      "1K Samples:\n",
      "3.0 {1: 0.3545, 5: 0.6084999999999998, 10: 0.6870999999999999}\n",
      "******************************\n",
      "10K Samples:\n",
      "20.0 {1: 0.12906, 5: 0.30744000000000005, 10: 0.4029}\n",
      "******************************\n"
     ]
    }
   ],
   "source": [
    "filename='models/instr_embeddings_img2text'+str(500)+'_model.pkl'\n",
    "with open(filename, 'rb') as files:\n",
    "    best_model= pickle.load(files)\n",
    "    \n",
    "data_transform=best_model.transform([data_test[0],data_test_instr[0]])\n",
    "median,recall=rank('image', data_transform[0], data_transform[1], 1000)\n",
    "print(\"1K Samples:\")\n",
    "print(median,recall)\n",
    "print(\"*\"*30)\n",
    "\n",
    "median,recall=rank('image', data_transform[0], data_transform[1], 10000)\n",
    "print(\"10K Samples:\")\n",
    "print(median,recall)\n",
    "print(\"*\"*30)"
   ]
  },
  {
   "cell_type": "code",
   "execution_count": null,
   "id": "99d88b70-f2ad-41b8-a76c-5d34c94c3375",
   "metadata": {},
   "outputs": [],
   "source": []
  },
  {
   "cell_type": "code",
   "execution_count": null,
   "id": "123ca9b5-70ae-4d75-89a5-b86414fe02a3",
   "metadata": {},
   "outputs": [],
   "source": []
  },
  {
   "cell_type": "raw",
   "id": "03d29ec2-4e9e-43a0-9c0e-5af45d1ba6e0",
   "metadata": {},
   "source": [
    "Text To Image"
   ]
  },
  {
   "cell_type": "raw",
   "id": "96b50c0d-d506-43e4-a1e1-7eebdffde374",
   "metadata": {},
   "source": [
    "Average Text Embedding to Image"
   ]
  },
  {
   "cell_type": "code",
   "execution_count": 25,
   "id": "b9d193b5-9e47-4e37-99a6-6b73cb305825",
   "metadata": {},
   "outputs": [
    {
     "name": "stdout",
     "output_type": "stream",
     "text": [
      "Dimension: 2\n",
      "207.75 {1: 0.0032, 5: 0.015300000000000003, 10: 0.03180000000000001}\n",
      "******************************\n",
      "Dimension: 10\n",
      "22.9 {1: 0.0516, 5: 0.19890000000000002, 10: 0.32049999999999995}\n",
      "******************************\n",
      "Dimension: 50\n",
      "2.6 {1: 0.3504999999999999, 5: 0.6818, 10: 0.8046}\n",
      "******************************\n",
      "Dimension: 100\n",
      "2.0 {1: 0.41859999999999997, 5: 0.7384000000000001, 10: 0.8380000000000001}\n",
      "******************************\n",
      "Dimension: 200\n",
      "1.9 {1: 0.489, 5: 0.7780000000000001, 10: 0.8552}\n",
      "******************************\n",
      "Dimension: 500\n",
      "1.0 {1: 0.5522, 5: 0.7992, 10: 0.85}\n",
      "******************************\n",
      "Dimension: 1000\n",
      "1.0 {1: 0.5630000000000001, 5: 0.7733000000000001, 10: 0.8192}\n",
      "******************************\n"
     ]
    }
   ],
   "source": [
    "for dims in latent_dims:\n",
    "    model=CCA(latent_dims=dims)\n",
    "    model.fit((data[1],data[0]))\n",
    "    filename='models/average_embeddings_text2img'+str(dims)+'_model.pkl'\n",
    "    pickle.dump(model, open(filename, 'wb'))\n",
    "    data_transform=model.transform([data_validation[1],data_validation[0]])\n",
    "    median,recall=rank('text', data_transform[1], data_transform[0], 1000)\n",
    "    print(\"Dimension: \"+str(dims))\n",
    "    print(median,recall)\n",
    "    print(\"*\"*30)"
   ]
  },
  {
   "cell_type": "code",
   "execution_count": 26,
   "id": "e00d4f12-d1e9-47f4-b3a0-81a3253f907f",
   "metadata": {},
   "outputs": [
    {
     "name": "stdout",
     "output_type": "stream",
     "text": [
      "Dimension: 2\n",
      "2086.9 {1: 0.00031000000000000005, 5: 0.00159, 10: 0.00315}\n",
      "******************************\n",
      "Dimension: 10\n",
      "218.55 {1: 0.00717, 5: 0.0312, 10: 0.058219999999999994}\n",
      "******************************\n",
      "Dimension: 50\n",
      "16.95 {1: 0.10942, 5: 0.29805000000000004, 10: 0.41212}\n",
      "******************************\n",
      "Dimension: 100\n",
      "11.9 {1: 0.14948, 5: 0.36008, 10: 0.47969999999999996}\n",
      "******************************\n",
      "Dimension: 200\n",
      "7.9 {1: 0.20578, 5: 0.43889999999999996, 10: 0.5559000000000001}\n",
      "******************************\n",
      "Dimension: 500\n",
      "5.0 {1: 0.27622, 5: 0.5214700000000001, 10: 0.6249}\n",
      "******************************\n",
      "Dimension: 1000\n",
      "4.1 {1: 0.29741, 5: 0.5365, 10: 0.62957}\n",
      "******************************\n"
     ]
    }
   ],
   "source": [
    "for dims in latent_dims:\n",
    "    filename='models/average_embeddings_text2img'+str(dims)+'_model.pkl'\n",
    "    with open(filename, 'rb') as files:\n",
    "        model= pickle.load(files)\n",
    "    data_transform=model.transform([data_validation[1],data_validation[0]])\n",
    "    median,recall=rank('text', data_transform[1], data_transform[0], 10000)\n",
    "    print(\"Dimension: \"+str(dims))\n",
    "    print(median,recall)\n",
    "    print(\"*\"*30)"
   ]
  },
  {
   "cell_type": "code",
   "execution_count": null,
   "id": "6b7b6ccc-dfe5-427b-bae5-bc7020669069",
   "metadata": {},
   "outputs": [],
   "source": []
  },
  {
   "cell_type": "raw",
   "id": "42c55891-25b6-482f-96a5-c382f4bf576c",
   "metadata": {},
   "source": [
    "BEST MODEL TO TEST"
   ]
  },
  {
   "cell_type": "code",
   "execution_count": 45,
   "id": "78432b69-58a0-496a-9408-dbd6a0cae44b",
   "metadata": {},
   "outputs": [
    {
     "name": "stdout",
     "output_type": "stream",
     "text": [
      "1K Samples:\n",
      "1.0 {1: 0.5499, 5: 0.7941, 10: 0.849}\n",
      "******************************\n",
      "10K Samples:\n",
      "5.0 {1: 0.27286, 5: 0.5184599999999999, 10: 0.61974}\n",
      "******************************\n"
     ]
    }
   ],
   "source": [
    "filename='models/average_embeddings_text2img'+str(500)+'_model.pkl'\n",
    "with open(filename, 'rb') as files:\n",
    "    best_model= pickle.load(files)\n",
    "    \n",
    "data_transform=best_model.transform([data_test[1],data_test[0]])\n",
    "median,recall=rank('text', data_transform[1], data_transform[0], 1000)\n",
    "print(\"1K Samples:\")\n",
    "print(median,recall)\n",
    "print(\"*\"*30)\n",
    "\n",
    "median,recall=rank('text', data_transform[1], data_transform[0], 10000)\n",
    "print(\"10K Samples:\")\n",
    "print(median,recall)\n",
    "print(\"*\"*30)"
   ]
  },
  {
   "cell_type": "code",
   "execution_count": null,
   "id": "6970b1cf-c40d-4ae5-912e-7fd1fef04d57",
   "metadata": {},
   "outputs": [],
   "source": []
  },
  {
   "cell_type": "code",
   "execution_count": null,
   "id": "85839461-69ed-4f1e-a37d-686c26b9071d",
   "metadata": {},
   "outputs": [],
   "source": []
  },
  {
   "cell_type": "raw",
   "id": "f1885a6a-e780-4929-aa7f-8b897d7848e6",
   "metadata": {},
   "source": [
    "Title Embedding to Image"
   ]
  },
  {
   "cell_type": "code",
   "execution_count": 34,
   "id": "7e85ae57-ceb1-46ab-9c02-b1f50beb4239",
   "metadata": {},
   "outputs": [
    {
     "name": "stdout",
     "output_type": "stream",
     "text": [
      "Dimension: 2\n",
      "213.15 {1: 0.004000000000000001, 5: 0.020399999999999995, 10: 0.0387}\n",
      "******************************\n",
      "Dimension: 10\n",
      "54.75 {1: 0.022, 5: 0.09439999999999998, 10: 0.16699999999999998}\n",
      "******************************\n",
      "Dimension: 50\n",
      "10.4 {1: 0.1272, 5: 0.37, 10: 0.505}\n",
      "******************************\n",
      "Dimension: 100\n",
      "8.1 {1: 0.1611, 5: 0.4244, 10: 0.5469999999999999}\n",
      "******************************\n",
      "Dimension: 200\n",
      "7.15 {1: 0.1963, 5: 0.4575, 10: 0.5572}\n",
      "******************************\n",
      "Dimension: 500\n",
      "9.8 {1: 0.21710000000000002, 5: 0.43800000000000006, 10: 0.5077}\n",
      "******************************\n",
      "Dimension: 1000\n",
      "25.6 {1: 0.19729999999999998, 5: 0.36899999999999994, 10: 0.42639999999999995}\n",
      "******************************\n"
     ]
    }
   ],
   "source": [
    "for dims in latent_dims:\n",
    "    model=CCA(latent_dims=dims)\n",
    "    model.fit((data_title[0],data[0]))\n",
    "    filename='models/title_embeddings_text2img'+str(dims)+'_model.pkl'\n",
    "    pickle.dump(model, open(filename, 'wb'))\n",
    "    data_transform=model.transform([data_validation_title[0],data_validation[0]])\n",
    "    median,recall=rank('text', data_transform[1], data_transform[0], 1000)\n",
    "    print(\"Dimension: \"+str(dims))\n",
    "    print(median,recall)\n",
    "    print(\"*\"*30)"
   ]
  },
  {
   "cell_type": "code",
   "execution_count": 35,
   "id": "6e81c3b0-51b3-405f-87d1-6c158d837f51",
   "metadata": {},
   "outputs": [
    {
     "name": "stdout",
     "output_type": "stream",
     "text": [
      "Dimension: 2\n",
      "2174.2 {1: 0.00041999999999999996, 5: 0.0018199999999999998, 10: 0.00381}\n",
      "******************************\n",
      "Dimension: 10\n",
      "557.65 {1: 0.0023499999999999997, 5: 0.011630000000000001, 10: 0.02212}\n",
      "******************************\n",
      "Dimension: 50\n",
      "93.2 {1: 0.023649999999999997, 5: 0.08762, 10: 0.14683000000000002}\n",
      "******************************\n",
      "Dimension: 100\n",
      "70.65 {1: 0.032659999999999995, 5: 0.11604999999999999, 10: 0.18774000000000002}\n",
      "******************************\n",
      "Dimension: 200\n",
      "61.65 {1: 0.04705000000000001, 5: 0.14939999999999998, 10: 0.23092000000000001}\n",
      "******************************\n",
      "Dimension: 500\n",
      "87.6 {1: 0.06342, 5: 0.17813999999999997, 10: 0.25476}\n",
      "******************************\n",
      "Dimension: 1000\n",
      "245.75 {1: 0.06312999999999999, 5: 0.16746999999999998, 10: 0.23321999999999998}\n",
      "******************************\n"
     ]
    }
   ],
   "source": [
    "for dims in latent_dims:\n",
    "    filename='models/title_embeddings_text2img'+str(dims)+'_model.pkl'\n",
    "    with open(filename, 'rb') as files:\n",
    "        model= pickle.load(files)\n",
    "    data_transform=model.transform([data_validation_title[0],data_validation[0]])\n",
    "    median,recall=rank('text', data_transform[1], data_transform[0], 10000)\n",
    "    print(\"Dimension: \"+str(dims))\n",
    "    print(median,recall)\n",
    "    print(\"*\"*30)"
   ]
  },
  {
   "cell_type": "code",
   "execution_count": null,
   "id": "1510b42f-9cc2-49b6-bb2c-95182282bf06",
   "metadata": {},
   "outputs": [],
   "source": []
  },
  {
   "cell_type": "raw",
   "id": "a236999b-b28a-4d06-9055-1a758d9d9dce",
   "metadata": {},
   "source": [
    "BEST MODEL TO TEST"
   ]
  },
  {
   "cell_type": "code",
   "execution_count": 46,
   "id": "c671ff90-b254-4862-954b-36a7f3e4d3be",
   "metadata": {},
   "outputs": [
    {
     "name": "stdout",
     "output_type": "stream",
     "text": [
      "1K Samples:\n",
      "7.25 {1: 0.19840000000000002, 5: 0.44600000000000006, 10: 0.5579000000000001}\n",
      "******************************\n",
      "10K Samples:\n",
      "63.85 {1: 0.04649, 5: 0.14817, 10: 0.22626}\n",
      "******************************\n"
     ]
    }
   ],
   "source": [
    "filename='models/title_embeddings_text2img'+str(200)+'_model.pkl'\n",
    "with open(filename, 'rb') as files:\n",
    "    best_model= pickle.load(files)\n",
    "    \n",
    "data_transform=best_model.transform([data_test_title[0],data_test[0]])\n",
    "median,recall=rank('text', data_transform[1], data_transform[0], 1000)\n",
    "print(\"1K Samples:\")\n",
    "print(median,recall)\n",
    "print(\"*\"*30)\n",
    "\n",
    "median,recall=rank('text', data_transform[1], data_transform[0], 10000)\n",
    "print(\"10K Samples:\")\n",
    "print(median,recall)\n",
    "print(\"*\"*30)"
   ]
  },
  {
   "cell_type": "code",
   "execution_count": null,
   "id": "60088a87-5bc5-4daf-b6df-34b2bac49162",
   "metadata": {},
   "outputs": [],
   "source": []
  },
  {
   "cell_type": "code",
   "execution_count": null,
   "id": "500513ce-0a42-4150-a4a3-3ed8ae8fdc1d",
   "metadata": {},
   "outputs": [],
   "source": []
  },
  {
   "cell_type": "raw",
   "id": "207008ba-fec6-43ac-b472-0521f51ea0e6",
   "metadata": {},
   "source": [
    "Ingredients Embedding to Image"
   ]
  },
  {
   "cell_type": "code",
   "execution_count": 36,
   "id": "e5f2fbca-a91f-4b90-8c01-07587c2abbff",
   "metadata": {},
   "outputs": [
    {
     "name": "stdout",
     "output_type": "stream",
     "text": [
      "Dimension: 2\n",
      "204.95 {1: 0.0034000000000000002, 5: 0.0159, 10: 0.032100000000000004}\n",
      "******************************\n",
      "Dimension: 10\n",
      "27.1 {1: 0.0435, 5: 0.17009999999999997, 10: 0.2818}\n",
      "******************************\n",
      "Dimension: 50\n",
      "4.6 {1: 0.2445, 5: 0.5361, 10: 0.6706000000000001}\n",
      "******************************\n",
      "Dimension: 100\n",
      "3.6 {1: 0.29469999999999996, 5: 0.5931999999999998, 10: 0.7157000000000001}\n",
      "******************************\n",
      "Dimension: 200\n",
      "2.9 {1: 0.3403, 5: 0.6273000000000001, 10: 0.7236}\n",
      "******************************\n",
      "Dimension: 500\n",
      "2.6 {1: 0.37639999999999996, 5: 0.6214999999999999, 10: 0.6886}\n",
      "******************************\n",
      "Dimension: 1000\n",
      "3.4 {1: 0.35330000000000006, 5: 0.5608000000000002, 10: 0.6208999999999999}\n",
      "******************************\n"
     ]
    }
   ],
   "source": [
    "for dims in latent_dims:\n",
    "    model=CCA(latent_dims=dims)\n",
    "    model.fit((data_ingre[0],data[0]))\n",
    "    filename='models/ingre_embeddings_text2img'+str(dims)+'_model.pkl'\n",
    "    pickle.dump(model, open(filename, 'wb'))\n",
    "    data_transform=model.transform([data_validation_ingre[0],data_validation[0]])\n",
    "    median,recall=rank('text', data_transform[1], data_transform[0], 1000)\n",
    "    print(\"Dimension: \"+str(dims))\n",
    "    print(median,recall)\n",
    "    print(\"*\"*30)"
   ]
  },
  {
   "cell_type": "code",
   "execution_count": 37,
   "id": "be00f836-2eea-4dba-b9e9-bc52993cbe8b",
   "metadata": {},
   "outputs": [
    {
     "name": "stdout",
     "output_type": "stream",
     "text": [
      "Dimension: 2\n",
      "2038.8 {1: 0.0003800000000000001, 5: 0.00162, 10: 0.0032799999999999995}\n",
      "******************************\n",
      "Dimension: 10\n",
      "260.55 {1: 0.00565, 5: 0.02595, 10: 0.046669999999999996}\n",
      "******************************\n",
      "Dimension: 50\n",
      "38.4 {1: 0.0653, 5: 0.19013, 10: 0.27865}\n",
      "******************************\n",
      "Dimension: 100\n",
      "26.9 {1: 0.08896, 5: 0.24023, 10: 0.33733}\n",
      "******************************\n",
      "Dimension: 200\n",
      "20.1 {1: 0.11981, 5: 0.29298, 10: 0.3952}\n",
      "******************************\n",
      "Dimension: 500\n",
      "17.3 {1: 0.15158999999999997, 5: 0.33453, 10: 0.43034999999999995}\n",
      "******************************\n",
      "Dimension: 1000\n",
      "25.6 {1: 0.15188, 5: 0.32114, 10: 0.40158000000000005}\n",
      "******************************\n"
     ]
    }
   ],
   "source": [
    "for dims in latent_dims:\n",
    "    filename='models/ingre_embeddings_text2img'+str(dims)+'_model.pkl'\n",
    "    with open(filename, 'rb') as files:\n",
    "        model= pickle.load(files)\n",
    "    data_transform=model.transform([data_validation_ingre[0],data_validation[0]])\n",
    "    median,recall=rank('text', data_transform[1], data_transform[0], 10000)\n",
    "    print(\"Dimension: \"+str(dims))\n",
    "    print(median,recall)\n",
    "    print(\"*\"*30)"
   ]
  },
  {
   "cell_type": "code",
   "execution_count": null,
   "id": "6a164427-b263-482c-8fac-cfb308f801fe",
   "metadata": {},
   "outputs": [],
   "source": []
  },
  {
   "cell_type": "raw",
   "id": "16b2e792-e3af-4667-b912-88e810179456",
   "metadata": {},
   "source": [
    "BEST MODEL TO TEST"
   ]
  },
  {
   "cell_type": "code",
   "execution_count": 47,
   "id": "afd6f5f0-9db6-4f68-a200-4dfde7b318f1",
   "metadata": {},
   "outputs": [
    {
     "name": "stdout",
     "output_type": "stream",
     "text": [
      "1K Samples:\n",
      "2.9 {1: 0.3651, 5: 0.601, 10: 0.6733}\n",
      "******************************\n",
      "10K Samples:\n",
      "18.35 {1: 0.14953999999999998, 5: 0.3317, 10: 0.4239}\n",
      "******************************\n"
     ]
    }
   ],
   "source": [
    "filename='models/ingre_embeddings_text2img'+str(500)+'_model.pkl'\n",
    "with open(filename, 'rb') as files:\n",
    "    best_model= pickle.load(files)\n",
    "    \n",
    "data_transform=best_model.transform([data_test_ingre[0],data_test[0]])\n",
    "median,recall=rank('text', data_transform[1], data_transform[0], 1000)\n",
    "print(\"1K Samples:\")\n",
    "print(median,recall)\n",
    "print(\"*\"*30)\n",
    "\n",
    "median,recall=rank('text', data_transform[1], data_transform[0], 10000)\n",
    "print(\"10K Samples:\")\n",
    "print(median,recall)\n",
    "print(\"*\"*30)"
   ]
  },
  {
   "cell_type": "code",
   "execution_count": null,
   "id": "37133952-d85d-4bab-8bd0-3b23dd4aa9d9",
   "metadata": {},
   "outputs": [],
   "source": []
  },
  {
   "cell_type": "raw",
   "id": "49dd4fe2-fe85-4e95-8cf9-a9e28de21af8",
   "metadata": {},
   "source": [
    "Instructions To Image"
   ]
  },
  {
   "cell_type": "code",
   "execution_count": 38,
   "id": "b0fd9755-46c7-4bdd-bf50-5a363d88224c",
   "metadata": {},
   "outputs": [
    {
     "name": "stdout",
     "output_type": "stream",
     "text": [
      "Dimension: 2\n",
      "189.35 {1: 0.0037000000000000006, 5: 0.0177, 10: 0.036199999999999996}\n",
      "******************************\n",
      "Dimension: 10\n",
      "33.0 {1: 0.0366, 5: 0.1485, 10: 0.24229999999999996}\n",
      "******************************\n",
      "Dimension: 50\n",
      "5.1 {1: 0.2165, 5: 0.5146, 10: 0.6540999999999999}\n",
      "******************************\n",
      "Dimension: 100\n",
      "3.7 {1: 0.26670000000000005, 5: 0.5843999999999999, 10: 0.7241}\n",
      "******************************\n",
      "Dimension: 200\n",
      "3.0 {1: 0.3119, 5: 0.6178, 10: 0.7258}\n",
      "******************************\n",
      "Dimension: 500\n",
      "3.0 {1: 0.35140000000000005, 5: 0.6132, 10: 0.6903}\n",
      "******************************\n",
      "Dimension: 1000\n",
      "3.7 {1: 0.3357, 5: 0.5513, 10: 0.6182999999999998}\n",
      "******************************\n"
     ]
    }
   ],
   "source": [
    "for dims in latent_dims:\n",
    "    model=CCA(latent_dims=dims)\n",
    "    model.fit((data_instr[0],data[0]))\n",
    "    filename='models/instr_embeddings_text2img'+str(dims)+'_model.pkl'\n",
    "    pickle.dump(model, open(filename, 'wb'))\n",
    "    data_transform=model.transform([data_validation_instr[0],data_validation[0]])\n",
    "    median,recall=rank('image', data_transform[1], data_transform[0], 1000)\n",
    "    print(\"Dimension: \"+str(dims))\n",
    "    print(median,recall)\n",
    "    print(\"*\"*30)"
   ]
  },
  {
   "cell_type": "code",
   "execution_count": 39,
   "id": "f85e721c-bfb9-4910-8736-f6bd367ee4bf",
   "metadata": {},
   "outputs": [
    {
     "name": "stdout",
     "output_type": "stream",
     "text": [
      "Dimension: 2\n",
      "1868.75 {1: 0.00048000000000000007, 5: 0.00201, 10: 0.0038099999999999996}\n",
      "******************************\n",
      "Dimension: 10\n",
      "319.9 {1: 0.004999999999999999, 5: 0.022909999999999996, 10: 0.04071}\n",
      "******************************\n",
      "Dimension: 50\n",
      "43.4 {1: 0.05493, 5: 0.16638999999999998, 10: 0.24852999999999997}\n",
      "******************************\n",
      "Dimension: 100\n",
      "29.9 {1: 0.07239999999999999, 5: 0.21003, 10: 0.30542}\n",
      "******************************\n",
      "Dimension: 200\n",
      "23.0 {1: 0.09956, 5: 0.25765000000000005, 10: 0.36102}\n",
      "******************************\n",
      "Dimension: 500\n",
      "19.6 {1: 0.13107, 5: 0.30842, 10: 0.40619000000000005}\n",
      "******************************\n",
      "Dimension: 1000\n",
      "26.1 {1: 0.13413000000000003, 5: 0.30510000000000004, 10: 0.39122}\n",
      "******************************\n"
     ]
    }
   ],
   "source": [
    "for dims in latent_dims:\n",
    "    filename='models/instr_embeddings_text2img'+str(dims)+'_model.pkl'\n",
    "    with open(filename, 'rb') as files:\n",
    "        model= pickle.load(files)\n",
    "    data_transform=model.transform([data_validation_instr[0],data_validation[0]])\n",
    "    median,recall=rank('image', data_transform[1], data_transform[0], 10000)\n",
    "    print(\"Dimension: \"+str(dims))\n",
    "    print(median,recall)\n",
    "    print(\"*\"*30)"
   ]
  },
  {
   "cell_type": "code",
   "execution_count": null,
   "id": "630fe6b5-544e-4570-817c-303d086cf44d",
   "metadata": {},
   "outputs": [],
   "source": []
  },
  {
   "cell_type": "raw",
   "id": "8c827ebf-ad1e-4bb7-97bc-6362adffbaca",
   "metadata": {},
   "source": [
    "BEST MODEL TO TEST"
   ]
  },
  {
   "cell_type": "code",
   "execution_count": 48,
   "id": "8618eb0c-f9a4-42ec-b060-88934da40917",
   "metadata": {},
   "outputs": [
    {
     "name": "stdout",
     "output_type": "stream",
     "text": [
      "1K Samples:\n",
      "2.9 {1: 0.3619, 5: 0.6194, 10: 0.6922}\n",
      "******************************\n",
      "10K Samples:\n",
      "18.9 {1: 0.13655, 5: 0.31639999999999996, 10: 0.41279000000000005}\n",
      "******************************\n"
     ]
    }
   ],
   "source": [
    "filename='models/instr_embeddings_text2img'+str(500)+'_model.pkl'\n",
    "with open(filename, 'rb') as files:\n",
    "    best_model= pickle.load(files)\n",
    "    \n",
    "data_transform=best_model.transform([data_test_instr[0],data_test[0]])\n",
    "median,recall=rank('text', data_transform[1], data_transform[0], 1000)\n",
    "print(\"1K Samples:\")\n",
    "print(median,recall)\n",
    "print(\"*\"*30)\n",
    "\n",
    "median,recall=rank('text', data_transform[1], data_transform[0], 10000)\n",
    "print(\"10K Samples:\")\n",
    "print(median,recall)\n",
    "print(\"*\"*30)"
   ]
  },
  {
   "cell_type": "code",
   "execution_count": null,
   "id": "c2c14e9d-3cfb-4292-a401-0a2009ccc122",
   "metadata": {},
   "outputs": [],
   "source": [
    "median,recall=rank('text', data_transform[1], data_transform[0], 10000)\n",
    "print(\"10K Samples:\")\n",
    "print(median,recall)\n",
    "print(\"*\"*30)"
   ]
  },
  {
   "cell_type": "raw",
   "id": "b4f224fa-ca77-4e3c-b97a-232f7afa4ad6",
   "metadata": {},
   "source": [
    "PLOT IMAGE TO RECIPE "
   ]
  },
  {
   "cell_type": "raw",
   "id": "8b0bdf37-c39c-48d5-9b41-4faee65500f0",
   "metadata": {},
   "source": [
    "1K SAMPLES"
   ]
  },
  {
   "cell_type": "raw",
   "id": "fc512066-7c59-48b0-94da-73395dc11734",
   "metadata": {},
   "source": [
    "Image to Average Embeddings"
   ]
  },
  {
   "cell_type": "code",
   "execution_count": 6,
   "id": "c3df74fc-730d-432b-8476-72791830748e",
   "metadata": {},
   "outputs": [],
   "source": [
    "import matplotlib.pyplot as plt"
   ]
  },
  {
   "cell_type": "code",
   "execution_count": 24,
   "id": "ac45c7e0-d49f-422f-b611-faf40613ca52",
   "metadata": {},
   "outputs": [],
   "source": [
    "median_average=[]\n",
    "recall_1_average=[]\n",
    "recall_5_average=[]\n",
    "recall_10_average=[]\n",
    "for dims in latent_dims:\n",
    "    file_store='outputs/recipe2img_10K_samples/average_embeddings_text2img'+str(dims)+'_model_output.pkl'\n",
    "    with open(file_store, 'rb') as files:\n",
    "        data_output= pickle.load(files)\n",
    "    median_average.append(data_output[0])\n",
    "    recall_1_average.append(data_output[1][1])\n",
    "    recall_5_average.append(data_output[1][5])\n",
    "    recall_10_average.append(data_output[1][10])"
   ]
  },
  {
   "cell_type": "code",
   "execution_count": 25,
   "id": "45181f2a-73a8-4c29-9324-eb6730cc266b",
   "metadata": {},
   "outputs": [],
   "source": [
    "median_title=[]\n",
    "recall_1_title=[]\n",
    "recall_5_title=[]\n",
    "recall_10_title=[]\n",
    "for dims in latent_dims:\n",
    "    file_store='outputs/recipe2img_10K_samples/title_embeddings_text2img'+str(dims)+'_model_output.pkl'\n",
    "    with open(file_store, 'rb') as files:\n",
    "        data_output= pickle.load(files)\n",
    "    median_title.append(data_output[0])\n",
    "    recall_1_title.append(data_output[1][1])\n",
    "    recall_5_title.append(data_output[1][5])\n",
    "    recall_10_title.append(data_output[1][10])"
   ]
  },
  {
   "cell_type": "code",
   "execution_count": 26,
   "id": "ee152cdf-2f05-4d9b-9d2b-58e94a2192f5",
   "metadata": {},
   "outputs": [],
   "source": [
    "median_ingre=[]\n",
    "recall_1_ingre=[]\n",
    "recall_5_ingre=[]\n",
    "recall_10_ingre=[]\n",
    "for dims in latent_dims:\n",
    "    file_store='outputs/recipe2img_10K_samples/ingre_embeddings_text2img'+str(dims)+'_model_output.pkl'\n",
    "    with open(file_store, 'rb') as files:\n",
    "        data_output= pickle.load(files)\n",
    "    median_ingre.append(data_output[0])\n",
    "    recall_1_ingre.append(data_output[1][1])\n",
    "    recall_5_ingre.append(data_output[1][5])\n",
    "    recall_10_ingre.append(data_output[1][10])"
   ]
  },
  {
   "cell_type": "code",
   "execution_count": 27,
   "id": "c28deb03-4a03-415a-ad62-e8784c4bd280",
   "metadata": {},
   "outputs": [],
   "source": [
    "median_instr=[]\n",
    "recall_1_instr=[]\n",
    "recall_5_instr=[]\n",
    "recall_10_instr=[]\n",
    "for dims in latent_dims:\n",
    "    file_store='outputs/recipe2img_10K_samples/instr_embeddings_text2img'+str(dims)+'_model_output.pkl'\n",
    "    with open(file_store, 'rb') as files:\n",
    "        data_output= pickle.load(files)\n",
    "    median_instr.append(data_output[0])\n",
    "    recall_1_instr.append(data_output[1][1])\n",
    "    recall_5_instr.append(data_output[1][5])\n",
    "    recall_10_instr.append(data_output[1][10])"
   ]
  },
  {
   "cell_type": "code",
   "execution_count": 28,
   "id": "3e3e1e6e-4863-445b-b704-942585a5e1a6",
   "metadata": {},
   "outputs": [
    {
     "data": {
      "image/png": "[encoded data removed]",
      "text/plain": [
       "<Figure size 432x288 with 1 Axes>"
      ]
     },
     "metadata": {
      "needs_background": "light"
     },
     "output_type": "display_data"
    }
   ],
   "source": [
    "plt.plot(latent_dims,median_average,label='Average')\n",
    "plt.plot(latent_dims,median_title,label='Title')\n",
    "plt.plot(latent_dims,median_ingre,label='Ingredients')\n",
    "plt.plot(latent_dims,median_instr,label='Instructions')\n",
    "plt.legend()\n",
    "plt.title(\"Recipe to Image Median Rank 10K samples\")\n",
    "plt.savefig('image_output/recipe2img_10k_samples.png')\n",
    "plt.show()"
   ]
  },
  {
   "cell_type": "code",
   "execution_count": 9,
   "id": "e25b4be1-78ab-413b-96e9-9c798cdba76a",
   "metadata": {},
   "outputs": [],
   "source": [
    "ids=data[2]\n",
    "chicken_lasagna_idx=np.where(ids == 'f79f91650c')[0][0]\n",
    "lasagna_idx=np.where(ids == '003971cf31')[0][0]\n",
    "salad_idx=np.where(ids == '001f8b08ac')[0][0]\n",
    "chicken_salad_idx=np.where(ids == '09f70a1c31')[0][0]"
   ]
  },
  {
   "cell_type": "code",
   "execution_count": 50,
   "id": "b76e0c4f-eb3a-4331-83d6-69f8a1323b9b",
   "metadata": {},
   "outputs": [],
   "source": [
    "filename='models/average_embeddings_img2text'+str(500)+'_model.pkl'\n",
    "with open(filename, 'rb') as files:\n",
    "    best_model= pickle.load(files)"
   ]
  },
  {
   "cell_type": "code",
   "execution_count": 52,
   "id": "81f61d9f-0a76-4646-8a41-4346f7515d24",
   "metadata": {},
   "outputs": [
    {
     "data": {
      "text/plain": [
       "(281598, 500)"
      ]
     },
     "execution_count": 52,
     "metadata": {},
     "output_type": "execute_result"
    }
   ],
   "source": [
    "data_transform=best_model.transform([data[0],data[1]])\n",
    "data_transform[0].shape"
   ]
  },
  {
   "cell_type": "code",
   "execution_count": 53,
   "id": "00c9b648-5036-48a0-b372-87a3a88d81e9",
   "metadata": {},
   "outputs": [],
   "source": [
    "chicken_lasagna_imgvec=data_transform[0][chicken_lasagna_idx]\n",
    "lasagna_imgvec=data_transform[0][lasagna_idx]\n",
    "salad_imgvec=data_transform[0][salad_idx]"
   ]
  },
  {
   "cell_type": "code",
   "execution_count": 54,
   "id": "68176cfa-c9a1-43e2-af32-b6874d7f8738",
   "metadata": {},
   "outputs": [],
   "source": [
    "chicken_lasagna_textvec=data_transform[1][chicken_lasagna_idx]\n",
    "lasagna_textvec=data_transform[1][lasagna_idx]\n",
    "salad_textvec=data_transform[1][salad_idx]"
   ]
  },
  {
   "cell_type": "code",
   "execution_count": 57,
   "id": "494f8c37-f25d-4d4f-badf-449e4d05c5f3",
   "metadata": {},
   "outputs": [],
   "source": [
    "chicken_vec=np.subtract(chicken_lasagna_imgvec,lasagna_imgvec)\n",
    "chicken_salad_vec=np.add(chicken_vec,salad_imgvec)"
   ]
  },
  {
   "cell_type": "code",
   "execution_count": 65,
   "id": "448e6f70-db98-4c53-a4e6-6717148b16fd",
   "metadata": {},
   "outputs": [
    {
     "data": {
      "text/plain": [
       "'c4cbd0d736'"
      ]
     },
     "execution_count": 65,
     "metadata": {},
     "output_type": "execute_result"
    }
   ],
   "source": [
    "sims = np.dot(chicken_salad_vec,data_transform[1].T)\n",
    "sorting = np.argsort(sims)[::-1].tolist()\n",
    "ans_index=sorting[0]\n",
    "ans_id=data[2][ans_index]\n",
    "ans_id"
   ]
  },
  {
   "cell_type": "raw",
   "id": "d36ffd24-91a0-4bbe-bb22-9d743dc6c2bb",
   "metadata": {},
   "source": [
    "ABOVE ID IS FOR MANGO CURRY SALAD"
   ]
  },
  {
   "cell_type": "code",
   "execution_count": null,
   "id": "a82e3b4e-30ca-4e10-b416-046296ad0f48",
   "metadata": {},
   "outputs": [],
   "source": []
  },
  {
   "cell_type": "code",
   "execution_count": null,
   "id": "e17a8ce0-4ee4-414e-9890-dcdce788bcfe",
   "metadata": {},
   "outputs": [],
   "source": []
  },
  {
   "cell_type": "raw",
   "id": "d135bf7c-8660-4bea-8d3e-dfa58db97b5f",
   "metadata": {},
   "source": [
    "TITLE TO IMAGE"
   ]
  },
  {
   "cell_type": "code",
   "execution_count": 6,
   "id": "0f236734-81a2-416c-99f7-b039884e9d21",
   "metadata": {},
   "outputs": [],
   "source": [
    "filename='models/title_embeddings_img2text'+str(200)+'_model.pkl'\n",
    "with open(filename, 'rb') as files:\n",
    "    best_model= pickle.load(files)"
   ]
  },
  {
   "cell_type": "code",
   "execution_count": 7,
   "id": "9cc707f1-3c54-4207-ace6-301d6aff6f66",
   "metadata": {},
   "outputs": [
    {
     "data": {
      "text/plain": [
       "(281598, 200)"
      ]
     },
     "execution_count": 7,
     "metadata": {},
     "output_type": "execute_result"
    }
   ],
   "source": [
    "data_transform=best_model.transform([data[1],data[0]])\n",
    "data_transform[0].shape"
   ]
  },
  {
   "cell_type": "code",
   "execution_count": 10,
   "id": "09c9333a-e77a-4fbd-b103-3523c6c4f7c5",
   "metadata": {},
   "outputs": [],
   "source": [
    "chicken_lasagna=data_transform[0][chicken_lasagna_idx]\n",
    "lasagna=data_transform[0][lasagna_idx]\n",
    "salad=data_transform[0][salad_idx]"
   ]
  },
  {
   "cell_type": "code",
   "execution_count": 11,
   "id": "1ef7bf01-9571-4c6e-abe2-d073ecd8f2fc",
   "metadata": {},
   "outputs": [],
   "source": [
    "chicken_vec=np.subtract(chicken_lasagna,lasagna)\n",
    "chicken_salad_vec=np.add(chicken_vec,salad)"
   ]
  },
  {
   "cell_type": "code",
   "execution_count": 12,
   "id": "15697a22-f3e5-4b64-9b57-1ca79d2074c7",
   "metadata": {},
   "outputs": [
    {
     "data": {
      "text/plain": [
       "'c4cbd0d736'"
      ]
     },
     "execution_count": 12,
     "metadata": {},
     "output_type": "execute_result"
    }
   ],
   "source": [
    "sims = np.dot(chicken_salad_vec,data_transform[1].T) # for recipe2im\n",
    "sorting = np.argsort(sims)[::-1].tolist()\n",
    "ans_index=sorting[0]\n",
    "ans_id=data[2][ans_index]\n",
    "ans_id"
   ]
  },
  {
   "cell_type": "code",
   "execution_count": null,
   "id": "aa60b51c-8c24-4087-8093-013690e65ed1",
   "metadata": {},
   "outputs": [],
   "source": []
  }
 ],
 "metadata": {
  "kernelspec": {
   "display_name": "Python 3 (ipykernel)",
   "language": "python",
   "name": "python3"
  },
  "language_info": {
   "codemirror_mode": {
    "name": "ipython",
    "version": 3
   },
   "file_extension": ".py",
   "mimetype": "text/x-python",
   "name": "python",
   "nbconvert_exporter": "python",
   "pygments_lexer": "ipython3",
   "version": "3.7.10"
  }
 },
 "nbformat": 4,
 "nbformat_minor": 5
}
