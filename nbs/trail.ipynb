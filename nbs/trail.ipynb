{
 "cells": [
  {
   "cell_type": "code",
   "execution_count": 2,
   "id": "4a166dc5-b758-4731-8ed3-ac306d799a81",
   "metadata": {},
   "outputs": [],
   "source": [
    "import numpy as np\n",
    "import torch"
   ]
  },
  {
   "cell_type": "code",
   "execution_count": 3,
   "id": "bef5b576-3eb1-4551-98c5-54b41d171722",
   "metadata": {},
   "outputs": [
    {
     "data": {
      "text/plain": [
       "True"
      ]
     },
     "execution_count": 3,
     "metadata": {},
     "output_type": "execute_result"
    }
   ],
   "source": [
    "torch.cuda.is_available()"
   ]
  },
  {
   "cell_type": "code",
   "execution_count": 3,
   "id": "2664b357-1e26-4479-8d3f-01ec022cca37",
   "metadata": {},
   "outputs": [],
   "source": [
    "import pytorch_lightning as pl"
   ]
  },
  {
   "cell_type": "code",
   "execution_count": 4,
   "id": "69e0ff07-568f-45a9-98a0-fd1ab26c3223",
   "metadata": {},
   "outputs": [],
   "source": [
    "x = torch.FloatTensor([0,9,7])"
   ]
  },
  {
   "cell_type": "code",
   "execution_count": 5,
   "id": "83502388-3da1-459b-953c-baa42b0bd18b",
   "metadata": {},
   "outputs": [],
   "source": [
    "x_gpu = x.cuda()"
   ]
  },
  {
   "cell_type": "code",
   "execution_count": 6,
   "id": "b9cb9b69-39d8-406b-a9de-feee5fb4e2be",
   "metadata": {},
   "outputs": [
    {
     "data": {
      "text/plain": [
       "tensor([0., 9., 7.], device='cuda:0')"
      ]
     },
     "execution_count": 6,
     "metadata": {},
     "output_type": "execute_result"
    }
   ],
   "source": [
    "x_gpu"
   ]
  },
  {
   "cell_type": "code",
   "execution_count": null,
   "id": "5e28faac-c141-4112-be5d-d148a33c9c64",
   "metadata": {},
   "outputs": [],
   "source": []
  },
  {
   "cell_type": "code",
   "execution_count": null,
   "id": "79f47df1-7a5a-422d-9ad9-62197f5a04ff",
   "metadata": {},
   "outputs": [],
   "source": []
  }
 ],
 "metadata": {
  "kernelspec": {
   "display_name": "Python 3 (ipykernel)",
   "language": "python",
   "name": "python3"
  },
  "language_info": {
   "codemirror_mode": {
    "name": "ipython",
    "version": 3
   },
   "file_extension": ".py",
   "mimetype": "text/x-python",
   "name": "python",
   "nbconvert_exporter": "python",
   "pygments_lexer": "ipython3",
   "version": "3.8.12"
  }
 },
 "nbformat": 4,
 "nbformat_minor": 5
}
