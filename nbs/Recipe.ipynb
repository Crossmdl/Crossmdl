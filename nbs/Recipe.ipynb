{
 "cells": [
  {
   "cell_type": "code",
   "execution_count": 17,
   "metadata": {},
   "outputs": [],
   "source": [
    "#Imports\n",
    "import os\n",
    "import pickle\n",
    "import random\n",
    "import numpy as np\n",
    "import shutil\n",
    "from torch.utils.data import Dataset,DataLoader\n",
    "import torch.nn.functional as F\n",
    "import pytorch_lightning as pl\n",
    "from pytorch_lightning.loggers import CSVLogger\n",
    "from argparse import Namespace\n",
    "import torch.nn as nn\n",
    "import torch\n",
    "from torch import linalg as LA\n",
    "import wandb\n",
    "import logging\n",
    "from pytorch_lightning.loggers import CSVLogger, TensorBoardLogger, WandbLogger\n",
    "from pytorch_lightning.callbacks import ModelCheckpoint\n",
    "from pytorch_lightning.callbacks.early_stopping import EarlyStopping\n",
    "import os\n",
    "\n",
    "logger = logging.getLogger(__name__)\n",
    "#wandb_logger = lambda dir, version: WandbLogger(\n",
    " #   name=\"wandb\", save_dir=dir, version=version\n",
    "#)\n",
    "def wandb_logger(dir,version,name):\n",
    "    return WandbLogger(\n",
    "    name=name, save_dir=dir, version=version\n",
    ")\n",
    "csvlogger = lambda dir, version: CSVLogger(dir, name=\"csvlogs\", version=version)\n",
    "tblogger = lambda dir, version: TensorBoardLogger(dir, name=\"tblogs\", version=version)\n",
    "\n",
    "def get_loggers(dir,version,name,lis=[\"csv\"]):\n",
    "    lgrs = []\n",
    "    if \"wandb\" in lis:\n",
    "        lgrs.append(wandb_logger(dir, version))\n",
    "    if \"csv\" in lis:\n",
    "        lgrs.append(csvlogger(dir, version))\n",
    "    if \"tb\" in lis:\n",
    "        lgrs.append(tblogger(dir, version))\n",
    "    return lgrs\n",
    "\n",
    "#global vars\n",
    "DATA_DIR = '/common/home/vk405/Projects/Crossmdl/Data/Recipe/'\n",
    "EMB_TRN = DATA_DIR+'embeddings_train1.pkl'\n",
    "EMB_VAL = DATA_DIR+'embeddings_val1.pkl'\n",
    "ING_TRN = DATA_DIR+'ingredients_embeddings_train.pkl'\n",
    "ING_VAL = DATA_DIR+'ingredients_embeddings_val.pkl'\n",
    "#os.listdir(DATA_DIR)"
   ]
  },
  {
   "cell_type": "code",
   "execution_count": null,
   "metadata": {},
   "outputs": [],
   "source": []
  },
  {
   "cell_type": "code",
   "execution_count": 12,
   "metadata": {},
   "outputs": [],
   "source": [
    "\n",
    "\n",
    "\n",
    "with open(ING_TRN, 'rb') as files:\n",
    "    ing_trn = pickle.load(files)\n",
    "with open(ING_VAL, 'rb') as files:\n",
    "    ing_val = pickle.load(files)\n",
    "\n"
   ]
  },
  {
   "cell_type": "code",
   "execution_count": 14,
   "metadata": {},
   "outputs": [
    {
     "data": {
      "text/plain": [
       "2"
      ]
     },
     "execution_count": 14,
     "metadata": {},
     "output_type": "execute_result"
    }
   ],
   "source": [
    "len(ing_trn)"
   ]
  },
  {
   "cell_type": "code",
   "execution_count": 17,
   "metadata": {},
   "outputs": [
    {
     "data": {
      "text/plain": [
       "(281598, 1024)"
      ]
     },
     "execution_count": 17,
     "metadata": {},
     "output_type": "execute_result"
    }
   ],
   "source": [
    "ing_trn[0].shape"
   ]
  },
  {
   "cell_type": "code",
   "execution_count": 18,
   "metadata": {},
   "outputs": [],
   "source": [
    "class RecipeDset(Dataset):\n",
    "    def __init__(self,data_dir= '/common/home/vk405/Projects/Crossmdl/Data/Recipe/'\\\n",
    "        ,split='train',txt_emb_type='total'):\n",
    "        self.DATA_DIR = data_dir\n",
    "        self.init_data_locs()\n",
    "        self.txt_emb_type = txt_emb_type\n",
    "        self.split = split\n",
    "        \n",
    "        if self.split == 'train':\n",
    "            with open(self.EMB_TRN, 'rb') as files:\n",
    "                self.emb_vid,_,_ = pickle.load(files)\n",
    "            if self.txt_emb_type == 'total':\n",
    "                with open(self.EMB_TRN, 'rb') as files:\n",
    "                    self.emb_vid,self.emb_txt,self.ids = pickle.load(files)\n",
    "            elif self.txt_emb_type == 'instructions':\n",
    "                with open(self.INS_TRN, 'rb') as files:\n",
    "                    self.emb_txt,self.ids = pickle.load(files)\n",
    "            elif self.txt_emb_type == 'ingredients':\n",
    "                with open(self.ING_TRN, 'rb') as files:\n",
    "                    self.emb_txt,self.ids = pickle.load(files)\n",
    "            else:\n",
    "                #title\n",
    "                with open(self.TIT_TRN, 'rb') as files:\n",
    "                    self.emb_txt,self.ids = pickle.load(files)\n",
    "\n",
    "\n",
    "            \n",
    "        elif self.split == 'valid':\n",
    "            with open(self.EMB_VAL, 'rb') as files:\n",
    "                    self.emb_vid,_,_ = pickle.load(files)\n",
    "            if self.txt_emb_type == 'total':\n",
    "                with open(self.EMB_VAL, 'rb') as files:\n",
    "                    self.emb_vid,self.emb_txt,self.ids = pickle.load(files)\n",
    "            elif self.txt_emb_type == 'instructions':\n",
    "                with open(self.INS_VAL, 'rb') as files:\n",
    "                    self.emb_txt,self.ids = pickle.load(files)\n",
    "            elif self.txt_emb_type == 'ingredients':\n",
    "                with open(self.ING_VAL, 'rb') as files:\n",
    "                    self.emb_txt,self.ids = pickle.load(files)\n",
    "            else:\n",
    "                #title\n",
    "                with open(self.TIT_VAL, 'rb') as files:\n",
    "                    self.emb_txt,self.ids = pickle.load(files)\n",
    "\n",
    "        elif self.split == 'test':\n",
    "            with open(self.EMB_TST, 'rb') as files:\n",
    "                self.emb_vid,_,_ = pickle.load(files)\n",
    "\n",
    "            if self.txt_emb_type == 'total':\n",
    "                with open(self.EMB_TST, 'rb') as files:\n",
    "                    self.emb_vid,self.emb_txt,self.ids = pickle.load(files)\n",
    "            elif self.txt_emb_type == 'instructions':\n",
    "                with open(self.INS_TST, 'rb') as files:\n",
    "                    self.emb_txt,self.ids = pickle.load(files)\n",
    "            elif self.txt_emb_type == 'ingredients':\n",
    "                with open(self.ING_TST, 'rb') as files:\n",
    "                    self.emb_txt,self.ids = pickle.load(files)\n",
    "            else:\n",
    "                #title\n",
    "                with open(self.TIT_TST, 'rb') as files:\n",
    "                    self.emb_txt,self.ids = pickle.load(files)\n",
    "\n",
    "\n",
    "    def __getitem__(self,idx):\n",
    "        rind = idx+1\n",
    "        if rind == len(self.emb_txt):\n",
    "            rind = idx-1\n",
    "        return self.emb_vid[idx],self.emb_txt[idx],self.emb_vid[rind]\n",
    "\n",
    "    def __len__(self):\n",
    "        return len(self.emb_txt)\n",
    "\n",
    "    def init_data_locs(self):\n",
    "        #TOTAL EMBEDDINGS\n",
    "        self.EMB_TRN = self.DATA_DIR+'embeddings_train1.pkl'\n",
    "        self.EMB_VAL = self.DATA_DIR+'embeddings_val1.pkl'\n",
    "        self.EMB_TST = self.DATA_DIR+'embeddings_test1.pkl'\n",
    "        #INGRIDIENTS Embeddings\n",
    "        self.ING_TRN = self.DATA_DIR+'ingredients_embeddings_train.pkl'\n",
    "        self.ING_VAL = self.DATA_DIR+'ingredients_embeddings_val.pkl'\n",
    "        self.ING_TST = self.DATA_DIR + 'ingredients_embeddings_test.pkl'\n",
    "\n",
    "        #TITLE EMBEDDINGS\n",
    "        self.TIT_TRN = self.DATA_DIR+'title_embeddings_train.pkl'\n",
    "        self.TIT_VAL = self.DATA_DIR+'title_embeddings_val.pkl'\n",
    "        self.TIT_TST = self.DATA_DIR + 'title_embeddings_test.pkl'\n",
    "\n",
    "        #Instructions\n",
    "        self.INS_TRN = self.DATA_DIR+'instructions_embeddings_train.pkl'\n",
    "        self.INS_VAL = self.DATA_DIR+'instructions_embeddings_val.pkl'\n",
    "        self.INS_TST = self.DATA_DIR+'instructions_embeddings_test.pkl'\n",
    "\n",
    "\n",
    "        "
   ]
  },
  {
   "cell_type": "code",
   "execution_count": 5,
   "metadata": {},
   "outputs": [],
   "source": [
    "#trn_data = RecipeDset()\n"
   ]
  },
  {
   "cell_type": "code",
   "execution_count": 19,
   "metadata": {},
   "outputs": [],
   "source": [
    "class EmbModel(nn.Module):\n",
    "    def __init__(self,params):\n",
    "        super().__init__()\n",
    "        self.params = params\n",
    "        self.lyrs = []\n",
    "        dim = self.params['input_dim']\n",
    "        for i in range(self.params['lyrs']):\n",
    "            if \"emb_dim\" not in self.params:\n",
    "                lyr = nn.Linear(dim,dim)\n",
    "            else:\n",
    "                prev_dim = dim\n",
    "                out_dim = self.params['emb_dim'][i]\n",
    "                if i>0:\n",
    "                    prev_dim = self.params['emb_dim'][i-1]\n",
    "                lyr = nn.Linear(prev_dim,out_dim)\n",
    "            if self.params['act'] == 'relu':\n",
    "                non_lin = nn.ReLU()\n",
    "            else:\n",
    "                raise NotImplementedError\n",
    "            self.lyrs.append(lyr)\n",
    "            self.lyrs.append(non_lin)\n",
    "        self.feedforward = nn.Sequential(*self.lyrs)\n",
    "    def forward(self,x):\n",
    "        return self.feedforward(x)\n",
    "\n",
    "\n",
    "\n",
    "\n",
    "\n",
    "class RecipeModel(pl.LightningModule):\n",
    "    def __init__(self,hparams):\n",
    "        super().__init__()\n",
    "        self.save_hyperparameters(hparams)\n",
    "        self.txt_emb = EmbModel(hparams.txt_model)\n",
    "        self.img_emb = EmbModel(hparams.img_model)\n",
    "        self.shared = nn.Linear(hparams.txt_model['fin_dim'],\\\n",
    "            hparams.shared_emb_dim)\n",
    "    def forward(self,x):\n",
    "        # Ignores anchor embedding\n",
    "        img,txt = x\n",
    "        img_emb = self.img_emb(img)\n",
    "        txt_emb = self.txt_emb(txt)\n",
    "        #anch_img_emb = self.img_emb(anch_img)\n",
    "\n",
    "        img_fin_emb = self.shared(img_emb)\n",
    "        txt_fin_emb = self.shared(txt_emb)\n",
    "        #anch_img_fin_emb = self.shared(anch_img_emb)\n",
    "        return img_fin_emb,txt_fin_emb\n",
    "\n",
    "    def training_step(self,batch,batch_idx):\n",
    "        img,txt,anch_img = batch\n",
    "        anch_img_emb = self.img_emb(anch_img)\n",
    "        anch_img_fin_emb = self.shared(anch_img_emb)\n",
    "        img_fin_emb,txt_fin_emb = self((img,txt))\n",
    "\n",
    "        loss,log_losses = self.get_loss(img_fin_emb,txt_fin_emb,anch_img_fin_emb)\n",
    "        self.log(\"train_loss\",loss,on_step=True)\n",
    "        self.log(\"cos_sim_n\",log_losses[0],on_step=True)\n",
    "        self.log(\"cos_sim_p\",log_losses[-1],on_step=True)\n",
    "\n",
    "        return loss\n",
    "\n",
    "    def validation_step(self,batch,batch_idx):\n",
    "        img,txt,anch_img = batch\n",
    "        anch_img_emb = self.img_emb(anch_img)\n",
    "        anch_img_fin_emb = self.shared(anch_img_emb)\n",
    "        img_fin_emb,txt_fin_emb = self((img,txt))\n",
    "        loss,log_losses = self.get_loss(img_fin_emb,txt_fin_emb,anch_img_fin_emb)\n",
    "        #collects batchwise stats for rank over half of batchsize\n",
    "        sz = int(img_fin_emb.shape[0]//2)\n",
    "        median,recall = self.rank('image',img_fin_emb.detach().cpu().numpy(),txt_fin_emb.detach().cpu().numpy(),sz)\n",
    "\n",
    "        self.log(\"val_loss\",loss,on_step=False, on_epoch=True)\n",
    "        self.log(\"val_cos_sim_n\",log_losses[0],on_step=False, on_epoch=True)\n",
    "        self.log(\"val_cos_sim_p\",log_losses[-1],on_step=False, on_epoch=True)\n",
    "        # main metrics\n",
    "        self.log(\"val_medianrank\",median,on_step=False, on_epoch=True)\n",
    "        self.log(\"val_recall_1\",recall[1],on_step=False, on_epoch=True)\n",
    "        self.log(\"val_recall_5\",recall[5],on_step=False, on_epoch=True)\n",
    "        self.log(\"val_recall_10\",recall[10],on_step=False, on_epoch=True)\n",
    "        return loss\n",
    "\n",
    "    # inference code\n",
    "\n",
    "    def get_loss(self,img,txt,anch,reduce='mean'):\n",
    "        #𝐿𝑐𝑜𝑠(𝒂,𝒑,𝒏)=max[𝑑(𝒂,𝒏)−𝑑(𝒂,𝒑)+𝜖,0]\n",
    "        eps = self.hparams.eps if 'eps' in self.hparams else 1e-8\n",
    "        \n",
    "        im_norm,txt_norm,anch_norm = LA.norm(img,dim=-1).reshape(img.shape[0],1),\\\n",
    "        LA.norm(txt,dim=-1).reshape(txt.shape[0],1),LA.norm(anch,dim=-1).reshape(anch.shape[0],1)\n",
    "        normd_img = img/im_norm\n",
    "        normd_txt = txt/txt_norm\n",
    "        normd_anch = anch/anch_norm\n",
    "\n",
    "        cos_sim_p = torch.sum(normd_img*normd_txt,dim=-1)\n",
    "        cos_sim_n = torch.sum(normd_anch*normd_txt,dim=-1)\n",
    "        if 'use_mse' in self.hparams and self.hparams['use_mse']:\n",
    "            #print(f\"USING MSE LOSS\")\n",
    "            loss  = F.mse_loss(img,txt)\n",
    "        else:\n",
    "            unclipped_loss = cos_sim_n-cos_sim_p+eps\n",
    "            loss = torch.relu(unclipped_loss)\n",
    "        if reduce == 'mean':\n",
    "            return torch.mean(loss),(torch.mean(cos_sim_n),torch.mean(cos_sim_p))\n",
    "\n",
    "    def configure_optimizers(self):\n",
    "        lr = self.hparams.lr if 'lr' in self.hparams else 1e-3\n",
    "        optimizer = torch.optim.Adam(self.parameters(), lr=lr)\n",
    "        return optimizer\n",
    "\n",
    "    def squared_sim(self,a,b):\n",
    "        sims = []\n",
    "        for i in range(len(a)):\n",
    "            s = ((b-a[i])**2).sum(axis=-1)\n",
    "            sims.append(s)\n",
    "        return np.stack(sims)\n",
    "\n",
    "    def rank(self,type_embedding , img_embeds, rec_embeds, samples):\n",
    "        random.seed(42)\n",
    "        im_vecs = img_embeds \n",
    "        instr_vecs = rec_embeds \n",
    "\n",
    "\n",
    "        # Sort based on names to always pick same samples for medr\n",
    "    #     idxs = np.argsort(names)\n",
    "    #     names = names[idxs]\n",
    "\n",
    "        # Ranker\n",
    "        N = samples\n",
    "        idxs = range(N)\n",
    "        \n",
    "        glob_rank = []\n",
    "        glob_recall = {1:0.0,5:0.0,10:0.0}\n",
    "        for i in range(10):\n",
    "\n",
    "            ids = random.sample(range(0,len(img_embeds)), N)\n",
    "            im_sub = im_vecs[ids,:]\n",
    "            instr_sub = instr_vecs[ids,:]\n",
    "    #         ids_sub = names[ids]\n",
    "\n",
    "            # if params.embedding == 'image':\n",
    "            if type_embedding == 'image':\n",
    "                if 'use_mse' in self.hparams and self.hparams['use_mse']:\n",
    "                    sims = self.squared_sim(im_sub,instr_sub)\n",
    "                else:\n",
    "                    sims = np.dot(im_sub,instr_sub.T) # for im2recipe\n",
    "            else:\n",
    "                if 'use_mse' in self.hparams and self.hparams['use_mse']:\n",
    "                    sims = self.squared_sim(instr_sub,im_sub)\n",
    "                else:\n",
    "                    sims = np.dot(instr_sub,im_sub.T) # for recipe2im\n",
    "\n",
    "            med_rank = []\n",
    "            recall = {1:0.0,5:0.0,10:0.0}\n",
    "\n",
    "            for ii in idxs:\n",
    "\n",
    "    #             name = ids_sub[ii]\n",
    "                # get a column of similarities\n",
    "                sim = sims[ii,:]\n",
    "\n",
    "                # sort indices in descending order\n",
    "                sorting = np.argsort(sim)[::-1].tolist()\n",
    "\n",
    "                # find where the index of the pair sample ended up in the sorting\n",
    "                pos = sorting.index(ii)\n",
    "\n",
    "                if (pos+1) == 1:\n",
    "                    recall[1]+=1\n",
    "                if (pos+1) <=5:\n",
    "                    recall[5]+=1\n",
    "                if (pos+1)<=10:\n",
    "                    recall[10]+=1\n",
    "\n",
    "                # store the position\n",
    "                med_rank.append(pos+1)\n",
    "\n",
    "            for i in recall.keys():\n",
    "                recall[i]=recall[i]/N\n",
    "\n",
    "            med = np.median(med_rank)\n",
    "            # print \"median\", med\n",
    "\n",
    "            for i in recall.keys():\n",
    "                glob_recall[i]+=recall[i]\n",
    "            glob_rank.append(med)\n",
    "\n",
    "        for i in glob_recall.keys():\n",
    "            glob_recall[i] = glob_recall[i]/10\n",
    "\n",
    "        return np.average(glob_rank), glob_recall\n",
    "\n",
    "\n",
    "\n",
    "\n",
    "        "
   ]
  },
  {
   "cell_type": "code",
   "execution_count": null,
   "metadata": {},
   "outputs": [],
   "source": []
  },
  {
   "cell_type": "code",
   "execution_count": 20,
   "metadata": {},
   "outputs": [],
   "source": [
    "def run(cfg):\n",
    "    pl.seed_everything(cfg.seed)\n",
    "    dir = cfg.artifacts_loc\n",
    "    version = str(cfg.version)\n",
    "    logger_list = get_loggers(dir, version,cfg.version,cfg.loggers)\n",
    "    cbs = []\n",
    "    if \"early_stop\" in cfg.cbs:\n",
    "        #? does'nt really work atm\n",
    "        params = cfg.early_stop\n",
    "        earlystopcb = EarlyStopping(**params, min_delta=0.00, verbose=False)\n",
    "        cbs.append(earlystopcb)\n",
    "    if \"checkpoint\" in cfg.cbs:\n",
    "        store_path = dir + \"ckpts/\" + str(cfg.version) + \"/\"\n",
    "        isExist = os.path.exists(store_path)\n",
    "        # first remove\n",
    "        if isExist and os.path.isdir(store_path):\n",
    "            shutil.rmtree(store_path)\n",
    "        # then create fresh\n",
    "        if not isExist:\n",
    "            os.makedirs(store_path)\n",
    "        fname = \"{epoch}-{val_recall_1:.2f}\"\n",
    "        params = cfg.checkpoint\n",
    "        checkptcb = ModelCheckpoint(**params, dirpath=store_path, filename=fname)\n",
    "        cbs.append(checkptcb)\n",
    "\n",
    "    if 'wandb' in cfg.loggers:\n",
    "        wandb.init(project=\"RecipeRetrieval\", config=cfg)\n",
    "        \n",
    "    if cfg.mode == 'train':\n",
    "        recipedata_trn = RecipeDset(data_dir=cfg.data_dir,split='train',\\\n",
    "            txt_emb_type = cfg.txt_emb_type)\n",
    "        recipedata_vld = RecipeDset(data_dir=cfg.data_dir,split='valid',\\\n",
    "            txt_emb_type = cfg.txt_emb_type)\n",
    "\n",
    "        train_loader = DataLoader(recipedata_trn,batch_size=cfg.batch_size,shuffle=True,\\\n",
    "            num_workers=4,pin_memory=True)    \n",
    "        \n",
    "        valid_loader = DataLoader(recipedata_vld,batch_size=cfg.val_batch_size,shuffle=False)\n",
    "        net = RecipeModel(cfg)\n",
    "        if 'use_cpu' in cfg and cfg.use_cpu:\n",
    "            trainer = pl.Trainer(\n",
    "            logger=logger_list,callbacks=cbs,deterministic=True, **cfg.trainer\n",
    "        )\n",
    "        else:\n",
    "            trainer = pl.Trainer(\n",
    "            logger=logger_list,callbacks=cbs, gpus=1,deterministic=True, **cfg.trainer\n",
    "                   )\n",
    "        trainer.fit(net, train_loader,valid_loader)\n",
    "        return trainer\n",
    "        #trainer.tune(net,train_loader)\n",
    "            \n",
    "    else:\n",
    "        pass\n",
    "    "
   ]
  },
  {
   "cell_type": "code",
   "execution_count": 5,
   "metadata": {},
   "outputs": [],
   "source": [
    "\n",
    "cfg = Namespace(\n",
    "    seed = 0,\n",
    "    version = 'retrieval',\n",
    "    artifacts_loc = \"/common/home/vk405/Projects/Crossmdl/nbs/Recipe/\",\n",
    "    data_dir = \"/common/home/vk405/Projects/Crossmdl/Data/Recipe/\",\n",
    "    mode = 'train',\n",
    "    txt_model = {'input_dim':1024,'lyrs':2,'fin_dim':1024,'act':'relu'},\n",
    "    img_model = {'input_dim':1024,'lyrs':2,'fin_dim':1024,'act':'relu'},\n",
    "    shared_emb_dim = 1024,\n",
    "    txt_emb_type = 'total',\n",
    "    lr = 1e-4,\n",
    "    eps = 0.3,\n",
    "    loggers = [\"csv\"],\n",
    "    cbs = [\"checkpoint\",\"early_stop\"],\n",
    "    trainer = {'log_every_n_steps': 50,\n",
    "    'max_epochs': 10},\n",
    "    checkpoint = {\"every_n_epochs\": 1,\n",
    "    \"monitor\": \"val_recall_1\"},\n",
    "    early_stop = {\"monitor\":\"val_recall_1\",\"patience\":2,\"mode\":'max'},\n",
    "    batch_size=512,\n",
    "    val_batch_size = 2000\n",
    "\n",
    "\n",
    ")"
   ]
  },
  {
   "cell_type": "markdown",
   "metadata": {},
   "source": [
    "STEP 1 : With default hyperparameters I find the best eps. This let's me find a base eps to further tune hyperparameters. I use early stopping on `validatian recall@1`. Below code is commented for brevity."
   ]
  },
  {
   "cell_type": "code",
   "execution_count": null,
   "metadata": {},
   "outputs": [
    {
     "name": "stderr",
     "output_type": "stream",
     "text": [
      "Global seed set to 0\n"
     ]
    },
    {
     "name": "stdout",
     "output_type": "stream",
     "text": [
      "With eps:0.1\n"
     ]
    },
    {
     "name": "stderr",
     "output_type": "stream",
     "text": [
      "GPU available: True, used: True\n",
      "TPU available: False, using: 0 TPU cores\n",
      "IPU available: False, using: 0 IPUs\n",
      "LOCAL_RANK: 0 - CUDA_VISIBLE_DEVICES: [0,1,2,3]\n"
     ]
    }
   ],
   "source": [
    "# # 1. hp tuning -> best eps\n",
    "\n",
    "# import copy\n",
    "# #search over optimal eta\n",
    "# #find best image to recipe retrieval measured on the basis of R@1 (with sample sz =1000)\n",
    "# eps = [0.1,0.3,0.5,0.7,0.9,1.1,1.3,1.5]\n",
    "\n",
    "\n",
    "# for ep in eps:\n",
    "#     print(f\"With eps:{ep}\")\n",
    "#     new_cfg = copy.deepcopy(cfg)\n",
    "#     new_cfg.version += f\"eps_{ep}\"\n",
    "#     new_cfg.eps = ep\n",
    "#     _ = run(new_cfg)\n",
    "    \n",
    "\n"
   ]
  },
  {
   "cell_type": "markdown",
   "metadata": {},
   "source": [
    "Above we trained and stored best models for various eps."
   ]
  },
  {
   "cell_type": "code",
   "execution_count": 5,
   "metadata": {},
   "outputs": [
    {
     "name": "stdout",
     "output_type": "stream",
     "text": [
      "eps:0.1\n",
      "taking epoch with min-val-loss\n",
      "min_val_loss:0.0026270125526934,epoch:3.0,recall_1:0.4291946589946747\n",
      "taking epoch with max-recall-1\n",
      "min_val_loss:0.0027215878944844,epoch:1.0,recall_1:0.4407036900520324\n",
      "eps:0.3\n",
      "taking epoch with min-val-loss\n",
      "min_val_loss:0.010527117177844,epoch:4.0,recall_1:0.5049716830253601\n",
      "taking epoch with max-recall-1\n",
      "min_val_loss:0.0106477253139019,epoch:2.0,recall_1:0.5087153315544128\n",
      "eps:0.5\n",
      "taking epoch with min-val-loss\n",
      "min_val_loss:0.0329511947929859,epoch:3.0,recall_1:0.4995366632938385\n",
      "taking epoch with max-recall-1\n",
      "min_val_loss:0.0343403033912181,epoch:1.0,recall_1:0.5137135982513428\n",
      "eps:defaultbest\n",
      "taking epoch with min-val-loss\n",
      "min_val_loss:0.0328888893127441,epoch:5.0,recall_1:0.4922743439674377\n",
      "taking epoch with max-recall-1\n",
      "min_val_loss:0.0343403033912181,epoch:1.0,recall_1:0.5137135982513428\n",
      "eps:0.7\n",
      "taking epoch with min-val-loss\n",
      "min_val_loss:0.0782195851206779,epoch:3.0,recall_1:0.4124027788639068\n",
      "taking epoch with max-recall-1\n",
      "min_val_loss:0.0834617316722869,epoch:1.0,recall_1:0.4294826686382293\n",
      "eps:0.9\n",
      "taking epoch with min-val-loss\n",
      "min_val_loss:0.1590191125869751,epoch:2.0,recall_1:0.2053986936807632\n",
      "taking epoch with max-recall-1\n",
      "min_val_loss:0.1829883754253387,epoch:0.0,recall_1:0.2197808772325515\n",
      "eps:1.1\n",
      "taking epoch with min-val-loss\n",
      "min_val_loss:0.279838889837265,epoch:2.0,recall_1:0.0625169649720192\n",
      "taking epoch with max-recall-1\n",
      "min_val_loss:0.3180159330368042,epoch:0.0,recall_1:0.0885869413614273\n",
      "eps:1.3\n",
      "taking epoch with min-val-loss\n",
      "min_val_loss:0.4469697773456573,epoch:3.0,recall_1:0.0305418577045202\n",
      "taking epoch with max-recall-1\n",
      "min_val_loss:0.4618954062461853,epoch:1.0,recall_1:0.0355367250740528\n",
      "eps:1.5\n",
      "taking epoch with min-val-loss\n",
      "min_val_loss:0.6316236257553101,epoch:3.0,recall_1:0.0118830883875489\n",
      "taking epoch with max-recall-1\n",
      "min_val_loss:0.6561853885650635,epoch:1.0,recall_1:0.0145245101302862\n"
     ]
    }
   ],
   "source": [
    "import pandas as pd\n",
    "\n",
    "import os\n",
    "met = '/common/home/vk405/Projects/Crossmdl/nbs/Recipe/csvlogs/'\n",
    "dirs = os.listdir(met)\n",
    "filt_dirs = sorted(list(filter(lambda x:'retrievaleps' in x,dirs)),key=lambda x:float(x.split('_')[1]))\n",
    "for dir in filt_dirs:\n",
    "    loc = met+dir+'/metrics.csv'\n",
    "    print(f\"eps:{dir.split('_')[-1]}\")\n",
    "    df = pd.read_csv(loc)\n",
    "    fil_df = df[['val_loss','val_recall_1','epoch']].dropna()\n",
    "    min_loss_id = fil_df['val_loss'].argmin()\n",
    "    max_recall_id = fil_df['val_recall_1'].argmax()\n",
    "    print('taking epoch with min-val-loss')\n",
    "    print(f\"min_val_loss:{fil_df.iloc[min_loss_id]['val_loss']},epoch:{fil_df.iloc[min_loss_id]['epoch']},recall_1:{fil_df.iloc[min_loss_id]['val_recall_1']}\")\n",
    "    print('taking epoch with max-recall-1')\n",
    "\n",
    "    print(f\"min_val_loss:{fil_df.iloc[max_recall_id]['val_loss']},epoch:{fil_df.iloc[max_recall_id]['epoch']},recall_1:{fil_df.iloc[max_recall_id]['val_recall_1']}\")\n",
    "    \n"
   ]
  },
  {
   "cell_type": "markdown",
   "metadata": {},
   "source": [
    "I FOUND `eps = 0.5` to be best. Now I tune for best learning rate."
   ]
  },
  {
   "cell_type": "code",
   "execution_count": 6,
   "metadata": {},
   "outputs": [
    {
     "name": "stderr",
     "output_type": "stream",
     "text": [
      "GPU available: True, used: True\n",
      "TPU available: False, using: 0 TPU cores\n",
      "IPU available: False, using: 0 IPUs\n",
      "/common/home/vk405/miniconda3/envs/Crossmdl/lib/python3.8/site-packages/pytorch_lightning/trainer/configuration_validator.py:122: UserWarning: You defined a `validation_step` but have no `val_dataloader`. Skipping val loop.\n",
      "  rank_zero_warn(\"You defined a `validation_step` but have no `val_dataloader`. Skipping val loop.\")\n",
      "LOCAL_RANK: 0 - CUDA_VISIBLE_DEVICES: [0,1,2,3,4,5]\n",
      "Finding best initial lr:  88%|████████▊ | 88/100 [00:00<00:00, 122.55it/s]Restoring states from the checkpoint path at /common/home/vk405/Projects/Crossmdl/nbs/lr_find_temp_model_7a888bda-859c-480e-a590-32e8131c9de7.ckpt\n",
      "Finding best initial lr: 100%|██████████| 100/100 [00:01<00:00, 86.69it/s]\n"
     ]
    }
   ],
   "source": [
    "# find best learning rate for eps=0.5\n",
    "\n",
    "recipedata_trn = RecipeDset(data_dir=cfg.data_dir,split='train',\\\n",
    "            txt_emb_type = cfg.txt_emb_type)\n",
    "\n",
    "train_loader = DataLoader(recipedata_trn,batch_size=cfg.batch_size,shuffle=True,\\\n",
    "            num_workers=4,pin_memory=True)  \n",
    "\n",
    "net = RecipeModel(cfg)  \n",
    "\n",
    "trainer = pl.Trainer(\n",
    "auto_lr_find=True,callbacks=[], gpus=1,deterministic=True)\n",
    "\n",
    "lr_finder = trainer.tuner.lr_find(net,train_loader)"
   ]
  },
  {
   "cell_type": "code",
   "execution_count": 7,
   "metadata": {},
   "outputs": [
    {
     "data": {
      "image/png": "[encoded data removed]",
      "text/plain": [
       "<Figure size 432x288 with 1 Axes>"
      ]
     },
     "metadata": {
      "needs_background": "light"
     },
     "output_type": "display_data"
    }
   ],
   "source": [
    "# Results can be found in\n",
    "lr_finder.results\n",
    "\n",
    "# Plot with\n",
    "fig = lr_finder.plot(suggest=True)\n",
    "fig.show()"
   ]
  },
  {
   "cell_type": "code",
   "execution_count": 8,
   "metadata": {},
   "outputs": [
    {
     "data": {
      "text/plain": [
       "0.0010964781961431851"
      ]
     },
     "execution_count": 8,
     "metadata": {},
     "output_type": "execute_result"
    }
   ],
   "source": [
    "new_lr = lr_finder.suggestion()\n",
    "new_lr"
   ]
  },
  {
   "cell_type": "markdown",
   "metadata": {},
   "source": [
    "inference = use starting LR = 1e-3 but i still stick with 1e-4 in my experiments."
   ]
  },
  {
   "cell_type": "code",
   "execution_count": 6,
   "metadata": {},
   "outputs": [
    {
     "name": "stderr",
     "output_type": "stream",
     "text": [
      "Global seed set to 0\n",
      "GPU available: True, used: True\n",
      "TPU available: False, using: 0 TPU cores\n",
      "IPU available: False, using: 0 IPUs\n",
      "LOCAL_RANK: 0 - CUDA_VISIBLE_DEVICES: [0,1,2,3]\n"
     ]
    }
   ],
   "source": [
    "# best recall = 0.51,epoch:1.0,eps = 0.5\n",
    "# Now train this model for more epochs and track the validation results(no early stopping.)\n",
    "import copy\n",
    "ep = 0.5\n",
    "lr  = 1e-3\n",
    "new_cfg = copy.deepcopy(cfg)\n",
    "cbs = [\"checkpoint\"]\n",
    "checkpoint = {\"every_n_epochs\": 1,\n",
    "    \"monitor\": \"val_recall_1\",\"save_top_k\":2}\n",
    "\n",
    "new_cfg.version += f\"eps_{ep}_defaultbest\"\n",
    "new_cfg.cbs = cbs\n",
    "new_cfg.checkpoint = checkpoint\n",
    "new_cfg.eps = ep\n",
    "_ = run(new_cfg)\n"
   ]
  },
  {
   "cell_type": "markdown",
   "metadata": {},
   "source": [
    "Now fixing eps=0.5 and tuning over #layers"
   ]
  },
  {
   "cell_type": "markdown",
   "metadata": {},
   "source": []
  },
  {
   "cell_type": "code",
   "execution_count": null,
   "metadata": {},
   "outputs": [
    {
     "data": {
      "text/plain": [
       "0.6316236257553101"
      ]
     },
     "execution_count": 17,
     "metadata": {},
     "output_type": "execute_result"
    }
   ],
   "source": [
    "# Inference:hasn't improved on recall@1. Tuning over #layers\n",
    "txt_model = {'input_dim':1024,'lyrs':2,'fin_dim':1024,'act':'relu'}\n",
    "img_model = {'input_dim':1024,'lyrs':2,'fin_dim':1024,'act':'relu'}\n",
    "lyrs = [1,3,4]\n",
    "\n",
    "for lyr in lyrs:\n",
    "    print(f\"lyr:{lyr}\")\n",
    "    t = copy.deepcopy(txt_model)\n",
    "    i = copy.deepcopy(img_model)\n",
    "    t['lyrs'] = lyr\n",
    "    i['lyrl'] = i\n",
    "    ep = 0.5\n",
    "    new_cfg = copy.deepcopy(cfg)\n",
    "    new_cfg.eps = ep\n",
    "    new_cfg.version += f\"lyr_{lyr}\"\n",
    "    new_cfg.txt_model = t\n",
    "    new_cfg.img_model = i\n",
    "    run(new_cfg)\n"
   ]
  },
  {
   "cell_type": "code",
   "execution_count": 18,
   "metadata": {},
   "outputs": [],
   "source": [
    "import pandas as pd\n",
    "\n",
    "import os\n",
    "met = '/common/home/vk405/Projects/Crossmdl/nbs/Recipe/csvlogs/'\n",
    "dirs = os.listdir(met)\n",
    "filt_dirs = sorted(list(filter(lambda x:'retrievallyr' in x,dirs)),key=lambda x:float(x.split('_')[1]))\n",
    "\n"
   ]
  },
  {
   "cell_type": "code",
   "execution_count": null,
   "metadata": {},
   "outputs": [],
   "source": []
  },
  {
   "cell_type": "code",
   "execution_count": 22,
   "metadata": {},
   "outputs": [
    {
     "name": "stdout",
     "output_type": "stream",
     "text": [
      "layers:1\n",
      "taking epoch with min-val-loss\n",
      "min_val_loss:0.0329307466745376,epoch:2.0,recall_1:0.5373440384864807\n",
      "taking epoch with max-recall-1\n",
      "min_val_loss:0.036457534879446,epoch:0.0,recall_1:0.5445466637611389\n",
      "layers:3\n",
      "taking epoch with min-val-loss\n",
      "min_val_loss:0.0337071418762207,epoch:5.0,recall_1:0.4441097676753998\n",
      "taking epoch with max-recall-1\n",
      "min_val_loss:0.0338795185089111,epoch:4.0,recall_1:0.446059376001358\n",
      "layers:4\n",
      "taking epoch with min-val-loss\n",
      "min_val_loss:0.038360733538866,epoch:9.0,recall_1:0.2205686867237091\n",
      "taking epoch with max-recall-1\n",
      "min_val_loss:0.038360733538866,epoch:9.0,recall_1:0.2205686867237091\n"
     ]
    }
   ],
   "source": [
    "for dir in filt_dirs:\n",
    "    loc = met+dir+'/metrics.csv'\n",
    "    print(f\"layers:{dir.split('_')[-1]}\")\n",
    "    df = pd.read_csv(loc)\n",
    "    fil_df = df[['val_loss','val_recall_1','epoch']].dropna()\n",
    "    min_loss_id = fil_df['val_loss'].argmin()\n",
    "    max_recall_id = fil_df['val_recall_1'].argmax()\n",
    "    print('taking epoch with min-val-loss')\n",
    "    print(f\"min_val_loss:{fil_df.iloc[min_loss_id]['val_loss']},epoch:{fil_df.iloc[min_loss_id]['epoch']},recall_1:{fil_df.iloc[min_loss_id]['val_recall_1']}\")\n",
    "    print('taking epoch with max-recall-1')\n",
    "\n",
    "    print(f\"min_val_loss:{fil_df.iloc[max_recall_id]['val_loss']},epoch:{fil_df.iloc[max_recall_id]['epoch']},recall_1:{fil_df.iloc[max_recall_id]['val_recall_1']}\")\n",
    "    \n",
    "\n"
   ]
  },
  {
   "cell_type": "code",
   "execution_count": 6,
   "metadata": {},
   "outputs": [
    {
     "name": "stderr",
     "output_type": "stream",
     "text": [
      "Global seed set to 0\n"
     ]
    },
    {
     "name": "stdout",
     "output_type": "stream",
     "text": [
      "hidden_dim:256\n"
     ]
    },
    {
     "name": "stderr",
     "output_type": "stream",
     "text": [
      "GPU available: True, used: True\n",
      "TPU available: False, using: 0 TPU cores\n",
      "IPU available: False, using: 0 IPUs\n",
      "LOCAL_RANK: 0 - CUDA_VISIBLE_DEVICES: [0,1,2,3]\n",
      "/common/home/vk405/miniconda3/envs/Crossmdl/lib/python3.8/site-packages/pytorch_lightning/loggers/csv_logs.py:57: UserWarning: Experiment logs directory /common/home/vk405/Projects/Crossmdl/nbs/Recipe/csvlogs/retrievalhiddim_256 exists and is not empty. Previous log files in this directory will be deleted when the new ones are saved!\n",
      "  rank_zero_warn(\n",
      "\n",
      "  | Name    | Type     | Params\n",
      "-------------------------------------\n",
      "0 | txt_emb | EmbModel | 262 K \n",
      "1 | img_emb | EmbModel | 262 K \n",
      "2 | shared  | Linear   | 65.8 K\n",
      "-------------------------------------\n",
      "590 K     Trainable params\n",
      "0         Non-trainable params\n",
      "590 K     Total params\n",
      "2.362     Total estimated model params size (MB)\n"
     ]
    },
    {
     "name": "stdout",
     "output_type": "stream",
     "text": [
      "Validation sanity check:   0%|          | 0/2 [00:00<?, ?it/s]"
     ]
    },
    {
     "name": "stderr",
     "output_type": "stream",
     "text": [
      "/common/home/vk405/miniconda3/envs/Crossmdl/lib/python3.8/site-packages/pytorch_lightning/trainer/data_loading.py:132: UserWarning: The dataloader, val_dataloader 0, does not have many workers which may be a bottleneck. Consider increasing the value of the `num_workers` argument` (try 48 which is the number of cpus on this machine) in the `DataLoader` init to improve performance.\n",
      "  rank_zero_warn(\n"
     ]
    },
    {
     "name": "stdout",
     "output_type": "stream",
     "text": [
      "                                                                      "
     ]
    },
    {
     "name": "stderr",
     "output_type": "stream",
     "text": [
      "Global seed set to 0\n"
     ]
    },
    {
     "name": "stdout",
     "output_type": "stream",
     "text": [
      "Epoch 6: 100%|██████████| 581/581 [00:54<00:00, 10.58it/s, loss=0.0106, v_num=_256] "
     ]
    },
    {
     "name": "stderr",
     "output_type": "stream",
     "text": [
      "Global seed set to 0\n"
     ]
    },
    {
     "name": "stdout",
     "output_type": "stream",
     "text": [
      "\n",
      "hidden_dim:512\n"
     ]
    },
    {
     "name": "stderr",
     "output_type": "stream",
     "text": [
      "GPU available: True, used: True\n",
      "TPU available: False, using: 0 TPU cores\n",
      "IPU available: False, using: 0 IPUs\n",
      "LOCAL_RANK: 0 - CUDA_VISIBLE_DEVICES: [0,1,2,3]\n",
      "/common/home/vk405/miniconda3/envs/Crossmdl/lib/python3.8/site-packages/pytorch_lightning/loggers/csv_logs.py:57: UserWarning: Experiment logs directory /common/home/vk405/Projects/Crossmdl/nbs/Recipe/csvlogs/retrievalhiddim_512 exists and is not empty. Previous log files in this directory will be deleted when the new ones are saved!\n",
      "  rank_zero_warn(\n",
      "\n",
      "  | Name    | Type     | Params\n",
      "-------------------------------------\n",
      "0 | txt_emb | EmbModel | 524 K \n",
      "1 | img_emb | EmbModel | 524 K \n",
      "2 | shared  | Linear   | 262 K \n",
      "-------------------------------------\n",
      "1.3 M     Trainable params\n",
      "0         Non-trainable params\n",
      "1.3 M     Total params\n",
      "5.249     Total estimated model params size (MB)\n"
     ]
    },
    {
     "name": "stdout",
     "output_type": "stream",
     "text": [
      "                                                                      "
     ]
    },
    {
     "name": "stderr",
     "output_type": "stream",
     "text": [
      "Global seed set to 0\n"
     ]
    },
    {
     "name": "stdout",
     "output_type": "stream",
     "text": [
      "Epoch 3: 100%|██████████| 581/581 [00:57<00:00, 10.03it/s, loss=0.0123, v_num=_512]"
     ]
    },
    {
     "name": "stderr",
     "output_type": "stream",
     "text": [
      "Global seed set to 0\n"
     ]
    },
    {
     "name": "stdout",
     "output_type": "stream",
     "text": [
      "\n",
      "hidden_dim:2048\n"
     ]
    },
    {
     "name": "stderr",
     "output_type": "stream",
     "text": [
      "GPU available: True, used: True\n",
      "TPU available: False, using: 0 TPU cores\n",
      "IPU available: False, using: 0 IPUs\n",
      "LOCAL_RANK: 0 - CUDA_VISIBLE_DEVICES: [0,1,2,3]\n",
      "/common/home/vk405/miniconda3/envs/Crossmdl/lib/python3.8/site-packages/pytorch_lightning/loggers/csv_logs.py:57: UserWarning: Experiment logs directory /common/home/vk405/Projects/Crossmdl/nbs/Recipe/csvlogs/retrievalhiddim_2048 exists and is not empty. Previous log files in this directory will be deleted when the new ones are saved!\n",
      "  rank_zero_warn(\n",
      "\n",
      "  | Name    | Type     | Params\n",
      "-------------------------------------\n",
      "0 | txt_emb | EmbModel | 2.1 M \n",
      "1 | img_emb | EmbModel | 2.1 M \n",
      "2 | shared  | Linear   | 4.2 M \n",
      "-------------------------------------\n",
      "8.4 M     Trainable params\n",
      "0         Non-trainable params\n",
      "8.4 M     Total params\n",
      "33.579    Total estimated model params size (MB)\n"
     ]
    },
    {
     "name": "stdout",
     "output_type": "stream",
     "text": [
      "                                                                      "
     ]
    },
    {
     "name": "stderr",
     "output_type": "stream",
     "text": [
      "Global seed set to 0\n"
     ]
    },
    {
     "name": "stdout",
     "output_type": "stream",
     "text": [
      "Epoch 2: 100%|██████████| 581/581 [01:05<00:00,  8.87it/s, loss=0.0119, v_num=2048]\n"
     ]
    }
   ],
   "source": [
    "# inference: layers:1,min_val_loss:0.036457534879446,epoch:0.0,recall_1:0.5445466637611389\n",
    "# searching over embedding layers\n",
    "\n",
    "import copy\n",
    "\n",
    "txt_model = {'input_dim':1024,'lyrs':2,'fin_dim':1024,'act':'relu'}\n",
    "img_model = {'input_dim':1024,'lyrs':2,'fin_dim':1024,'act':'relu'}\n",
    "# 1024 is already there.\n",
    "hidden_dim = [256,512,2048]\n",
    "\n",
    "for hdim in hidden_dim:\n",
    "\n",
    "    print(f\"hidden_dim:{hdim}\")\n",
    "    t = copy.deepcopy(txt_model)\n",
    "    i = copy.deepcopy(img_model)\n",
    "\n",
    "    t['fin_dim'] = hdim\n",
    "    t['lyrs'] = 1\n",
    "    t['emb_dim'] = [hdim]\n",
    "\n",
    "    i['fin_dim'] = hdim\n",
    "    i['lyrs'] = 1\n",
    "    i['emb_dim'] = [hdim]\n",
    "\n",
    "    \n",
    "    \n",
    "    ep = 0.5\n",
    "    new_cfg = copy.deepcopy(cfg)\n",
    "    new_cfg.shared_emb_dim = hdim\n",
    "    new_cfg.img_model = i\n",
    "    new_cfg.txt_model = t\n",
    "    new_cfg.eps = ep\n",
    "    new_cfg.version += f\"hiddim_{hdim}\"\n",
    "\n",
    "    run(new_cfg)\n",
    "\n",
    "\n",
    "\n"
   ]
  },
  {
   "cell_type": "code",
   "execution_count": null,
   "metadata": {},
   "outputs": [],
   "source": []
  },
  {
   "cell_type": "markdown",
   "metadata": {},
   "source": [
    "Best Recall @1 is with layer=1 and hid_dim = 1024 with 0.54. We can use this model to check on the results in test data."
   ]
  },
  {
   "cell_type": "code",
   "execution_count": 11,
   "metadata": {},
   "outputs": [
    {
     "name": "stderr",
     "output_type": "stream",
     "text": [
      "Global seed set to 0\n"
     ]
    }
   ],
   "source": [
    "# Now training on typical cca loss (squared error),just add a  flag `use_mse`\n",
    "\n",
    "# Inference: Not good at all.\n",
    "\n",
    "cfg = Namespace(\n",
    "    seed = 0,\n",
    "    version = 'retrievalMSElyr_1',\n",
    "    use_mse = True,\n",
    "    use_cpu = True,\n",
    "    artifacts_loc = \"/common/home/vk405/Projects/Crossmdl/nbs/Recipe/\",\n",
    "    data_dir = \"/common/home/vk405/Projects/Crossmdl/Data/Recipe/\",\n",
    "    mode = 'train',\n",
    "    txt_model = {'input_dim':1024,'lyrs':1,'fin_dim':1024,'act':'relu'},\n",
    "    img_model = {'input_dim':1024,'lyrs':1,'fin_dim':1024,'act':'relu'},\n",
    "    shared_emb_dim = 1024,\n",
    "    txt_emb_type = 'total',\n",
    "    lr = 1e-4,\n",
    "    eps = 0.5,\n",
    "    loggers = [\"csv\"],\n",
    "    cbs = [\"checkpoint\",\"early_stop\"],\n",
    "    trainer = {'log_every_n_steps': 50,\n",
    "    'max_epochs': 10},\n",
    "    checkpoint = {\"every_n_epochs\": 1,\n",
    "    \"monitor\": \"val_recall_1\"},\n",
    "    early_stop = {\"monitor\":\"val_recall_1\",\"patience\":2,\"mode\":'max'},\n",
    "    batch_size=512,\n",
    "    val_batch_size = 2000\n",
    "\n",
    "\n",
    ")\n",
    "\n",
    "run(cfg)"
   ]
  },
  {
   "cell_type": "code",
   "execution_count": 14,
   "metadata": {},
   "outputs": [
    {
     "name": "stderr",
     "output_type": "stream",
     "text": [
      "Global seed set to 0\n",
      "GPU available: True, used: True\n",
      "TPU available: False, using: 0 TPU cores\n",
      "IPU available: False, using: 0 IPUs\n",
      "LOCAL_RANK: 0 - CUDA_VISIBLE_DEVICES: [0,1,2,3]\n",
      "\n",
      "  | Name    | Type     | Params\n",
      "-------------------------------------\n",
      "0 | txt_emb | EmbModel | 1.0 M \n",
      "1 | img_emb | EmbModel | 1.0 M \n",
      "2 | shared  | Linear   | 1.0 M \n",
      "-------------------------------------\n",
      "3.1 M     Trainable params\n",
      "0         Non-trainable params\n",
      "3.1 M     Total params\n",
      "12.595    Total estimated model params size (MB)\n"
     ]
    },
    {
     "name": "stdout",
     "output_type": "stream",
     "text": [
      "                                                                      "
     ]
    },
    {
     "name": "stderr",
     "output_type": "stream",
     "text": [
      "Global seed set to 0\n"
     ]
    },
    {
     "name": "stdout",
     "output_type": "stream",
     "text": [
      "Epoch 2: 100%|██████████| 581/581 [02:10<00:00,  4.44it/s, loss=0.0302, v_num=yr_1]\n"
     ]
    },
    {
     "data": {
      "text/plain": [
       "<pytorch_lightning.trainer.trainer.Trainer at 0x7fc672699040>"
      ]
     },
     "execution_count": 14,
     "metadata": {},
     "output_type": "execute_result"
    }
   ],
   "source": [
    "# Now just for comparision run on different embeddings - instructions,ingredients,title\n",
    "\n",
    "# with txt_emb_type = 'instructions'\n",
    "cfg = Namespace(\n",
    "    seed = 0,\n",
    "    version = 'retrievalINSlyr_1',\n",
    "    artifacts_loc = \"/common/home/vk405/Projects/Crossmdl/nbs/Recipe/\",\n",
    "    data_dir = \"/common/home/vk405/Projects/Crossmdl/Data/Recipe/\",\n",
    "    mode = 'train',\n",
    "    txt_model = {'input_dim':1024,'lyrs':1,'fin_dim':1024,'act':'relu'},\n",
    "    img_model = {'input_dim':1024,'lyrs':1,'fin_dim':1024,'act':'relu'},\n",
    "    shared_emb_dim = 1024,\n",
    "    txt_emb_type = 'instructions',\n",
    "    lr = 1e-4,\n",
    "    eps = 0.5,\n",
    "    loggers = [\"csv\"],\n",
    "    cbs = [\"checkpoint\",\"early_stop\"],\n",
    "    trainer = {'log_every_n_steps': 50,\n",
    "    'max_epochs': 10},\n",
    "    checkpoint = {\"every_n_epochs\": 1,\n",
    "    \"monitor\": \"val_recall_1\"},\n",
    "    early_stop = {\"monitor\":\"val_recall_1\",\"patience\":2,\"mode\":'max'},\n",
    "    batch_size=512,\n",
    "    val_batch_size = 2000\n",
    "\n",
    "\n",
    ")\n",
    "\n",
    "run(cfg)"
   ]
  },
  {
   "cell_type": "code",
   "execution_count": 15,
   "metadata": {},
   "outputs": [
    {
     "name": "stderr",
     "output_type": "stream",
     "text": [
      "Global seed set to 0\n",
      "GPU available: True, used: True\n",
      "TPU available: False, using: 0 TPU cores\n",
      "IPU available: False, using: 0 IPUs\n",
      "LOCAL_RANK: 0 - CUDA_VISIBLE_DEVICES: [0,1,2,3]\n",
      "\n",
      "  | Name    | Type     | Params\n",
      "-------------------------------------\n",
      "0 | txt_emb | EmbModel | 1.0 M \n",
      "1 | img_emb | EmbModel | 1.0 M \n",
      "2 | shared  | Linear   | 1.0 M \n",
      "-------------------------------------\n",
      "3.1 M     Trainable params\n",
      "0         Non-trainable params\n",
      "3.1 M     Total params\n",
      "12.595    Total estimated model params size (MB)\n"
     ]
    },
    {
     "name": "stdout",
     "output_type": "stream",
     "text": [
      "                                                                      "
     ]
    },
    {
     "name": "stderr",
     "output_type": "stream",
     "text": [
      "Global seed set to 0\n"
     ]
    },
    {
     "name": "stdout",
     "output_type": "stream",
     "text": [
      "Epoch 2: 100%|██████████| 581/581 [02:44<00:00,  3.54it/s, loss=0.0299, v_num=yr_1]\n"
     ]
    },
    {
     "data": {
      "text/plain": [
       "<pytorch_lightning.trainer.trainer.Trainer at 0x7fc668b03ac0>"
      ]
     },
     "execution_count": 15,
     "metadata": {},
     "output_type": "execute_result"
    }
   ],
   "source": [
    "# with txt_emb_type = 'ingredients'\n",
    "cfg = Namespace(\n",
    "    seed = 0,\n",
    "    version = 'retrievalINGlyr_1',\n",
    "    artifacts_loc = \"/common/home/vk405/Projects/Crossmdl/nbs/Recipe/\",\n",
    "    data_dir = \"/common/home/vk405/Projects/Crossmdl/Data/Recipe/\",\n",
    "    mode = 'train',\n",
    "    txt_model = {'input_dim':1024,'lyrs':1,'fin_dim':1024,'act':'relu'},\n",
    "    img_model = {'input_dim':1024,'lyrs':1,'fin_dim':1024,'act':'relu'},\n",
    "    shared_emb_dim = 1024,\n",
    "    txt_emb_type = 'ingredients',\n",
    "    lr = 1e-4,\n",
    "    eps = 0.5,\n",
    "    loggers = [\"csv\"],\n",
    "    cbs = [\"checkpoint\",\"early_stop\"],\n",
    "    trainer = {'log_every_n_steps': 50,\n",
    "    'max_epochs': 10},\n",
    "    checkpoint = {\"every_n_epochs\": 1,\n",
    "    \"monitor\": \"val_recall_1\"},\n",
    "    early_stop = {\"monitor\":\"val_recall_1\",\"patience\":2,\"mode\":'max'},\n",
    "    batch_size=512,\n",
    "    val_batch_size = 2000\n",
    "\n",
    "\n",
    ")\n",
    "\n",
    "run(cfg)"
   ]
  },
  {
   "cell_type": "code",
   "execution_count": 22,
   "metadata": {},
   "outputs": [
    {
     "name": "stderr",
     "output_type": "stream",
     "text": [
      "Global seed set to 0\n",
      "GPU available: True, used: True\n",
      "TPU available: False, using: 0 TPU cores\n",
      "IPU available: False, using: 0 IPUs\n",
      "LOCAL_RANK: 0 - CUDA_VISIBLE_DEVICES: [0,1,2,3]\n",
      "\n",
      "  | Name    | Type     | Params\n",
      "-------------------------------------\n",
      "0 | txt_emb | EmbModel | 1.0 M \n",
      "1 | img_emb | EmbModel | 1.0 M \n",
      "2 | shared  | Linear   | 1.0 M \n",
      "-------------------------------------\n",
      "3.1 M     Trainable params\n",
      "0         Non-trainable params\n",
      "3.1 M     Total params\n",
      "12.595    Total estimated model params size (MB)\n"
     ]
    },
    {
     "name": "stdout",
     "output_type": "stream",
     "text": [
      "Validation sanity check:   0%|          | 0/2 [00:00<?, ?it/s]"
     ]
    },
    {
     "name": "stderr",
     "output_type": "stream",
     "text": [
      "/common/home/vk405/miniconda3/envs/Crossmdl/lib/python3.8/site-packages/pytorch_lightning/trainer/data_loading.py:132: UserWarning: The dataloader, val_dataloader 0, does not have many workers which may be a bottleneck. Consider increasing the value of the `num_workers` argument` (try 48 which is the number of cpus on this machine) in the `DataLoader` init to improve performance.\n",
      "  rank_zero_warn(\n"
     ]
    },
    {
     "name": "stdout",
     "output_type": "stream",
     "text": [
      "                                                                      "
     ]
    },
    {
     "name": "stderr",
     "output_type": "stream",
     "text": [
      "Global seed set to 0\n"
     ]
    },
    {
     "name": "stdout",
     "output_type": "stream",
     "text": [
      "Epoch 2: 100%|██████████| 581/581 [02:47<00:00,  3.47it/s, loss=0.0595, v_num=yr_1]\n"
     ]
    },
    {
     "data": {
      "text/plain": [
       "<pytorch_lightning.trainer.trainer.Trainer at 0x7fc6726e3400>"
      ]
     },
     "execution_count": 22,
     "metadata": {},
     "output_type": "execute_result"
    }
   ],
   "source": [
    "# with txt_emb_type = 'ingredients'\n",
    "cfg = Namespace(\n",
    "    seed = 0,\n",
    "    version = 'retrievalTITlyr_1',\n",
    "    artifacts_loc = \"/common/home/vk405/Projects/Crossmdl/nbs/Recipe/\",\n",
    "    data_dir = \"/common/home/vk405/Projects/Crossmdl/Data/Recipe/\",\n",
    "    mode = 'train',\n",
    "    txt_model = {'input_dim':1024,'lyrs':1,'fin_dim':1024,'act':'relu'},\n",
    "    img_model = {'input_dim':1024,'lyrs':1,'fin_dim':1024,'act':'relu'},\n",
    "    shared_emb_dim = 1024,\n",
    "    txt_emb_type = 'title',\n",
    "    lr = 1e-4,\n",
    "    eps = 0.5,\n",
    "    loggers = [\"csv\"],\n",
    "    cbs = [\"checkpoint\",\"early_stop\"],\n",
    "    trainer = {'log_every_n_steps': 50,\n",
    "    'max_epochs': 10},\n",
    "    checkpoint = {\"every_n_epochs\": 1,\n",
    "    \"monitor\": \"val_recall_1\"},\n",
    "    early_stop = {\"monitor\":\"val_recall_1\",\"patience\":2,\"mode\":'max'},\n",
    "    batch_size=512,\n",
    "    val_batch_size = 2000\n",
    "\n",
    "\n",
    ")\n",
    "\n",
    "run(cfg)"
   ]
  },
  {
   "cell_type": "code",
   "execution_count": null,
   "metadata": {},
   "outputs": [],
   "source": [
    "\n",
    "\n"
   ]
  }
 ],
 "metadata": {
  "interpreter": {
   "hash": "ba0eaf5009993b745d4aa7d6cba132d7a7c20d53b6841ddae3db28e24457bb23"
  },
  "kernelspec": {
   "display_name": "Python 3 (ipykernel)",
   "language": "python",
   "name": "python3"
  },
  "language_info": {
   "codemirror_mode": {
    "name": "ipython",
    "version": 3
   },
   "file_extension": ".py",
   "mimetype": "text/x-python",
   "name": "python",
   "nbconvert_exporter": "python",
   "pygments_lexer": "ipython3",
   "version": "3.8.12"
  }
 },
 "nbformat": 4,
 "nbformat_minor": 4
}
