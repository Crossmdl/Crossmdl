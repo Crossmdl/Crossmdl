{
 "cells": [
  {
   "cell_type": "markdown",
   "metadata": {},
   "source": [
    "## Imports"
   ]
  },
  {
   "cell_type": "code",
   "execution_count": 1,
   "metadata": {},
   "outputs": [
    {
     "name": "stderr",
     "output_type": "stream",
     "text": [
      "/common/home/vk405/miniconda3/envs/Crossmdl/lib/python3.8/site-packages/tqdm/auto.py:22: TqdmWarning: IProgress not found. Please update jupyter and ipywidgets. See https://ipywidgets.readthedocs.io/en/stable/user_install.html\n",
      "  from .autonotebook import tqdm as notebook_tqdm\n"
     ]
    }
   ],
   "source": [
    "# pad your sequences\n",
    "\n",
    "from torch.nn.utils.rnn import pad_sequence\n",
    "from pytorch_lightning.callbacks import LearningRateMonitor\n",
    "import torch\n",
    "import numpy as np\n",
    "from PIL import Image\n",
    "import os\n",
    "from collections import defaultdict\n",
    "import json\n",
    "import joblib\n",
    "from torch.utils.data import Dataset,DataLoader,random_split\n",
    "from itertools import repeat\n",
    "import pandas as pd\n",
    "import math\n",
    "import torch.nn as nn\n",
    "import torch.nn.functional as F\n",
    "from numpy import linalg as LA\n",
    "from argparse import Namespace\n",
    "from numpy import genfromtxt\n",
    "import os\n",
    "from torch.optim.lr_scheduler import ReduceLROnPlateau\n",
    "\n",
    "import pytorch_lightning as pl\n",
    "import wandb\n",
    "import logging\n",
    "from pytorch_lightning.loggers import CSVLogger, TensorBoardLogger, WandbLogger\n",
    "from pytorch_lightning.callbacks import ModelCheckpoint\n",
    "from pytorch_lightning.callbacks.early_stopping import EarlyStopping\n",
    "\n",
    "import clip\n",
    "\n",
    "\n",
    "import wandb\n",
    "import logging\n",
    "from pytorch_lightning.loggers import CSVLogger, TensorBoardLogger, WandbLogger\n",
    "from pytorch_lightning.callbacks import ModelCheckpoint\n",
    "from pytorch_lightning.callbacks.early_stopping import EarlyStopping\n",
    "import os\n",
    "\n",
    "logger = logging.getLogger(__name__)\n",
    "wandb_logger = lambda dir, version: WandbLogger(\n",
    "    name=\"wandb\", save_dir=dir, version=version\n",
    ")\n",
    "csvlogger = lambda dir, version: CSVLogger(dir, name=\"csvlogs\", version=version)\n",
    "tblogger = lambda dir, version: TensorBoardLogger(dir, name=\"tblogs\", version=version)\n",
    "\n",
    "def get_loggers(dir,version,lis=[\"csv\"]):\n",
    "    lgrs = []\n",
    "    if \"wandb\" in lis:\n",
    "        lgrs.append(wandb_logger(dir, version))\n",
    "    if \"csv\" in lis:\n",
    "        lgrs.append(csvlogger(dir, version))\n",
    "    if \"tb\" in lis:\n",
    "        lgrs.append(tblogger(dir, version))\n",
    "    return lgrs\n",
    "\n",
    "\n",
    "\n",
    "\n",
    "\n",
    "\n",
    "\n",
    "def get_vid_ids(split='training',\\\n",
    "    annotns_file='/common/home/vk405/Projects/Crossmdl/Data/YouCookII/annotations/youcookii_annotations_trainval.json'):\n",
    "    # Returns vid_ids corresponding to the split: 'training'/'validation'\n",
    "    \n",
    "    vid_lis = []\n",
    "    with open(annotns_file) as json_file:\n",
    "        annotns = json.load(json_file)['database']\n",
    "        for key in annotns:\n",
    "            if annotns[key]['subset'] == split:\n",
    "                vid_lis.append(key)\n",
    "    return vid_lis\n",
    "\n",
    "\n",
    "def get_split_files(split='training',\\\n",
    "    annotns_file='/common/home/vk405/Projects/Crossmdl/Data/YouCookII/annotations/youcookii_annotations_trainval.json',\\\n",
    "        data_dir = '/common/users/vk405/Youcook/'):\n",
    "    total_ids = get_vid_ids(split,annotns_file)\n",
    "    downloaded_ids = set([dir for dir in os.listdir(data_dir) if 'joblib' not in dir])\n",
    "    vid_locs = []\n",
    "    sents = {}\n",
    "    segs = {}\n",
    "    incomplete = []\n",
    "    for id in total_ids:\n",
    "        if id in downloaded_ids:\n",
    "            vid_loc = data_dir+id + '/'\n",
    "            if len(os.listdir(vid_loc))>=495:\n",
    "                vid_locs.append(vid_loc)\n",
    "                seg = joblib.load(data_dir+f'{id}global_segs.joblib')\n",
    "                sent = joblib.load(data_dir+f'{id}global_sents.joblib')\n",
    "                try:\n",
    "                    sents[id] = sent[id]\n",
    "                    segs[id] = seg[id]\n",
    "                except:\n",
    "                    print(f\"{id} is no corresponding global sent/seg\")\n",
    "            else:\n",
    "                #print(f\"{id} has only imgs {len(os.listdir(vid_loc))}\")\n",
    "                incomplete.append(id)\n",
    "    return vid_locs,segs,sents,incomplete \n",
    "\n"
   ]
  },
  {
   "cell_type": "markdown",
   "metadata": {},
   "source": [
    "## Dataset"
   ]
  },
  {
   "cell_type": "code",
   "execution_count": 8,
   "metadata": {},
   "outputs": [],
   "source": [
    "import pathlib\n",
    "\n",
    "FEAT_DIR = pathlib.Path('/common/users/vk405/CLIP_FEAT')\n",
    "RAWFRAME_DIR = pathlib.Path('/common/users/vk405/Youcook/')\n",
    "\n",
    "class Dset(Dataset):\n",
    "    def __init__(self,data_dir,feat_dir,split):\n",
    "        self.data_dir = data_dir\n",
    "        self.feat_dir = feat_dir\n",
    "        self.split = split\n",
    "        self.vid_ids,self.sents = self.get_ids()\n",
    "        self.labels = self.getlabels()\n",
    "        self.sanitycheck()\n",
    "        self.data = self.getdata()\n",
    "        \n",
    "\n",
    "\n",
    "    def sanitycheck(self):\n",
    "        mis = []\n",
    "        #import pdb;pdb.set_trace()\n",
    "        for key in self.labels.keys():\n",
    "            txt_loc = self.feat_dir/self.split/f'txt_{key}.joblib'\n",
    "            txt = joblib.load(txt_loc)\n",
    "            if len(self.labels[key]) == len(self.sents[key]) == len(txt):\n",
    "                pass\n",
    "            else:\n",
    "                print(key)\n",
    "                mis.append(key)\n",
    "        print(f\"segs are not matching:{mis}\")\n",
    "        for key in mis:\n",
    "            self.vid_ids.remove(key)\n",
    "        self.sents = None\n",
    "\n",
    "        \n",
    "        \n",
    "\n",
    "    def __len__(self):\n",
    "        return len(self.data)\n",
    "\n",
    "    def __getitem__(self,idx):\n",
    "        return self.load(self.data[idx])\n",
    "\n",
    "    def getdata(self):\n",
    "        data = []\n",
    "        for id in self.vid_ids:\n",
    "            segs = self.labels[id]\n",
    "            #import pdb;pdb.set_trace()\n",
    "            for i in range(len(segs)):\n",
    "                data.append((id,i))\n",
    "        return data\n",
    "\n",
    "    def load(self,data):\n",
    "        vid_id,ind = data\n",
    "        vid_frames_loc = self.feat_dir/self.split/f'vid_{vid_id}.joblib'\n",
    "        txt_loc = self.feat_dir/self.split/f'txt_{vid_id}.joblib'\n",
    "        st,end = self.labels[vid_id][ind]\n",
    "        vid = joblib.load(vid_frames_loc)\n",
    "        try:\n",
    "            txt = joblib.load(txt_loc)[ind]\n",
    "        except:\n",
    "            import pdb;pdb.set_trace()\n",
    "        #normalize data\n",
    "        #import pdb;pdb.set_trace()\n",
    "        vid = vid/(LA.norm(vid,axis=-1)).reshape(500,1)\n",
    "        txt = (txt/LA.norm(txt))\n",
    "        #out = np.squeeze(vid@txt.reshape(512,1))\n",
    "        #regression outputs\n",
    "        return vid,txt,st/499,end/499\n",
    "         \n",
    "\n",
    "    def getlabels(self):\n",
    "        label_dict = {}\n",
    "        for vidid in self.vid_ids:\n",
    "            vidloc = self.data_dir/vidid\n",
    "            segs = self.extract_seg(vidloc)\n",
    "            label_dict[vidid] = segs\n",
    "        return label_dict\n",
    "    \n",
    "    def extract_seg(self,vid_loc):\n",
    "        imgs = sorted(os.listdir(vid_loc),key=lambda x: int(x.split('_')[0]))\n",
    "        segs = defaultdict(list)\n",
    "        for img in imgs:\n",
    "            ind,rem = int(img.split('_')[0]),img.split('_')[-1]\n",
    "            \n",
    "            if 'n.' not in rem:\n",
    "                #print(ind,rem)\n",
    "                seg_id = int(rem.split('.')[0])\n",
    "                segs[seg_id].append(ind)\n",
    "                #print(seg_id,ind)\n",
    "        final_segs = []\n",
    "        #import pdb;pdb.set_trace()\n",
    "        segids = sorted(segs.keys())\n",
    "        for segid in segids:\n",
    "            final_segs.append((min(segs[segid]),max(segs[segid])))\n",
    "        return final_segs\n",
    "        \n",
    "    def get_ids(self):\n",
    "        annotns_file='/common/home/vk405/Projects/Crossmdl/Data/YouCookII/annotations/youcookii_annotations_trainval.json'\n",
    "        data_dir = '/common/users/vk405/Youcook/'\n",
    "        vid_locs,_,sents,_ = get_split_files(self.split,annotns_file,data_dir)\n",
    "        ids = [ele.split('/')[-2] for ele in vid_locs]\n",
    "        files = set(os.listdir(self.feat_dir/self.split))\n",
    "        finids = []\n",
    "        missing = []\n",
    "        for id in ids:\n",
    "            if f'vid_{id}.joblib' in files:\n",
    "                finids.append(id)\n",
    "            else:missing.append(id)\n",
    "        print(f\"missing:{missing}\")\n",
    "        return finids,sents\n",
    "\n",
    "        "
   ]
  },
  {
   "cell_type": "markdown",
   "metadata": {},
   "source": [
    "## Model"
   ]
  },
  {
   "cell_type": "markdown",
   "metadata": {},
   "source": []
  },
  {
   "cell_type": "code",
   "execution_count": 9,
   "metadata": {},
   "outputs": [],
   "source": [
    "class ClipLstm(pl.LightningModule):\n",
    "    \n",
    "    def __init__(self,hparams):\n",
    "        super().__init__()\n",
    "        self.save_hyperparameters(hparams)\n",
    "        self.vid_encoder,self.text_encoder,self.finlin = self.get_nets(**self.hparams.network_params)\n",
    "        \n",
    "    def get_nets(self,bidirectional = True,vid_lyrs = 2,vid_hidim=64,vid_fsz=64\\\n",
    "        ,txt_lyrs=2,txt_fsz=64,act='Relu'):\n",
    "        vid_enc = []\n",
    "        last_dim = 512\n",
    "        \n",
    "        self.lstm = nn.LSTM(last_dim,vid_hidim,\\\n",
    "        vid_lyrs,bidirectional=bidirectional,batch_first=True)\n",
    "        vid_enc.append(self.lstm)\n",
    "        if act == 'Relu':\n",
    "            self.activation = nn.ReLU()\n",
    "        vid_enc.append(self.activation)\n",
    "        self.vidfinlyr = nn.Linear(vid_hidim,vid_fsz)\n",
    "        vid_enc.append(self.vidfinlyr)\n",
    "        self.txtlyr = nn.Linear(512,txt_fsz)\n",
    "        txt_enc = nn.Sequential(self.txtlyr,self.activation)\n",
    "        \n",
    "        return vid_enc,txt_enc,nn.Linear(txt_fsz,2)\n",
    "            \n",
    "\n",
    "\n",
    "\n",
    "    def forward(self,vid,txt):\n",
    "        # modeling end = st+diff(positive/sigmoid)\n",
    "        #fixing for now\n",
    "        #torch.squeeze(self.start(self.shared(input)))\n",
    "        lstm,act,lin = self.vid_encoder\n",
    "        hiddens, (final_h, final_c) = lstm(vid.float())\n",
    "        vid_out = lin(act(torch.mean(final_h,dim=0)))\n",
    "        txt_out = self.text_encoder(txt.float())\n",
    "        preds = self.finlin(vid_out+txt_out)\n",
    "        st_p = preds[:,0]\n",
    "        diff = torch.sigmoid(preds[:,-1])\n",
    "        fin_pred = torch.stack([st_p,st_p+diff],-1)\n",
    "        return fin_pred\n",
    "\n",
    "    def giou(self,p,g):\n",
    "        x1_p,_ = torch.min(p,1)\n",
    "        x2_p,_ = torch.max(p,1)\n",
    "\n",
    "        x1_g,_ = torch.min(g,1)\n",
    "        x2_g,_ = torch.max(g,1)\n",
    "\n",
    "        x_1_i,_ =  torch.max(torch.stack([x1_g,x1_p],1),1)\n",
    "        x_2_i,_ = torch.min(torch.stack([x2_g,x2_p],1),1)\n",
    "\n",
    "        x_1_c,_ = torch.min(torch.stack([x1_p,x1_g],1),1)\n",
    "        x_2_c,_ = torch.max(torch.stack([x2_p,x2_g],1),1)\n",
    "\n",
    "        I = x_2_i - x_1_i\n",
    "        U = (x2_p-x1_p) + (x2_g-x1_g) - I\n",
    "        AC = x_2_c-x_1_c\n",
    "\n",
    "        return (I/U) - ((AC-U)/AC),(I/U)\n",
    "\n",
    "\n",
    "        \n",
    "    def training_step(self,batch,batch_idx):\n",
    "\n",
    "        vid,txt,st,end = batch\n",
    "        loss_fn = nn.MSELoss()\n",
    "        # forward\n",
    "        lstm,act,lin = self.vid_encoder\n",
    "        hiddens, (final_h, final_c) = lstm(vid.float())\n",
    "        vid_out = lin(act(torch.mean(final_h,dim=0)))\n",
    "        txt_out = self.text_encoder(txt.float())\n",
    "        preds = self.finlin(vid_out+txt_out)\n",
    "        st_p = preds[:,0]\n",
    "        diff = torch.sigmoid(preds[:,-1])\n",
    "        fin_preds = torch.stack([st_p,st_p+diff],-1)\n",
    "\n",
    "\n",
    "        grounds = torch.stack([torch.squeeze(st),torch.squeeze(end)],1)\n",
    "        giou,iou = self.giou(fin_preds,grounds)\n",
    "        loss = torch.mean(-1*giou)\n",
    "        #preds = self(vid,txt)\n",
    "        #st_loss = loss_fn(preds[:,0].float(),torch.squeeze(st).float())\n",
    "        #end_loss = loss_fn(preds[:,1].float(),torch.squeeze(end).float())\n",
    "        #loss_end = nn.CrossEntropyLoss()\n",
    "        #import pdb;pdb.set_trace()\n",
    "        #st_l = loss_st(torch.squeeze(self.start(self.shared(input))).float(),st.float())\n",
    "        #end_l = loss_st(torch.squeeze(self.end(self.shared(input))).float(),end.float())\n",
    "        #loss = st_loss + end_loss\n",
    "        self.log(\"train_loss\",loss,on_step=True)\n",
    "        self.log(\"train_iou\",torch.mean(iou),on_step=True)\n",
    "        return loss\n",
    "\n",
    "    def validation_step(self,batch,batch_idx):\n",
    "\n",
    "\n",
    "        vid,txt,st,end = batch\n",
    "        loss_fn = nn.MSELoss()\n",
    "        # forward\n",
    "        lstm,act,lin = self.vid_encoder\n",
    "        hiddens, (final_h, final_c) = lstm(vid.float())\n",
    "        vid_out = lin(act(torch.mean(final_h,dim=0)))\n",
    "        txt_out = self.text_encoder(txt.float())\n",
    "        preds = self.finlin(vid_out+txt_out)\n",
    "        st_p = preds[:,0]\n",
    "        diff = torch.sigmoid(preds[:,-1])\n",
    "        fin_preds = torch.stack([st_p,st_p+diff],-1)\n",
    "\n",
    "        grounds = torch.stack([torch.squeeze(st),torch.squeeze(end)],1)\n",
    "        giou,iou = self.giou(fin_preds,grounds)\n",
    "        loss = torch.mean(-1*giou)\n",
    "        #loss = torch.mean(-1*self.giou(preds,grounds))\n",
    "        #preds = self(vid,txt)\n",
    "        #st_loss = loss_fn(preds[:,0].float(),torch.squeeze(st).float())\n",
    "        #end_loss = loss_fn(preds[:,1].float(),torch.squeeze(end).float())\n",
    "        #loss_end = nn.CrossEntropyLoss()\n",
    "        #import pdb;pdb.set_trace()\n",
    "        #st_l = loss_st(torch.squeeze(self.start(self.shared(input))).float(),st.float())\n",
    "        #end_l = loss_st(torch.squeeze(self.end(self.shared(input))).float(),end.float())\n",
    "        #loss = st_loss + end_loss\n",
    "        self.log(\"val_loss\",loss,on_step=False,on_epoch=True)\n",
    "        self.log(\"val_iou\",torch.mean(iou),on_step=False,on_epoch=True)\n",
    "\n",
    "        return loss\n",
    "        \n",
    "    def configure_optimizers(self):\n",
    "        \n",
    "        optimizer = torch.optim.Adam(self.parameters(), lr=self.hparams.lr)\n",
    "        return optimizer"
   ]
  },
  {
   "cell_type": "markdown",
   "metadata": {},
   "source": [
    "## Inference"
   ]
  },
  {
   "cell_type": "code",
   "execution_count": 15,
   "metadata": {},
   "outputs": [],
   "source": [
    "from pathlib import Path\n",
    "from tqdm import tqdm\n",
    "\n",
    "def get_model(cfg):\n",
    "    hparams = cfg    \n",
    "    PATH = Path(cfg.artifacts_loc)/'ckpts'/cfg.version\n",
    "    ckpt = os.listdir(PATH)[-1]\n",
    "    net = ClipLstm(hparams)\n",
    "    print(f\"loading ckpt:{ckpt}\")\n",
    "    new_model = net.load_from_checkpoint(checkpoint_path=str(PATH/ckpt))\n",
    "    return new_model \n",
    "    \n",
    "def inference(cfg,dset):\n",
    "    from collections import defaultdict\n",
    "    storage_p = defaultdict(list)\n",
    "    storage_g = defaultdict(list)\n",
    "    data = dset.data\n",
    "    model = get_model(cfg)\n",
    "    model.eval()\n",
    "    for i,ele in tqdm(enumerate(data)):\n",
    "        key,id = ele\n",
    "        v,t,st,end = dset[i]\n",
    "        storage_g[key].append((st*499,end*499))\n",
    "        v_t = torch.unsqueeze(torch.tensor(v),0)\n",
    "        t_t = torch.unsqueeze(torch.tensor(t),0)\n",
    "        preds = model(v_t,t_t)\n",
    "        p_s,p_en = preds.detach().cpu().numpy()[0]\n",
    "        storage_p[key].append((p_s*499,p_en*499))\n",
    "    return storage_g,storage_p\n",
    "        "
   ]
  },
  {
   "cell_type": "code",
   "execution_count": 12,
   "metadata": {},
   "outputs": [
    {
     "name": "stdout",
     "output_type": "stream",
     "text": [
      "missing:[]\n",
      "95WMX64RIBc\n",
      "segs are not matching:['95WMX64RIBc']\n"
     ]
    }
   ],
   "source": [
    "dset = Dset(RAWFRAME_DIR,FEAT_DIR,'validation')"
   ]
  },
  {
   "cell_type": "code",
   "execution_count": 16,
   "metadata": {},
   "outputs": [
    {
     "name": "stdout",
     "output_type": "stream",
     "text": [
      "loading ckpt:epoch=37-val_loss=-0.08.ckpt\n"
     ]
    },
    {
     "name": "stderr",
     "output_type": "stream",
     "text": [
      "3190it [17:00,  3.12it/s]\n"
     ]
    }
   ],
   "source": [
    "storage_g,storage_p = inference(cfg,dset)"
   ]
  },
  {
   "cell_type": "code",
   "execution_count": 18,
   "metadata": {},
   "outputs": [
    {
     "data": {
      "text/plain": [
       "[(114.0, 144.0),\n",
       " (162.0, 214.0),\n",
       " (220.0, 236.0),\n",
       " (239.0, 330.0),\n",
       " (370.0, 390.0),\n",
       " (394.0, 446.0)]"
      ]
     },
     "execution_count": 18,
     "metadata": {},
     "output_type": "execute_result"
    }
   ],
   "source": [
    "storage_g['xHr8X2Wpmno']"
   ]
  },
  {
   "cell_type": "code",
   "execution_count": 19,
   "metadata": {},
   "outputs": [
    {
     "data": {
      "text/plain": [
       "[(94.71300037205219, 393.74310952425003),\n",
       " (-6.720294576138258, 253.89936435222626),\n",
       " (91.82084080576897, 383.61449468135834),\n",
       " (179.34255021810532, 404.63352459669113),\n",
       " (259.811026930809, 522.0150934457779),\n",
       " (306.29812145233154, 580.539303779602)]"
      ]
     },
     "execution_count": 19,
     "metadata": {},
     "output_type": "execute_result"
    }
   ],
   "source": [
    "storage_p['xHr8X2Wpmno']"
   ]
  },
  {
   "cell_type": "code",
   "execution_count": 24,
   "metadata": {},
   "outputs": [
    {
     "data": {
      "text/plain": [
       "[(213.14125263690948, 437.02438521385193),\n",
       " (151.20314341783524, 367.20192766189575),\n",
       " (141.84715515375137, 403.773930311203),\n",
       " (82.40210284292698, 330.2314023375511),\n",
       " (206.77641513943672, 441.81284379959106),\n",
       " (173.47858008742332, 466.7693039178848),\n",
       " (228.37153175473213, 495.7006403207779),\n",
       " (229.8484658896923, 495.4977949857712)]"
      ]
     },
     "execution_count": 24,
     "metadata": {},
     "output_type": "execute_result"
    }
   ],
   "source": [
    "storage_p['DBgap0YANhs']"
   ]
  },
  {
   "cell_type": "code",
   "execution_count": null,
   "metadata": {},
   "outputs": [],
   "source": [
    "#restrain the outputs between 0,499"
   ]
  },
  {
   "cell_type": "code",
   "execution_count": null,
   "metadata": {},
   "outputs": [],
   "source": []
  },
  {
   "cell_type": "code",
   "execution_count": 3,
   "metadata": {},
   "outputs": [],
   "source": [
    "#preds: list of lists corresponding to each video. [[(23,67),(89,102)]]\n",
    "def stats(preds,labels,sz=500):\n",
    "    accs = []\n",
    "    recalls = []\n",
    "    ious = []\n",
    "    for pred,label in zip(preds,labels):\n",
    "        # note: during inference we ensure that intervals are non-overlapping\n",
    "        #pred = sorted(pred,key=lambda x: x[0])\n",
    "        #label = sorted(label,key=lambda x: x[0])\n",
    "        pred_sz = len(pred)\n",
    "        pred_lis = np.zeros(sz)\n",
    "        label_lis = np.zeros(sz)\n",
    "        for ind in range(1,pred_sz+1):\n",
    "            p_st,p_end = pred[ind-1]\n",
    "            l_st,l_end = label[ind-1]\n",
    "            pred_lis[p_st:l_end+1] = ind\n",
    "            label_lis[l_st:l_end+1] = ind\n",
    "        acc = np.mean(pred_lis == label_lis)\n",
    "        accs.append(acc)\n",
    "        #calc recall\n",
    "        #calc iou\n",
    "        inter_cnt = 0\n",
    "        union_cnt = 0\n",
    "        recall_score = 0\n",
    "        for p_seg,l_seg in zip(pred,label):\n",
    "            ps = set(range(p_seg[0],p_seg[-1]+1))\n",
    "            ls = set(range(l_seg[0],l_seg[-1]+1))\n",
    "            inter_cnt += len(ps.intersection(ls))\n",
    "            union_cnt += len(ps.union(ls))\n",
    "            if ps.issubset(ls):\n",
    "                # correctly assign or fall into ground truth interval\n",
    "                recall_score += 1\n",
    "        ious.append(inter_cnt/union_cnt)\n",
    "        recalls.append(recall_score/len(pred))\n",
    "    return np.mean(accs),np.mean(recalls),np.mean(ious)\n",
    "    \n",
    "\n",
    "            \n",
    "\n",
    "\n",
    "\n",
    "\n",
    "        \n",
    "        \n",
    "    "
   ]
  },
  {
   "cell_type": "code",
   "execution_count": 4,
   "metadata": {},
   "outputs": [
    {
     "data": {
      "text/plain": [
       "(0.982, 0.5, 0.44)"
      ]
     },
     "execution_count": 4,
     "metadata": {},
     "output_type": "execute_result"
    }
   ],
   "source": [
    "l = [[(1,10),(490,499)]]\n",
    "p = [[(5,15),(495,499)]]\n",
    "\n",
    "stats(p,l)"
   ]
  },
  {
   "cell_type": "code",
   "execution_count": 4,
   "metadata": {},
   "outputs": [],
   "source": [
    "import pandas as pd\n",
    "loc = '/common/home/vk405/Projects/Crossmdl/nbs/csvlogs/clip_crf_trn/metrics.csv'"
   ]
  },
  {
   "cell_type": "code",
   "execution_count": 6,
   "metadata": {},
   "outputs": [],
   "source": [
    "df = pd.read_csv(loc)"
   ]
  },
  {
   "cell_type": "code",
   "execution_count": 14,
   "metadata": {},
   "outputs": [
    {
     "data": {
      "text/plain": [
       "<AxesSubplot:>"
      ]
     },
     "execution_count": 14,
     "metadata": {},
     "output_type": "execute_result"
    },
    {
     "data": {
      "image/png": "[encoded data removed]",
      "text/plain": [
       "<Figure size 432x288 with 1 Axes>"
      ]
     },
     "metadata": {
      "needs_background": "light"
     },
     "output_type": "display_data"
    }
   ],
   "source": [
    "df['val_loss'].dropna().plot()"
   ]
  },
  {
   "cell_type": "code",
   "execution_count": null,
   "metadata": {},
   "outputs": [],
   "source": []
  },
  {
   "cell_type": "code",
   "execution_count": 10,
   "metadata": {},
   "outputs": [],
   "source": [
    "from argparse import Namespace\n",
    "FEAT_DIR = pathlib.Path('/common/users/vk405/CLIP_FEAT')\n",
    "RAWFRAME_DIR = pathlib.Path('/common/users/vk405/Youcook/')\n",
    "#early_stop\n",
    "cfg = Namespace(\n",
    "    version = 'clip_lstm',\n",
    "    id = 0,\n",
    "    FEAT_DIR = FEAT_DIR,\n",
    "    RAWFRAME_DIR = RAWFRAME_DIR,\n",
    "    artifacts_loc = \"/common/home/vk405/Projects/Crossmdl/nbs/\",\n",
    "    data_dir = \"/common/home/vk405/Projects/Crossmdl/Data/YouCookII/\",\n",
    "    trn_split = 0.8,\n",
    "    mode = 'train',\n",
    "    split = 'training',\n",
    "    loggers = [\"csv\"],\n",
    "    seed = 0,\n",
    "    network_params = {'bidirectional':True,'vid_lyrs':2,\\\n",
    "        'vid_hidim':64,'vid_fsz':64\\\n",
    "        ,'txt_lyrs':2,'txt_fsz':64,'act':'Relu'},\n",
    "    cbs = [\"checkpoint\"],\n",
    "    trainer = {'log_every_n_steps': 1, \n",
    "    'max_epochs': 150},\n",
    "    checkpoint = {\"every_n_epochs\": 1,\n",
    "    \"monitor\": \"val_loss\"},\n",
    "    early_stop = {\"monitor\":\"val_loss\",\"mode\":\"min\",\"patience\":5},\n",
    "    lr = 1e-4\n",
    "\n",
    ")"
   ]
  },
  {
   "cell_type": "code",
   "execution_count": null,
   "metadata": {},
   "outputs": [],
   "source": []
  }
 ],
 "metadata": {
  "interpreter": {
   "hash": "ba0eaf5009993b745d4aa7d6cba132d7a7c20d53b6841ddae3db28e24457bb23"
  },
  "kernelspec": {
   "display_name": "Python 3.8.12 ('Crossmdl')",
   "language": "python",
   "name": "python3"
  },
  "language_info": {
   "codemirror_mode": {
    "name": "ipython",
    "version": 3
   },
   "file_extension": ".py",
   "mimetype": "text/x-python",
   "name": "python",
   "nbconvert_exporter": "python",
   "pygments_lexer": "ipython3",
   "version": "3.8.12"
  },
  "orig_nbformat": 4
 },
 "nbformat": 4,
 "nbformat_minor": 2
}
