{
 "cells": [
  {
   "cell_type": "markdown",
   "metadata": {},
   "source": [
    "HERE I will be extacting the frame-ids corresponding to each text-segment."
   ]
  },
  {
   "cell_type": "code",
   "execution_count": 5,
   "metadata": {},
   "outputs": [],
   "source": [
    "import json\n",
    "import copy\n",
    "import math\n",
    "import numpy as np\n",
    "import matplotlib.pyplot as plt\n",
    "import pandas as pd\n",
    "\n",
    "\n"
   ]
  },
  {
   "cell_type": "code",
   "execution_count": 6,
   "metadata": {},
   "outputs": [],
   "source": [
    "base_dir = '/common/home/vk405/Projects/Crossmdl/'\n",
    "annot_dir = base_dir+'Data/YouCookII/annotations/'\n",
    "annot_file = annot_dir+'youcookii_annotations_trainval.json'\n",
    "new_annot_file = annot_dir+'segment_youcookii_annotations_trainval.json'"
   ]
  },
  {
   "cell_type": "code",
   "execution_count": 7,
   "metadata": {},
   "outputs": [],
   "source": [
    "\n",
    "def get_ids(duration,start,end,frame_cnt=500):\n",
    "    #k = duration/frame_cnt\n",
    "    sampling_pnts = np.linspace(0,duration,frame_cnt)\n",
    "    # note that this function is noisy, thus doesn't recover exact match.\n",
    "    ids = []\n",
    "    for ind,ele in enumerate(sampling_pnts):\n",
    "        if start<=round(ele)<=end:\n",
    "            ids.append(ind)\n",
    "    assert len(ids)>=1,f\"no segments returned, duration:{duration},start:{start},end:{end}\"\n",
    "    return ids"
   ]
  },
  {
   "cell_type": "markdown",
   "metadata": {},
   "source": []
  },
  {
   "cell_type": "code",
   "execution_count": 8,
   "metadata": {},
   "outputs": [],
   "source": [
    "\n",
    "\n",
    "def get_new_annotns(annot_file):\n",
    "    seglen_list = []\n",
    "    with open(annot_file) as f:\n",
    "        annots = json.load(f)\n",
    "        d = annots['database']\n",
    "        out_dict = copy.deepcopy(d)\n",
    "        for vid_name in d:\n",
    "            duration = d[vid_name]['duration']\n",
    "            new_lis = []\n",
    "            seg_list = d[vid_name]['annotations']\n",
    "            for seg_dict in seg_list:\n",
    "                new_seg_dict = copy.deepcopy(seg_dict)\n",
    "                start,end = seg_dict['segment']\n",
    "                ids = get_ids(duration,start,end,frame_cnt=500)\n",
    "                seglen_list.append(ids[-1]-ids[0])\n",
    "                new_seg_dict['segment'] = ids\n",
    "                new_lis.append(new_seg_dict)\n",
    "            out_dict[vid_name]['annotations'] = new_lis\n",
    "    return out_dict,seglen_list\n",
    "        \n",
    "    \n",
    "    \n",
    "    "
   ]
  },
  {
   "cell_type": "code",
   "execution_count": 9,
   "metadata": {},
   "outputs": [],
   "source": [
    "new_file,seglist = get_new_annotns(annot_file)"
   ]
  },
  {
   "cell_type": "code",
   "execution_count": 76,
   "metadata": {},
   "outputs": [
    {
     "data": {
      "image/png": "[encoded data removed]",
      "text/plain": [
       "<Figure size 432x288 with 1 Axes>"
      ]
     },
     "metadata": {
      "needs_background": "light"
     },
     "output_type": "display_data"
    }
   ],
   "source": [
    "\n",
    "\n",
    "_ = plt.hist(seglist,bins=50)"
   ]
  },
  {
   "cell_type": "code",
   "execution_count": 10,
   "metadata": {},
   "outputs": [],
   "source": [
    "\n",
    "df = pd.DataFrame({'percentile_ind':np.linspace(0,100,25),\n",
    " 'percentile':[np.percentile(seglist,p) for p in np.linspace(0,100,25)]})"
   ]
  },
  {
   "cell_type": "code",
   "execution_count": 11,
   "metadata": {},
   "outputs": [
    {
     "data": {
      "text/html": [
       "<div>\n",
       "<style scoped>\n",
       "    .dataframe tbody tr th:only-of-type {\n",
       "        vertical-align: middle;\n",
       "    }\n",
       "\n",
       "    .dataframe tbody tr th {\n",
       "        vertical-align: top;\n",
       "    }\n",
       "\n",
       "    .dataframe thead th {\n",
       "        text-align: right;\n",
       "    }\n",
       "</style>\n",
       "<table border=\"1\" class=\"dataframe\">\n",
       "  <thead>\n",
       "    <tr style=\"text-align: right;\">\n",
       "      <th></th>\n",
       "      <th>percentile_ind</th>\n",
       "      <th>percentile</th>\n",
       "    </tr>\n",
       "  </thead>\n",
       "  <tbody>\n",
       "    <tr>\n",
       "      <th>0</th>\n",
       "      <td>0.000000</td>\n",
       "      <td>0.0</td>\n",
       "    </tr>\n",
       "    <tr>\n",
       "      <th>1</th>\n",
       "      <td>4.166667</td>\n",
       "      <td>5.0</td>\n",
       "    </tr>\n",
       "    <tr>\n",
       "      <th>2</th>\n",
       "      <td>8.333333</td>\n",
       "      <td>8.0</td>\n",
       "    </tr>\n",
       "    <tr>\n",
       "      <th>3</th>\n",
       "      <td>12.500000</td>\n",
       "      <td>9.0</td>\n",
       "    </tr>\n",
       "    <tr>\n",
       "      <th>4</th>\n",
       "      <td>16.666667</td>\n",
       "      <td>11.0</td>\n",
       "    </tr>\n",
       "    <tr>\n",
       "      <th>5</th>\n",
       "      <td>20.833333</td>\n",
       "      <td>13.0</td>\n",
       "    </tr>\n",
       "    <tr>\n",
       "      <th>6</th>\n",
       "      <td>25.000000</td>\n",
       "      <td>14.0</td>\n",
       "    </tr>\n",
       "    <tr>\n",
       "      <th>7</th>\n",
       "      <td>29.166667</td>\n",
       "      <td>16.0</td>\n",
       "    </tr>\n",
       "    <tr>\n",
       "      <th>8</th>\n",
       "      <td>33.333333</td>\n",
       "      <td>18.0</td>\n",
       "    </tr>\n",
       "    <tr>\n",
       "      <th>9</th>\n",
       "      <td>37.500000</td>\n",
       "      <td>20.0</td>\n",
       "    </tr>\n",
       "    <tr>\n",
       "      <th>10</th>\n",
       "      <td>41.666667</td>\n",
       "      <td>21.0</td>\n",
       "    </tr>\n",
       "    <tr>\n",
       "      <th>11</th>\n",
       "      <td>45.833333</td>\n",
       "      <td>23.0</td>\n",
       "    </tr>\n",
       "    <tr>\n",
       "      <th>12</th>\n",
       "      <td>50.000000</td>\n",
       "      <td>25.0</td>\n",
       "    </tr>\n",
       "    <tr>\n",
       "      <th>13</th>\n",
       "      <td>54.166667</td>\n",
       "      <td>27.0</td>\n",
       "    </tr>\n",
       "    <tr>\n",
       "      <th>14</th>\n",
       "      <td>58.333333</td>\n",
       "      <td>30.0</td>\n",
       "    </tr>\n",
       "    <tr>\n",
       "      <th>15</th>\n",
       "      <td>62.500000</td>\n",
       "      <td>32.0</td>\n",
       "    </tr>\n",
       "    <tr>\n",
       "      <th>16</th>\n",
       "      <td>66.666667</td>\n",
       "      <td>35.0</td>\n",
       "    </tr>\n",
       "    <tr>\n",
       "      <th>17</th>\n",
       "      <td>70.833333</td>\n",
       "      <td>39.0</td>\n",
       "    </tr>\n",
       "    <tr>\n",
       "      <th>18</th>\n",
       "      <td>75.000000</td>\n",
       "      <td>42.0</td>\n",
       "    </tr>\n",
       "    <tr>\n",
       "      <th>19</th>\n",
       "      <td>79.166667</td>\n",
       "      <td>47.0</td>\n",
       "    </tr>\n",
       "    <tr>\n",
       "      <th>20</th>\n",
       "      <td>83.333333</td>\n",
       "      <td>52.0</td>\n",
       "    </tr>\n",
       "    <tr>\n",
       "      <th>21</th>\n",
       "      <td>87.500000</td>\n",
       "      <td>59.0</td>\n",
       "    </tr>\n",
       "    <tr>\n",
       "      <th>22</th>\n",
       "      <td>91.666667</td>\n",
       "      <td>70.0</td>\n",
       "    </tr>\n",
       "    <tr>\n",
       "      <th>23</th>\n",
       "      <td>95.833333</td>\n",
       "      <td>88.0</td>\n",
       "    </tr>\n",
       "    <tr>\n",
       "      <th>24</th>\n",
       "      <td>100.000000</td>\n",
       "      <td>337.0</td>\n",
       "    </tr>\n",
       "  </tbody>\n",
       "</table>\n",
       "</div>"
      ],
      "text/plain": [
       "    percentile_ind  percentile\n",
       "0         0.000000         0.0\n",
       "1         4.166667         5.0\n",
       "2         8.333333         8.0\n",
       "3        12.500000         9.0\n",
       "4        16.666667        11.0\n",
       "5        20.833333        13.0\n",
       "6        25.000000        14.0\n",
       "7        29.166667        16.0\n",
       "8        33.333333        18.0\n",
       "9        37.500000        20.0\n",
       "10       41.666667        21.0\n",
       "11       45.833333        23.0\n",
       "12       50.000000        25.0\n",
       "13       54.166667        27.0\n",
       "14       58.333333        30.0\n",
       "15       62.500000        32.0\n",
       "16       66.666667        35.0\n",
       "17       70.833333        39.0\n",
       "18       75.000000        42.0\n",
       "19       79.166667        47.0\n",
       "20       83.333333        52.0\n",
       "21       87.500000        59.0\n",
       "22       91.666667        70.0\n",
       "23       95.833333        88.0\n",
       "24      100.000000       337.0"
      ]
     },
     "execution_count": 11,
     "metadata": {},
     "output_type": "execute_result"
    }
   ],
   "source": [
    "# distribution of frame lengths\n",
    "df"
   ]
  },
  {
   "cell_type": "code",
   "execution_count": null,
   "metadata": {},
   "outputs": [],
   "source": []
  },
  {
   "cell_type": "code",
   "execution_count": 71,
   "metadata": {},
   "outputs": [],
   "source": [
    "# store the file\n",
    "#with open(new_annot_file, 'w') as outfile:\n",
    "    #json.dump(new_file, outfile)"
   ]
  },
  {
   "cell_type": "code",
   "execution_count": 73,
   "metadata": {},
   "outputs": [
    {
     "data": {
      "text/plain": [
       "{'duration': 241.62,\n",
       " 'subset': 'training',\n",
       " 'recipe_type': '113',\n",
       " 'annotations': [{'segment': [185,\n",
       "    186,\n",
       "    187,\n",
       "    188,\n",
       "    189,\n",
       "    190,\n",
       "    191,\n",
       "    192,\n",
       "    193,\n",
       "    194,\n",
       "    195,\n",
       "    196,\n",
       "    197,\n",
       "    198,\n",
       "    199,\n",
       "    200,\n",
       "    201,\n",
       "    202,\n",
       "    203,\n",
       "    204,\n",
       "    205,\n",
       "    206,\n",
       "    207,\n",
       "    208,\n",
       "    209,\n",
       "    210,\n",
       "    211],\n",
       "   'id': 0,\n",
       "   'sentence': 'spread margarine on two slices of white bread'},\n",
       "  {'segment': [235,\n",
       "    236,\n",
       "    237,\n",
       "    238,\n",
       "    239,\n",
       "    240,\n",
       "    241,\n",
       "    242,\n",
       "    243,\n",
       "    244,\n",
       "    245,\n",
       "    246,\n",
       "    247,\n",
       "    248,\n",
       "    249,\n",
       "    250,\n",
       "    251,\n",
       "    252,\n",
       "    253,\n",
       "    254,\n",
       "    255,\n",
       "    256,\n",
       "    257,\n",
       "    258,\n",
       "    259,\n",
       "    260,\n",
       "    261,\n",
       "    262,\n",
       "    263],\n",
       "   'id': 1,\n",
       "   'sentence': 'place a slice of cheese on the bread'},\n",
       "  {'segment': [272,\n",
       "    273,\n",
       "    274,\n",
       "    275,\n",
       "    276,\n",
       "    277,\n",
       "    278,\n",
       "    279,\n",
       "    280,\n",
       "    281,\n",
       "    282,\n",
       "    283,\n",
       "    284,\n",
       "    285,\n",
       "    286],\n",
       "   'id': 2,\n",
       "   'sentence': 'place the bread slices on top of each other and place in a hot pan'},\n",
       "  {'segment': [287,\n",
       "    288,\n",
       "    289,\n",
       "    290,\n",
       "    291,\n",
       "    292,\n",
       "    293,\n",
       "    294,\n",
       "    295,\n",
       "    296,\n",
       "    297,\n",
       "    298,\n",
       "    299,\n",
       "    300],\n",
       "   'id': 3,\n",
       "   'sentence': 'flip the sandwich over and press down'},\n",
       "  {'segment': [357, 358, 359, 360],\n",
       "   'id': 4,\n",
       "   'sentence': 'cut the sandwich in half diagonally'}],\n",
       " 'video_url': 'https://www.youtube.com/watch?v=GLd3aX16zBg'}"
      ]
     },
     "execution_count": 73,
     "metadata": {},
     "output_type": "execute_result"
    }
   ],
   "source": [
    "new_file['GLd3aX16zBg']"
   ]
  },
  {
   "cell_type": "code",
   "execution_count": null,
   "metadata": {},
   "outputs": [],
   "source": []
  },
  {
   "cell_type": "markdown",
   "metadata": {},
   "source": [
    "TODO: Handle variable sequence lengths intelligently. Padding, batch efficiency."
   ]
  },
  {
   "cell_type": "markdown",
   "metadata": {},
   "source": [
    "Ref:\n",
    "    http://mccormickml.com/2020/07/29/smart-batching-tutorial/"
   ]
  },
  {
   "cell_type": "code",
   "execution_count": null,
   "metadata": {},
   "outputs": [],
   "source": []
  },
  {
   "cell_type": "code",
   "execution_count": null,
   "metadata": {},
   "outputs": [],
   "source": []
  },
  {
   "cell_type": "code",
   "execution_count": null,
   "metadata": {},
   "outputs": [],
   "source": []
  },
  {
   "cell_type": "code",
   "execution_count": null,
   "metadata": {},
   "outputs": [],
   "source": []
  },
  {
   "cell_type": "code",
   "execution_count": null,
   "metadata": {},
   "outputs": [],
   "source": []
  }
 ],
 "metadata": {
  "interpreter": {
   "hash": "ba0eaf5009993b745d4aa7d6cba132d7a7c20d53b6841ddae3db28e24457bb23"
  },
  "kernelspec": {
   "display_name": "Python 3 (ipykernel)",
   "language": "python",
   "name": "python3"
  },
  "language_info": {
   "codemirror_mode": {
    "name": "ipython",
    "version": 3
   },
   "file_extension": ".py",
   "mimetype": "text/x-python",
   "name": "python",
   "nbconvert_exporter": "python",
   "pygments_lexer": "ipython3",
   "version": "3.7.10"
  }
 },
 "nbformat": 4,
 "nbformat_minor": 4
}
