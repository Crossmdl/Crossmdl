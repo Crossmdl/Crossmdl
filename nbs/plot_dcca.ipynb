{
 "cells": [
  {
   "cell_type": "code",
   "execution_count": 9,
   "metadata": {
    "collapsed": false,
    "jupyter": {
     "outputs_hidden": false
    }
   },
   "outputs": [],
   "source": [
    "#%matplotlib inline"
   ]
  },
  {
   "cell_type": "code",
   "execution_count": 2,
   "metadata": {},
   "outputs": [],
   "source": [
    "files = {'train':'/common/home/vk405/Projects/Crossmdl/Data/Recipe1M features/embeddings_train1.pkl',\n",
    "'valid':'/common/home/vk405/Projects/Crossmdl/Data/Recipe1M features/embeddings_val1.pkl',\n",
    "'test':'/common/home/vk405/Projects/Crossmdl/Data/Recipe1M features/embeddings_test1.pkl'}"
   ]
  },
  {
   "cell_type": "code",
   "execution_count": 3,
   "metadata": {},
   "outputs": [],
   "source": [
    "import pickle\n",
    "\n",
    "\n",
    "with open(files['train'], 'rb') as f:\n",
    "    data = pickle.load(f)"
   ]
  },
  {
   "cell_type": "code",
   "execution_count": 14,
   "metadata": {},
   "outputs": [],
   "source": [
    "\n"
   ]
  },
  {
   "cell_type": "code",
   "execution_count": 15,
   "metadata": {},
   "outputs": [
    {
     "name": "stdout",
     "output_type": "stream",
     "text": [
      "CPU times: user 38min 22s, sys: 15min 17s, total: 53min 40s\n",
      "Wall time: 1min 26s\n"
     ]
    },
    {
     "data": {
      "text/plain": [
       "CCA(latent_dims=10, random_state=RandomState(MT19937) at 0x7F9B503B9640)"
      ]
     },
     "execution_count": 15,
     "metadata": {},
     "output_type": "execute_result"
    }
   ],
   "source": [
    "%%time\n",
    "from cca_zoo.models import CCA\n",
    "model = CCA(latent_dims=10)\n",
    "model.fit((data[0],data[1]))\n"
   ]
  },
  {
   "cell_type": "code",
   "execution_count": 16,
   "metadata": {},
   "outputs": [],
   "source": [
    "out = model.transform((data[0],data[1]))"
   ]
  },
  {
   "cell_type": "code",
   "execution_count": 17,
   "metadata": {},
   "outputs": [
    {
     "data": {
      "text/plain": [
       "(281598, 10)"
      ]
     },
     "execution_count": 17,
     "metadata": {},
     "output_type": "execute_result"
    }
   ],
   "source": [
    "out[0].shape"
   ]
  },
  {
   "cell_type": "code",
   "execution_count": 4,
   "metadata": {},
   "outputs": [],
   "source": [
    "%%time\n",
    "from sklearn.cross_decomposition import CCA\n",
    "model = CCA(n_components=10)\n",
    "model.fit(data[0],data[1])"
   ]
  },
  {
   "cell_type": "code",
   "execution_count": null,
   "metadata": {},
   "outputs": [],
   "source": [
    "out2 = model.transform(data[0],data[1])"
   ]
  },
  {
   "cell_type": "code",
   "execution_count": 2,
   "metadata": {},
   "outputs": [
    {
     "data": {
      "text/plain": [
       "['embeddings_train1.pkl', 'embeddings_test1.pkl', 'embeddings_val1.pkl']"
      ]
     },
     "execution_count": 2,
     "metadata": {},
     "output_type": "execute_result"
    }
   ],
   "source": [
    "import os\n",
    "os.listdir()"
   ]
  },
  {
   "cell_type": "code",
   "execution_count": null,
   "metadata": {},
   "outputs": [],
   "source": []
  },
  {
   "cell_type": "code",
   "execution_count": 1,
   "metadata": {},
   "outputs": [],
   "source": [
    "#!pip install pytorch_lightning"
   ]
  },
  {
   "cell_type": "code",
   "execution_count": 2,
   "metadata": {},
   "outputs": [],
   "source": [
    "#!pip install cca-zoo[deep]"
   ]
  },
  {
   "cell_type": "markdown",
   "metadata": {},
   "source": [
    "\n",
    "# Deep CCA\n",
    "\n",
    "This example demonstrates how to easily train Deep CCA models and variants\n"
   ]
  },
  {
   "cell_type": "code",
   "execution_count": 6,
   "metadata": {
    "collapsed": false,
    "jupyter": {
     "outputs_hidden": false
    }
   },
   "outputs": [],
   "source": [
    "import numpy as np\n",
    "import pytorch_lightning as pl\n",
    "from matplotlib import pyplot as plt\n",
    "from torch.utils.data import Subset,Dataset\n",
    "\n",
    "from cca_zoo.deepmodels import (\n",
    "    DCCA,\n",
    "    CCALightning,\n",
    "    get_dataloaders,\n",
    "    architectures,\n",
    "    DCCA_NOI,\n",
    "    DCCA_SDL,\n",
    "    BarlowTwins,\n",
    ")"
   ]
  },
  {
   "cell_type": "code",
   "execution_count": 7,
   "metadata": {},
   "outputs": [],
   "source": [
    "class MyDataSet(Dataset):\n",
    "    def __init__(self,rdata):\n",
    "        self.rdata = rdata\n",
    "    def __len__(self):\n",
    "        return len(self.rdata)\n",
    "    def __getitem__(self,idx):\n",
    "        return self.rdata[idx]\n",
    "   "
   ]
  },
  {
   "cell_type": "code",
   "execution_count": 9,
   "metadata": {},
   "outputs": [],
   "source": [
    "v1 = np.random.randn(20000,1024)\n",
    "v2 = np.random.randn(20000,1024)"
   ]
  },
  {
   "cell_type": "code",
   "execution_count": null,
   "metadata": {},
   "outputs": [],
   "source": [
    "n_train = 15000\n",
    "n_val = 5000\n",
    "val_dataset = Subset(train_dataset, np.arange(n_train, n_train + n_val))\n",
    "train_dataset = Subset(train_dataset, np.arange(n_train))"
   ]
  },
  {
   "cell_type": "code",
   "execution_count": 12,
   "metadata": {},
   "outputs": [],
   "source": [
    "# The number of latent dimensions across models\n",
    "latent_dims = 2\n",
    "# number of epochs for deep models\n",
    "epochs = 50\n",
    "\n",
    "encoder_1 = architectures.Encoder(latent_dims=latent_dims, feature_size=1024)\n",
    "encoder_2 = architectures.Encoder(latent_dims=latent_dims, feature_size=1024)\n",
    "dcca = DCCA(latent_dims=latent_dims, encoders=[encoder_1, encoder_2])"
   ]
  },
  {
   "cell_type": "code",
   "execution_count": 21,
   "metadata": {},
   "outputs": [],
   "source": [
    "from cca_zoo.models import CCA\n",
    "import numpy as np\n",
    "rng=np.random.RandomState(0)\n",
    "X1 = rng.random((100000,1024))\n",
    "X2 = rng.random((100000,1024))\n",
    "model = CCA(latent_dims=1)\n"
   ]
  },
  {
   "cell_type": "code",
   "execution_count": 22,
   "metadata": {},
   "outputs": [
    {
     "data": {
      "text/plain": [
       "array([0.20063175])"
      ]
     },
     "execution_count": 22,
     "metadata": {},
     "output_type": "execute_result"
    }
   ],
   "source": [
    "model.fit((X1,X2)).score((X1,X2))"
   ]
  },
  {
   "cell_type": "code",
   "execution_count": null,
   "metadata": {},
   "outputs": [],
   "source": []
  },
  {
   "cell_type": "code",
   "execution_count": null,
   "metadata": {},
   "outputs": [],
   "source": []
  },
  {
   "cell_type": "code",
   "execution_count": null,
   "metadata": {},
   "outputs": [],
   "source": []
  },
  {
   "cell_type": "code",
   "execution_count": null,
   "metadata": {},
   "outputs": [],
   "source": [
    "\n",
    "n_train = 500\n",
    "n_val = 100\n",
    "train_dataset = SplitMNISTDataset(root=\"\",mnist_type=\"MNIST\", train=True, download=True)\n",
    "val_dataset = Subset(train_dataset, np.arange(n_train, n_train + n_val))\n",
    "train_dataset = Subset(train_dataset, np.arange(n_train))\n",
    "train_loader, val_loader = get_dataloaders(train_dataset, val_dataset, batch_size=128)\n"
   ]
  },
  {
   "cell_type": "code",
   "execution_count": 4,
   "metadata": {
    "collapsed": false,
    "jupyter": {
     "outputs_hidden": false
    }
   },
   "outputs": [
    {
     "ename": "ModuleNotFoundError",
     "evalue": "No module named 'multiviewdata'",
     "output_type": "error",
     "traceback": [
      "\u001b[0;31m---------------------------------------------------------------------------\u001b[0m",
      "\u001b[0;31mModuleNotFoundError\u001b[0m                       Traceback (most recent call last)",
      "\u001b[0;32m<ipython-input-4-138d8193d6a4>\u001b[0m in \u001b[0;36m<module>\u001b[0;34m\u001b[0m\n\u001b[0;32m----> 1\u001b[0;31m \u001b[0;32mfrom\u001b[0m \u001b[0mmultiviewdata\u001b[0m\u001b[0;34m.\u001b[0m\u001b[0mtorchdatasets\u001b[0m \u001b[0;32mimport\u001b[0m \u001b[0mSplitMNISTDataset\u001b[0m\u001b[0;34m\u001b[0m\u001b[0;34m\u001b[0m\u001b[0m\n\u001b[0m\u001b[1;32m      2\u001b[0m from cca_zoo.deepmodels import (\n\u001b[1;32m      3\u001b[0m     \u001b[0mDCCA\u001b[0m\u001b[0;34m,\u001b[0m\u001b[0;34m\u001b[0m\u001b[0;34m\u001b[0m\u001b[0m\n\u001b[1;32m      4\u001b[0m     \u001b[0mCCALightning\u001b[0m\u001b[0;34m,\u001b[0m\u001b[0;34m\u001b[0m\u001b[0;34m\u001b[0m\u001b[0m\n\u001b[1;32m      5\u001b[0m     \u001b[0mget_dataloaders\u001b[0m\u001b[0;34m,\u001b[0m\u001b[0;34m\u001b[0m\u001b[0;34m\u001b[0m\u001b[0m\n",
      "\u001b[0;31mModuleNotFoundError\u001b[0m: No module named 'multiviewdata'"
     ]
    }
   ],
   "source": [
    "#from multiviewdata.torchdatasets import SplitMNISTDataset\n",
    "\n",
    "\n",
    "\n",
    "def plot_latent_label(model, dataloader, num_batches=100):\n",
    "    fig, ax = plt.subplots(ncols=model.latent_dims)\n",
    "    for j in range(model.latent_dims):\n",
    "        ax[j].set_title(f\"Dimension {j}\")\n",
    "        ax[j].set_xlabel(\"View 1\")\n",
    "        ax[j].set_ylabel(\"View 2\")\n",
    "    for i, batch in enumerate(dataloader):\n",
    "        z = model(*batch[\"views\"])\n",
    "        zx, zy = z\n",
    "        zx = zx.to(\"cpu\").detach().numpy()\n",
    "        zy = zy.to(\"cpu\").detach().numpy()\n",
    "        for j in range(model.latent_dims):\n",
    "            ax[j].scatter(zx[:, j], zy[:, j], c=batch[\"label\"].numpy(), cmap=\"tab10\")\n",
    "        if i > num_batches:\n",
    "            plt.colorbar()\n",
    "            break\n",
    "\n",
    "\n"
   ]
  },
  {
   "cell_type": "markdown",
   "metadata": {},
   "source": [
    "Deep CCA\n",
    "\n"
   ]
  },
  {
   "cell_type": "code",
   "execution_count": null,
   "metadata": {
    "collapsed": false,
    "jupyter": {
     "outputs_hidden": false
    }
   },
   "outputs": [],
   "source": [
    "dcca = DCCA(latent_dims=latent_dims, encoders=[encoder_1, encoder_2])\n",
    "dcca = CCALightning(dcca)\n",
    "trainer = pl.Trainer(\n",
    "    max_epochs=epochs,\n",
    "    enable_checkpointing=False,\n",
    "    log_every_n_steps=1,\n",
    "    flush_logs_every_n_steps=1,\n",
    ")\n",
    "trainer.fit(dcca, train_loader, val_loader)\n",
    "plot_latent_label(dcca.model, train_loader)\n",
    "plt.suptitle(\"DCCA\")\n",
    "plt.show()"
   ]
  },
  {
   "cell_type": "markdown",
   "metadata": {},
   "source": [
    "Deep CCA by Non-Linear Orthogonal Iterations\n",
    "\n"
   ]
  },
  {
   "cell_type": "code",
   "execution_count": null,
   "metadata": {
    "collapsed": false,
    "jupyter": {
     "outputs_hidden": false
    }
   },
   "outputs": [],
   "source": [
    "dcca_noi = DCCA_NOI(\n",
    "    latent_dims=latent_dims, N=len(train_dataset), encoders=[encoder_1, encoder_2]\n",
    ")\n",
    "dcca_noi = CCALightning(dcca_noi)\n",
    "trainer = pl.Trainer(\n",
    "    max_epochs=epochs,\n",
    "    enable_checkpointing=False,\n",
    "    log_every_n_steps=1,\n",
    "    flush_logs_every_n_steps=1,\n",
    ")\n",
    "trainer.fit(dcca_noi, train_loader, val_loader)\n",
    "plot_latent_label(dcca_noi.model, train_loader)\n",
    "plt.suptitle(\"DCCA by Non-Linear Orthogonal Iterations\")\n",
    "plt.show()"
   ]
  },
  {
   "cell_type": "markdown",
   "metadata": {},
   "source": [
    "Deep CCA by Stochastic Decorrelation Loss\n",
    "\n"
   ]
  },
  {
   "cell_type": "code",
   "execution_count": null,
   "metadata": {
    "collapsed": false,
    "jupyter": {
     "outputs_hidden": false
    }
   },
   "outputs": [],
   "source": [
    "dcca_sdl = DCCA_SDL(\n",
    "    latent_dims=latent_dims, N=len(train_dataset), encoders=[encoder_1, encoder_2]\n",
    ")\n",
    "dcca_sdl = CCALightning(dcca_sdl)\n",
    "trainer = pl.Trainer(\n",
    "    max_epochs=epochs,\n",
    "    enable_checkpointing=False,\n",
    "    log_every_n_steps=1,\n",
    "    flush_logs_every_n_steps=1,\n",
    ")\n",
    "trainer.fit(dcca_sdl, train_loader, val_loader)\n",
    "plot_latent_label(dcca_sdl.model, train_loader)\n",
    "plt.suptitle(\"DCCA by Stochastic Decorrelation\")\n",
    "plt.show()"
   ]
  },
  {
   "cell_type": "markdown",
   "metadata": {},
   "source": [
    "Deep CCA by Barlow Twins\n",
    "\n"
   ]
  },
  {
   "cell_type": "code",
   "execution_count": null,
   "metadata": {
    "collapsed": false,
    "jupyter": {
     "outputs_hidden": false
    }
   },
   "outputs": [],
   "source": [
    "barlowtwins = BarlowTwins(latent_dims=latent_dims, encoders=[encoder_1, encoder_2])\n",
    "barlowtwins = CCALightning(barlowtwins)\n",
    "trainer = pl.Trainer(\n",
    "    max_epochs=epochs,\n",
    "    enable_checkpointing=False,\n",
    "    log_every_n_steps=1,\n",
    "    flush_logs_every_n_steps=1,\n",
    ")\n",
    "trainer.fit(barlowtwins, train_loader, val_loader)\n",
    "plot_latent_label(barlowtwins.model, train_loader)\n",
    "plt.suptitle(\"DCCA by Barlow Twins\")\n",
    "plt.show()"
   ]
  }
 ],
 "metadata": {
  "kernelspec": {
   "display_name": "Python 3 (ipykernel)",
   "language": "python",
   "name": "python3"
  },
  "language_info": {
   "codemirror_mode": {
    "name": "ipython",
    "version": 3
   },
   "file_extension": ".py",
   "mimetype": "text/x-python",
   "name": "python",
   "nbconvert_exporter": "python",
   "pygments_lexer": "ipython3",
   "version": "3.8.12"
  }
 },
 "nbformat": 4,
 "nbformat_minor": 4
}
