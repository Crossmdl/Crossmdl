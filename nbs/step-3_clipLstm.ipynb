{
 "cells": [
  {
   "cell_type": "code",
   "execution_count": 1,
   "metadata": {},
   "outputs": [
    {
     "name": "stderr",
     "output_type": "stream",
     "text": [
      "/common/home/vk405/miniconda3/envs/Crossmdl/lib/python3.8/site-packages/tqdm/auto.py:22: TqdmWarning: IProgress not found. Please update jupyter and ipywidgets. See https://ipywidgets.readthedocs.io/en/stable/user_install.html\n",
      "  from .autonotebook import tqdm as notebook_tqdm\n"
     ]
    }
   ],
   "source": [
    "# pad your sequences\n",
    "\n",
    "from torch.nn.utils.rnn import pad_sequence\n",
    "from pytorch_lightning.callbacks import LearningRateMonitor\n",
    "import torch\n",
    "import numpy as np\n",
    "from PIL import Image\n",
    "import os\n",
    "from collections import defaultdict\n",
    "import json\n",
    "import joblib\n",
    "from torch.utils.data import Dataset,DataLoader,random_split\n",
    "from itertools import repeat\n",
    "import pandas as pd\n",
    "import math\n",
    "import torch.nn as nn\n",
    "import torch.nn.functional as F\n",
    "from numpy import linalg as LA\n",
    "from argparse import Namespace\n",
    "from numpy import genfromtxt\n",
    "import os\n",
    "from torch.optim.lr_scheduler import ReduceLROnPlateau\n",
    "\n",
    "import pytorch_lightning as pl\n",
    "import wandb\n",
    "import logging\n",
    "from pytorch_lightning.loggers import CSVLogger, TensorBoardLogger, WandbLogger\n",
    "from pytorch_lightning.callbacks import ModelCheckpoint\n",
    "from pytorch_lightning.callbacks.early_stopping import EarlyStopping\n",
    "\n",
    "import clip\n",
    "\n",
    "\n",
    "import wandb\n",
    "import logging\n",
    "from pytorch_lightning.loggers import CSVLogger, TensorBoardLogger, WandbLogger\n",
    "from pytorch_lightning.callbacks import ModelCheckpoint\n",
    "from pytorch_lightning.callbacks.early_stopping import EarlyStopping\n",
    "import os\n",
    "\n",
    "logger = logging.getLogger(__name__)\n",
    "wandb_logger = lambda dir, version: WandbLogger(\n",
    "    name=\"wandb\", save_dir=dir, version=version\n",
    ")\n",
    "csvlogger = lambda dir, version: CSVLogger(dir, name=\"csvlogs\", version=version)\n",
    "tblogger = lambda dir, version: TensorBoardLogger(dir, name=\"tblogs\", version=version)\n",
    "\n",
    "def get_loggers(dir,version,lis=[\"csv\"]):\n",
    "    lgrs = []\n",
    "    if \"wandb\" in lis:\n",
    "        lgrs.append(wandb_logger(dir, version))\n",
    "    if \"csv\" in lis:\n",
    "        lgrs.append(csvlogger(dir, version))\n",
    "    if \"tb\" in lis:\n",
    "        lgrs.append(tblogger(dir, version))\n",
    "    return lgrs\n",
    "\n",
    "\n",
    "\n",
    "\n",
    "\n",
    "\n",
    "\n",
    "def get_vid_ids(split='training',\\\n",
    "    annotns_file='/common/home/vk405/Projects/Crossmdl/Data/YouCookII/annotations/youcookii_annotations_trainval.json'):\n",
    "    # Returns vid_ids corresponding to the split: 'training'/'validation'\n",
    "    \n",
    "    vid_lis = []\n",
    "    with open(annotns_file) as json_file:\n",
    "        annotns = json.load(json_file)['database']\n",
    "        for key in annotns:\n",
    "            if annotns[key]['subset'] == split:\n",
    "                vid_lis.append(key)\n",
    "    return vid_lis\n",
    "\n",
    "\n",
    "def get_split_files(split='training',\\\n",
    "    annotns_file='/common/home/vk405/Projects/Crossmdl/Data/YouCookII/annotations/youcookii_annotations_trainval.json',\\\n",
    "        data_dir = '/common/users/vk405/Youcook/'):\n",
    "    total_ids = get_vid_ids(split,annotns_file)\n",
    "    downloaded_ids = set([dir for dir in os.listdir(data_dir) if 'joblib' not in dir])\n",
    "    vid_locs = []\n",
    "    sents = {}\n",
    "    segs = {}\n",
    "    incomplete = []\n",
    "    for id in total_ids:\n",
    "        if id in downloaded_ids:\n",
    "            vid_loc = data_dir+id + '/'\n",
    "            if len(os.listdir(vid_loc))>=495:\n",
    "                vid_locs.append(vid_loc)\n",
    "                seg = joblib.load(data_dir+f'{id}global_segs.joblib')\n",
    "                sent = joblib.load(data_dir+f'{id}global_sents.joblib')\n",
    "                try:\n",
    "                    sents[id] = sent[id]\n",
    "                    segs[id] = seg[id]\n",
    "                except:\n",
    "                    print(f\"{id} is no corresponding global sent/seg\")\n",
    "            else:\n",
    "                #print(f\"{id} has only imgs {len(os.listdir(vid_loc))}\")\n",
    "                incomplete.append(id)\n",
    "    return vid_locs,segs,sents,incomplete \n",
    "\n"
   ]
  },
  {
   "cell_type": "code",
   "execution_count": 10,
   "metadata": {},
   "outputs": [],
   "source": [
    "import pathlib\n",
    "\n",
    "FEAT_DIR = pathlib.Path('/common/users/vk405/CLIP_FEAT')\n",
    "RAWFRAME_DIR = pathlib.Path('/common/users/vk405/Youcook/')\n",
    "\n",
    "class Dset(Dataset):\n",
    "    def __init__(self,data_dir,feat_dir,split):\n",
    "        self.data_dir = data_dir\n",
    "        self.feat_dir = feat_dir\n",
    "        self.split = split\n",
    "        self.vid_ids,self.sents = self.get_ids()\n",
    "        self.labels = self.getlabels()\n",
    "        self.sanitycheck()\n",
    "        self.data = self.getdata()\n",
    "        \n",
    "\n",
    "\n",
    "    def sanitycheck(self):\n",
    "        mis = []\n",
    "        #import pdb;pdb.set_trace()\n",
    "        for key in self.labels.keys():\n",
    "            txt_loc = self.feat_dir/self.split/f'txt_{key}.joblib'\n",
    "            txt = joblib.load(txt_loc)\n",
    "            if len(self.labels[key]) == len(self.sents[key]) == len(txt):\n",
    "                pass\n",
    "            else:\n",
    "                print(key)\n",
    "                mis.append(key)\n",
    "        print(f\"segs are not matching:{mis}\")\n",
    "        for key in mis:\n",
    "            self.vid_ids.remove(key)\n",
    "        self.sents = None\n",
    "\n",
    "        \n",
    "        \n",
    "\n",
    "    def __len__(self):\n",
    "        return len(self.data)\n",
    "\n",
    "    def __getitem__(self,idx):\n",
    "        return self.load(self.data[idx])\n",
    "\n",
    "    def getdata(self):\n",
    "        data = []\n",
    "        for id in self.vid_ids:\n",
    "            segs = self.labels[id]\n",
    "            #import pdb;pdb.set_trace()\n",
    "            for i in range(len(segs)):\n",
    "                data.append((id,i))\n",
    "        return data\n",
    "\n",
    "    def load(self,data):\n",
    "        vid_id,ind = data\n",
    "        vid_frames_loc = self.feat_dir/self.split/f'vid_{vid_id}.joblib'\n",
    "        txt_loc = self.feat_dir/self.split/f'txt_{vid_id}.joblib'\n",
    "        st,end = self.labels[vid_id][ind]\n",
    "        vid = joblib.load(vid_frames_loc)\n",
    "        try:\n",
    "            txt = joblib.load(txt_loc)[ind]\n",
    "        except:\n",
    "            import pdb;pdb.set_trace()\n",
    "        #normalize data\n",
    "        #import pdb;pdb.set_trace()\n",
    "        vid = vid/(LA.norm(vid,axis=-1)).reshape(500,1)\n",
    "        txt = (txt/LA.norm(txt))\n",
    "        #out = np.squeeze(vid@txt.reshape(512,1))\n",
    "        #regression outputs\n",
    "        return vid,txt,st/499,end/499\n",
    "         \n",
    "\n",
    "    def getlabels(self):\n",
    "        label_dict = {}\n",
    "        for vidid in self.vid_ids:\n",
    "            vidloc = self.data_dir/vidid\n",
    "            segs = self.extract_seg(vidloc)\n",
    "            label_dict[vidid] = segs\n",
    "        return label_dict\n",
    "    \n",
    "    def extract_seg(self,vid_loc):\n",
    "        imgs = sorted(os.listdir(vid_loc),key=lambda x: int(x.split('_')[0]))\n",
    "        segs = defaultdict(list)\n",
    "        for img in imgs:\n",
    "            ind,rem = int(img.split('_')[0]),img.split('_')[-1]\n",
    "            \n",
    "            if 'n.' not in rem:\n",
    "                #print(ind,rem)\n",
    "                seg_id = int(rem.split('.')[0])\n",
    "                segs[seg_id].append(ind)\n",
    "                #print(seg_id,ind)\n",
    "        final_segs = []\n",
    "        #import pdb;pdb.set_trace()\n",
    "        segids = sorted(segs.keys())\n",
    "        for segid in segids:\n",
    "            final_segs.append((min(segs[segid]),max(segs[segid])))\n",
    "        return final_segs\n",
    "        \n",
    "    def get_ids(self):\n",
    "        annotns_file='/common/home/vk405/Projects/Crossmdl/Data/YouCookII/annotations/youcookii_annotations_trainval.json'\n",
    "        data_dir = '/common/users/vk405/Youcook/'\n",
    "        vid_locs,_,sents,_ = get_split_files(self.split,annotns_file,data_dir)\n",
    "        ids = [ele.split('/')[-2] for ele in vid_locs]\n",
    "        files = set(os.listdir(self.feat_dir/self.split))\n",
    "        finids = []\n",
    "        missing = []\n",
    "        for id in ids:\n",
    "            if f'vid_{id}.joblib' in files:\n",
    "                finids.append(id)\n",
    "            else:missing.append(id)\n",
    "        print(f\"missing:{missing}\")\n",
    "        return finids,sents\n",
    "\n",
    "        "
   ]
  },
  {
   "cell_type": "code",
   "execution_count": 11,
   "metadata": {},
   "outputs": [],
   "source": [
    "# !ls /common/users/vk405/CLIP_FEAT/validation"
   ]
  },
  {
   "cell_type": "code",
   "execution_count": 12,
   "metadata": {},
   "outputs": [
    {
     "name": "stdout",
     "output_type": "stream",
     "text": [
      "missing:[]\n",
      "95WMX64RIBc\n",
      "segs are not matching:['95WMX64RIBc']\n"
     ]
    }
   ],
   "source": [
    "d  = Dset(RAWFRAME_DIR,FEAT_DIR,'validation')"
   ]
  },
  {
   "cell_type": "code",
   "execution_count": 15,
   "metadata": {},
   "outputs": [
    {
     "data": {
      "text/plain": [
       "('xHr8X2Wpmno', 0)"
      ]
     },
     "execution_count": 15,
     "metadata": {},
     "output_type": "execute_result"
    }
   ],
   "source": []
  },
  {
   "cell_type": "code",
   "execution_count": null,
   "metadata": {},
   "outputs": [],
   "source": []
  },
  {
   "cell_type": "code",
   "execution_count": 5,
   "metadata": {},
   "outputs": [
    {
     "data": {
      "text/plain": [
       "(500, 512)"
      ]
     },
     "execution_count": 5,
     "metadata": {},
     "output_type": "execute_result"
    }
   ],
   "source": []
  },
  {
   "cell_type": "code",
   "execution_count": 16,
   "metadata": {},
   "outputs": [],
   "source": [
    "class ClipLstm(pl.LightningModule):\n",
    "    \n",
    "    def __init__(self,hparams):\n",
    "        super().__init__()\n",
    "        self.save_hyperparameters(hparams)\n",
    "        self.vid_encoder,self.text_encoder,self.finlin = self.get_nets(**self.hparams.network_params)\n",
    "        \n",
    "    def get_nets(self,bidirectional = True,vid_lyrs = 2,vid_hidim=64,vid_fsz=64\\\n",
    "        ,txt_lyrs=2,txt_fsz=64,act='Relu'):\n",
    "        vid_enc = []\n",
    "        last_dim = 512\n",
    "        \n",
    "        self.lstm = nn.LSTM(last_dim,vid_hidim,\\\n",
    "        vid_lyrs,bidirectional=bidirectional,batch_first=True)\n",
    "        vid_enc.append(self.lstm)\n",
    "        if act == 'Relu':\n",
    "            self.activation = nn.ReLU()\n",
    "        vid_enc.append(self.activation)\n",
    "        self.vidfinlyr = nn.Linear(vid_hidim,vid_fsz)\n",
    "        vid_enc.append(self.vidfinlyr)\n",
    "        self.txtlyr = nn.Linear(512,txt_fsz)\n",
    "        txt_enc = nn.Sequential(self.txtlyr,self.activation)\n",
    "        \n",
    "        return vid_enc,txt_enc,nn.Linear(txt_fsz,2)\n",
    "            \n",
    "\n",
    "\n",
    "\n",
    "    def forward(self,vid,txt):\n",
    "        # modeling end = st+diff(positive/sigmoid)\n",
    "        #fixing for now\n",
    "        #torch.squeeze(self.start(self.shared(input)))\n",
    "        lstm,act,lin = self.vid_encoder\n",
    "        hiddens, (final_h, final_c) = lstm(vid.float())\n",
    "        vid_out = lin(act(torch.mean(final_h,dim=0)))\n",
    "        txt_out = self.text_encoder(txt.float())\n",
    "        preds = self.finlin(vid_out+txt_out)\n",
    "        st_p = preds[:,0]\n",
    "        diff = torch.sigmoid(preds[:,-1])\n",
    "        fin_pred = torch.stack([st_p,st_p+diff],-1)\n",
    "        return fin_pred\n",
    "\n",
    "    def giou(self,p,g):\n",
    "        x1_p,_ = torch.min(p,1)\n",
    "        x2_p,_ = torch.max(p,1)\n",
    "\n",
    "        x1_g,_ = torch.min(g,1)\n",
    "        x2_g,_ = torch.max(g,1)\n",
    "\n",
    "        x_1_i,_ =  torch.max(torch.stack([x1_g,x1_p],1),1)\n",
    "        x_2_i,_ = torch.min(torch.stack([x2_g,x2_p],1),1)\n",
    "\n",
    "        x_1_c,_ = torch.min(torch.stack([x1_p,x1_g],1),1)\n",
    "        x_2_c,_ = torch.max(torch.stack([x2_p,x2_g],1),1)\n",
    "\n",
    "        I = x_2_i - x_1_i\n",
    "        U = (x2_p-x1_p) + (x2_g-x1_g) - I\n",
    "        AC = x_2_c-x_1_c\n",
    "\n",
    "        return (I/U) - ((AC-U)/AC),(I/U)\n",
    "\n",
    "\n",
    "        \n",
    "    def training_step(self,batch,batch_idx):\n",
    "\n",
    "        vid,txt,st,end = batch\n",
    "        loss_fn = nn.MSELoss()\n",
    "        # forward\n",
    "        lstm,act,lin = self.vid_encoder\n",
    "        hiddens, (final_h, final_c) = lstm(vid.float())\n",
    "        vid_out = lin(act(torch.mean(final_h,dim=0)))\n",
    "        txt_out = self.text_encoder(txt.float())\n",
    "        preds = self.finlin(vid_out+txt_out)\n",
    "        st_p = preds[:,0]\n",
    "        diff = torch.sigmoid(preds[:,-1])\n",
    "        fin_preds = torch.stack([st_p,st_p+diff],-1)\n",
    "\n",
    "\n",
    "        grounds = torch.stack([torch.squeeze(st),torch.squeeze(end)],1)\n",
    "        giou,iou = self.giou(fin_preds,grounds)\n",
    "        loss = torch.mean(-1*giou)\n",
    "        #preds = self(vid,txt)\n",
    "        #st_loss = loss_fn(preds[:,0].float(),torch.squeeze(st).float())\n",
    "        #end_loss = loss_fn(preds[:,1].float(),torch.squeeze(end).float())\n",
    "        #loss_end = nn.CrossEntropyLoss()\n",
    "        #import pdb;pdb.set_trace()\n",
    "        #st_l = loss_st(torch.squeeze(self.start(self.shared(input))).float(),st.float())\n",
    "        #end_l = loss_st(torch.squeeze(self.end(self.shared(input))).float(),end.float())\n",
    "        #loss = st_loss + end_loss\n",
    "        self.log(\"train_loss\",loss,on_step=True)\n",
    "        self.log(\"train_iou\",torch.mean(iou),on_step=True)\n",
    "        return loss\n",
    "\n",
    "    def validation_step(self,batch,batch_idx):\n",
    "\n",
    "\n",
    "        vid,txt,st,end = batch\n",
    "        loss_fn = nn.MSELoss()\n",
    "        # forward\n",
    "        lstm,act,lin = self.vid_encoder\n",
    "        hiddens, (final_h, final_c) = lstm(vid.float())\n",
    "        vid_out = lin(act(torch.mean(final_h,dim=0)))\n",
    "        txt_out = self.text_encoder(txt.float())\n",
    "        preds = self.finlin(vid_out+txt_out)\n",
    "        st_p = preds[:,0]\n",
    "        diff = torch.sigmoid(preds[:,-1])\n",
    "        fin_preds = torch.stack([st_p,st_p+diff],-1)\n",
    "\n",
    "        grounds = torch.stack([torch.squeeze(st),torch.squeeze(end)],1)\n",
    "        giou,iou = self.giou(fin_preds,grounds)\n",
    "        loss = torch.mean(-1*giou)\n",
    "        #loss = torch.mean(-1*self.giou(preds,grounds))\n",
    "        #preds = self(vid,txt)\n",
    "        #st_loss = loss_fn(preds[:,0].float(),torch.squeeze(st).float())\n",
    "        #end_loss = loss_fn(preds[:,1].float(),torch.squeeze(end).float())\n",
    "        #loss_end = nn.CrossEntropyLoss()\n",
    "        #import pdb;pdb.set_trace()\n",
    "        #st_l = loss_st(torch.squeeze(self.start(self.shared(input))).float(),st.float())\n",
    "        #end_l = loss_st(torch.squeeze(self.end(self.shared(input))).float(),end.float())\n",
    "        #loss = st_loss + end_loss\n",
    "        self.log(\"val_loss\",loss,on_step=False,on_epoch=True)\n",
    "        self.log(\"val_iou\",torch.mean(iou),on_step=False,on_epoch=True)\n",
    "\n",
    "        return loss\n",
    "        \n",
    "    def configure_optimizers(self):\n",
    "        \n",
    "        optimizer = torch.optim.Adam(self.parameters(), lr=self.hparams.lr)\n",
    "        return optimizer"
   ]
  },
  {
   "cell_type": "code",
   "execution_count": 6,
   "metadata": {},
   "outputs": [
    {
     "data": {
      "image/png": "[encoded data removed]",
      "text/plain": [
       "<Figure size 432x288 with 1 Axes>"
      ]
     },
     "metadata": {
      "needs_background": "light"
     },
     "output_type": "display_data"
    }
   ],
   "source": [
    "import matplotlib.pyplot as plt\n",
    "def noam_decay(step, num_warmup_steps, dim):\n",
    "  # Eq. (3) of the Transfomer paper. \n",
    "  return (dim ** (-0.5) * min(step ** (-0.5), step * num_warmup_steps**(-1.5)))\n",
    "\n",
    "plt.plot([step + 1 for step in range(10000)], [noam_decay(step + 1, 1000, 1000) for step in range(10000)])\n",
    "plt.show()"
   ]
  },
  {
   "cell_type": "code",
   "execution_count": null,
   "metadata": {},
   "outputs": [],
   "source": [
    "torch.optim.Adam(betas=(0.9, 0.98), eps=1e-9)"
   ]
  },
  {
   "cell_type": "code",
   "execution_count": 19,
   "metadata": {},
   "outputs": [],
   "source": [
    "v,t,st,end = d[0]\n",
    "m = ClipLstm(cfg)"
   ]
  },
  {
   "cell_type": "code",
   "execution_count": 20,
   "metadata": {},
   "outputs": [],
   "source": [
    "v_t = torch.unsqueeze(torch.tensor(v),0)\n",
    "t_t = torch.unsqueeze(torch.tensor(t),0)\n",
    "\n"
   ]
  },
  {
   "cell_type": "code",
   "execution_count": 21,
   "metadata": {},
   "outputs": [],
   "source": [
    "preds = m(v_t,t_t)"
   ]
  },
  {
   "cell_type": "code",
   "execution_count": 22,
   "metadata": {},
   "outputs": [
    {
     "data": {
      "text/plain": [
       "torch.Size([1, 2])"
      ]
     },
     "execution_count": 22,
     "metadata": {},
     "output_type": "execute_result"
    }
   ],
   "source": [
    "preds.shape"
   ]
  },
  {
   "cell_type": "code",
   "execution_count": 29,
   "metadata": {},
   "outputs": [],
   "source": [
    "a,b = preds.detach().cpu().numpy()[0]"
   ]
  },
  {
   "cell_type": "code",
   "execution_count": 30,
   "metadata": {},
   "outputs": [
    {
     "data": {
      "text/plain": [
       "0.034938157"
      ]
     },
     "execution_count": 30,
     "metadata": {},
     "output_type": "execute_result"
    }
   ],
   "source": [
    "a"
   ]
  },
  {
   "cell_type": "code",
   "execution_count": 42,
   "metadata": {},
   "outputs": [],
   "source": [
    "st_p = preds[:,0]\n",
    "diff = torch.sigmoid(preds[:,-1])\n",
    "\n",
    "fin_pred = torch.stack([st_p,diff],-1)"
   ]
  },
  {
   "cell_type": "code",
   "execution_count": 43,
   "metadata": {},
   "outputs": [
    {
     "data": {
      "text/plain": [
       "torch.Size([1, 2])"
      ]
     },
     "execution_count": 43,
     "metadata": {},
     "output_type": "execute_result"
    }
   ],
   "source": [
    "fin_pred.shape"
   ]
  },
  {
   "cell_type": "code",
   "execution_count": 44,
   "metadata": {},
   "outputs": [
    {
     "data": {
      "text/plain": [
       "tensor([[-0.0659,  0.4928]], grad_fn=<StackBackward0>)"
      ]
     },
     "execution_count": 44,
     "metadata": {},
     "output_type": "execute_result"
    }
   ],
   "source": [
    "fin_pred"
   ]
  },
  {
   "cell_type": "code",
   "execution_count": 21,
   "metadata": {},
   "outputs": [],
   "source": [
    "preds_t = model(v_t,t_t)"
   ]
  },
  {
   "cell_type": "code",
   "execution_count": 18,
   "metadata": {},
   "outputs": [],
   "source": [
    "from argparse import Namespace\n",
    "FEAT_DIR = pathlib.Path('/common/users/vk405/CLIP_FEAT')\n",
    "RAWFRAME_DIR = pathlib.Path('/common/users/vk405/Youcook/')\n",
    "#early_stop\n",
    "cfg = Namespace(\n",
    "    version = 'clip_lstm',\n",
    "    id = 0,\n",
    "    FEAT_DIR = FEAT_DIR,\n",
    "    RAWFRAME_DIR = RAWFRAME_DIR,\n",
    "    artifacts_loc = \"/common/home/vk405/Projects/Crossmdl/nbs/\",\n",
    "    data_dir = \"/common/home/vk405/Projects/Crossmdl/Data/YouCookII/\",\n",
    "    trn_split = 0.8,\n",
    "    mode = 'train',\n",
    "    split = 'training',\n",
    "    loggers = [\"csv\"],\n",
    "    seed = 0,\n",
    "    network_params = {'bidirectional':True,'vid_lyrs':2,\\\n",
    "        'vid_hidim':64,'vid_fsz':64\\\n",
    "        ,'txt_lyrs':2,'txt_fsz':64,'act':'Relu'},\n",
    "    cbs = [\"checkpoint\"],\n",
    "    trainer = {'log_every_n_steps': 1, \n",
    "    'max_epochs': 150},\n",
    "    checkpoint = {\"every_n_epochs\": 1,\n",
    "    \"monitor\": \"val_loss\"},\n",
    "    early_stop = {\"monitor\":\"val_loss\",\"mode\":\"min\",\"patience\":5},\n",
    "    lr = 1e-4\n",
    "\n",
    ")"
   ]
  },
  {
   "cell_type": "code",
   "execution_count": null,
   "metadata": {},
   "outputs": [],
   "source": []
  },
  {
   "cell_type": "code",
   "execution_count": 7,
   "metadata": {},
   "outputs": [
    {
     "data": {
      "text/html": [
       "<div>\n",
       "<style scoped>\n",
       "    .dataframe tbody tr th:only-of-type {\n",
       "        vertical-align: middle;\n",
       "    }\n",
       "\n",
       "    .dataframe tbody tr th {\n",
       "        vertical-align: top;\n",
       "    }\n",
       "\n",
       "    .dataframe thead th {\n",
       "        text-align: right;\n",
       "    }\n",
       "</style>\n",
       "<table border=\"1\" class=\"dataframe\">\n",
       "  <thead>\n",
       "    <tr style=\"text-align: right;\">\n",
       "      <th></th>\n",
       "      <th>train_loss</th>\n",
       "      <th>train_iou</th>\n",
       "      <th>epoch</th>\n",
       "      <th>step</th>\n",
       "      <th>val_loss</th>\n",
       "      <th>val_iou</th>\n",
       "    </tr>\n",
       "  </thead>\n",
       "  <tbody>\n",
       "    <tr>\n",
       "      <th>0</th>\n",
       "      <td>0.402520</td>\n",
       "      <td>-0.402520</td>\n",
       "      <td>0</td>\n",
       "      <td>0</td>\n",
       "      <td>NaN</td>\n",
       "      <td>NaN</td>\n",
       "    </tr>\n",
       "    <tr>\n",
       "      <th>1</th>\n",
       "      <td>0.417671</td>\n",
       "      <td>-0.417671</td>\n",
       "      <td>0</td>\n",
       "      <td>1</td>\n",
       "      <td>NaN</td>\n",
       "      <td>NaN</td>\n",
       "    </tr>\n",
       "    <tr>\n",
       "      <th>2</th>\n",
       "      <td>0.351238</td>\n",
       "      <td>-0.351238</td>\n",
       "      <td>0</td>\n",
       "      <td>2</td>\n",
       "      <td>NaN</td>\n",
       "      <td>NaN</td>\n",
       "    </tr>\n",
       "    <tr>\n",
       "      <th>3</th>\n",
       "      <td>0.376945</td>\n",
       "      <td>-0.376945</td>\n",
       "      <td>0</td>\n",
       "      <td>3</td>\n",
       "      <td>NaN</td>\n",
       "      <td>NaN</td>\n",
       "    </tr>\n",
       "    <tr>\n",
       "      <th>4</th>\n",
       "      <td>0.385207</td>\n",
       "      <td>-0.385207</td>\n",
       "      <td>0</td>\n",
       "      <td>4</td>\n",
       "      <td>NaN</td>\n",
       "      <td>NaN</td>\n",
       "    </tr>\n",
       "  </tbody>\n",
       "</table>\n",
       "</div>"
      ],
      "text/plain": [
       "   train_loss  train_iou  epoch  step  val_loss  val_iou\n",
       "0    0.402520  -0.402520      0     0       NaN      NaN\n",
       "1    0.417671  -0.417671      0     1       NaN      NaN\n",
       "2    0.351238  -0.351238      0     2       NaN      NaN\n",
       "3    0.376945  -0.376945      0     3       NaN      NaN\n",
       "4    0.385207  -0.385207      0     4       NaN      NaN"
      ]
     },
     "execution_count": 7,
     "metadata": {},
     "output_type": "execute_result"
    }
   ],
   "source": [
    "import pandas as pd\n",
    "file = cfg.artifacts_loc+'csvlogs'+f'/{cfg.version}/metrics.csv'\n",
    "df = pd.read_csv(file)\n",
    "df.head()"
   ]
  },
  {
   "cell_type": "code",
   "execution_count": 8,
   "metadata": {},
   "outputs": [
    {
     "data": {
      "text/plain": [
       "12210    0.098493\n",
       "12211    0.116805\n",
       "Name: train_iou, dtype: float64"
      ]
     },
     "execution_count": 8,
     "metadata": {},
     "output_type": "execute_result"
    }
   ],
   "source": [
    "df['train_iou'].dropna().tail(2)"
   ]
  },
  {
   "cell_type": "code",
   "execution_count": 9,
   "metadata": {},
   "outputs": [
    {
     "data": {
      "text/plain": [
       "12063    0.075753\n",
       "12179    0.069663\n",
       "Name: val_iou, dtype: float64"
      ]
     },
     "execution_count": 9,
     "metadata": {},
     "output_type": "execute_result"
    }
   ],
   "source": [
    "df['val_iou'].dropna().tail(2)"
   ]
  },
  {
   "cell_type": "code",
   "execution_count": 8,
   "metadata": {},
   "outputs": [],
   "source": [
    "# #testing\n",
    "# m = ClipLstm(cfg)\n",
    "# vid = torch.unsqueeze(torch.tensor(v),dim=0)\n",
    "# txt = torch.unsqueeze(torch.tensor(t),dim=0)\n",
    "# lstm = nn.LSTM(512,64,\\\n",
    "#         2,bidirectional=True,batch_first=True)\n",
    "\n",
    "# hiddens, (final_h, final_c) = lstm(vid)\n",
    "# out = m(vid,txt)"
   ]
  },
  {
   "cell_type": "code",
   "execution_count": 56,
   "metadata": {},
   "outputs": [],
   "source": [
    "def run(cfg):\n",
    "    #pl.seed_everything(cfg.seed)\n",
    "    dir = cfg.artifacts_loc\n",
    "    version = str(cfg.version)\n",
    "    logger_list = get_loggers(dir, version,cfg.loggers)\n",
    "    cbs = []\n",
    "    if \"early_stop\" in cfg.cbs:\n",
    "        #? does'nt really work atm\n",
    "        params = cfg.early_stop\n",
    "        earlystopcb = EarlyStopping(**params, min_delta=0.00, verbose=False)\n",
    "        cbs.append(earlystopcb)\n",
    "    if \"checkpoint\" in cfg.cbs:\n",
    "        store_path = dir + \"ckpts/\" + str(cfg.version) + \"/\"\n",
    "        isExist = os.path.exists(store_path)\n",
    "        if not isExist:\n",
    "            os.makedirs(store_path)\n",
    "        fname = \"{epoch}-{val_loss:.2f}\"\n",
    "        params = cfg.checkpoint\n",
    "        checkptcb = ModelCheckpoint(**params, dirpath=store_path, filename=fname)\n",
    "        cbs.append(checkptcb)\n",
    "\n",
    "    #wandb.init(project=\"videoretrieval\", config=cfg)\n",
    "    if cfg.mode == 'train':\n",
    "        d = Dset(cfg.RAWFRAME_DIR,cfg.FEAT_DIR,cfg.split)\n",
    "        trn_sz = int(len(d)*cfg.trn_split)\n",
    "        val_sz = len(d)-trn_sz\n",
    "        trndset,valdset = random_split(d,[trn_sz,val_sz])\n",
    "        trnl = DataLoader(trndset,batch_size=64,shuffle=True,num_workers = 5)\n",
    "        vall = DataLoader(valdset,batch_size=64)\n",
    "        hparams = cfg    \n",
    "        net = ClipLstm(hparams)\n",
    "        trainer = pl.Trainer(\n",
    "            logger=logger_list,callbacks=cbs,gpus=1,deterministic=True, **cfg.trainer\n",
    "        )\n",
    "        trainer.fit(net, trnl,vall)\n",
    "        return trainer\n",
    "        #trainer.tune(net,train_loader)\n",
    "            \n",
    "    else:\n",
    "        pass\n",
    "    "
   ]
  },
  {
   "cell_type": "code",
   "execution_count": 1,
   "metadata": {},
   "outputs": [],
   "source": [
    "#t = run(cfg)"
   ]
  },
  {
   "cell_type": "code",
   "execution_count": null,
   "metadata": {},
   "outputs": [],
   "source": [
    "d = Dset(cfg.RAWFRAME_DIR,cfg.FEAT_DIR,cfg.split)\n",
    "trn_sz = int(len(d)*cfg.trn_split)\n",
    "val_sz = len(d)-trn_sz\n",
    "trndset,valdset = random_split(d,[trn_sz,val_sz])\n",
    "trnl = DataLoader(trndset,batch_size=64,shuffle=True,num_workers = 5)\n",
    "vall = DataLoader(valdset,batch_size=64)"
   ]
  },
  {
   "cell_type": "code",
   "execution_count": null,
   "metadata": {},
   "outputs": [],
   "source": []
  },
  {
   "cell_type": "code",
   "execution_count": 12,
   "metadata": {},
   "outputs": [],
   "source": [
    "vid,txt,st,end = next(iter(trnl))"
   ]
  },
  {
   "cell_type": "code",
   "execution_count": 19,
   "metadata": {},
   "outputs": [],
   "source": [
    "from pathlib import Path\n",
    "def get_model(cfg):\n",
    "    hparams = cfg    \n",
    "    PATH = Path(cfg.artifacts_loc)/'ckpts'/cfg.version\n",
    "    ckpt = os.listdir(PATH)[-1]\n",
    "    net = ClipLstm(hparams)\n",
    "    print(f\"loading ckpt:{ckpt}\")\n",
    "    new_model = net.load_from_checkpoint(checkpoint_path=str(PATH/ckpt))\n",
    "    return new_model"
   ]
  },
  {
   "cell_type": "code",
   "execution_count": null,
   "metadata": {},
   "outputs": [],
   "source": [
    "def inference(cfg,dset):\n",
    "    from collections import defaultdict\n",
    "    storage_p = defaultdict(list)\n",
    "    storage_g = defaultdict(list)\n",
    "    data = dset.data\n",
    "    model = get_model(cfg)\n",
    "    model.eval()\n",
    "    for i,ele in enumerate(data):\n",
    "        key,id = ele\n",
    "        v,t,st,end = dset[i]\n",
    "        storage_g[key].append((st*499,end*499))\n",
    "        v_t = torch.unsqueeze(torch.tensor(v),0)\n",
    "        t_t = torch.unsqueeze(torch.tensor(t),0)\n",
    "        preds = model(v_t,t_t)\n",
    "        p_s,p_en = preds.detach().cpu().numpy()[0]\n",
    "        storage_p[key].append((p_s*499,p_en*499))\n",
    "    return storage_g,storage_p\n",
    "        "
   ]
  },
  {
   "cell_type": "code",
   "execution_count": 20,
   "metadata": {},
   "outputs": [
    {
     "name": "stdout",
     "output_type": "stream",
     "text": [
      "loading ckpt:epoch=26-val_loss=-0.08.ckpt\n"
     ]
    }
   ],
   "source": [
    "model = get_model(cfg)"
   ]
  },
  {
   "cell_type": "code",
   "execution_count": 21,
   "metadata": {},
   "outputs": [],
   "source": [
    "out = model(vid,txt)"
   ]
  },
  {
   "cell_type": "code",
   "execution_count": 25,
   "metadata": {},
   "outputs": [
    {
     "data": {
      "text/plain": [
       "tensor([257.2845, 272.2961], grad_fn=<MulBackward0>)"
      ]
     },
     "execution_count": 25,
     "metadata": {},
     "output_type": "execute_result"
    }
   ],
   "source": [
    "out[0]*499"
   ]
  },
  {
   "cell_type": "code",
   "execution_count": 27,
   "metadata": {},
   "outputs": [
    {
     "data": {
      "text/plain": [
       "(tensor(197., dtype=torch.float64), tensor(204., dtype=torch.float64))"
      ]
     },
     "execution_count": 27,
     "metadata": {},
     "output_type": "execute_result"
    }
   ],
   "source": [
    "st[0]*499,end[0]*499"
   ]
  },
  {
   "cell_type": "code",
   "execution_count": 1,
   "metadata": {},
   "outputs": [
    {
     "name": "stderr",
     "output_type": "stream",
     "text": [
      "/common/home/vk405/miniconda3/envs/Crossmdl/lib/python3.8/site-packages/tqdm/auto.py:22: TqdmWarning: IProgress not found. Please update jupyter and ipywidgets. See https://ipywidgets.readthedocs.io/en/stable/user_install.html\n",
      "  from .autonotebook import tqdm as notebook_tqdm\n"
     ]
    }
   ],
   "source": [
    "import torch\n"
   ]
  },
  {
   "cell_type": "code",
   "execution_count": 8,
   "metadata": {},
   "outputs": [],
   "source": [
    "a = torch.tensor([[1,2],[8,18]])"
   ]
  },
  {
   "cell_type": "code",
   "execution_count": 10,
   "metadata": {},
   "outputs": [],
   "source": [
    "min,_ = torch.min(a,1)\n",
    "max,_ = torch.max(a,1)"
   ]
  },
  {
   "cell_type": "code",
   "execution_count": 17,
   "metadata": {},
   "outputs": [
    {
     "data": {
      "text/plain": [
       "tensor([1, 8])"
      ]
     },
     "execution_count": 17,
     "metadata": {},
     "output_type": "execute_result"
    }
   ],
   "source": [
    "m,_ = torch.min(torch.stack([min,max],1),1)\n",
    "m"
   ]
  },
  {
   "cell_type": "code",
   "execution_count": 30,
   "metadata": {},
   "outputs": [],
   "source": [
    "# testing\n",
    "def giou(p,g):\n",
    "    x1_p,_ = torch.min(p,1)\n",
    "    x2_p,_ = torch.max(p,1)\n",
    "\n",
    "    x1_g,_ = torch.min(g,1)\n",
    "    x2_g,_ = torch.max(g,1)\n",
    "\n",
    "    x_1_i,_ =  torch.max(torch.stack([x1_g,x1_p],1),1)\n",
    "    x_2_i,_ = torch.min(torch.stack([x2_g,x2_p],1),1)\n",
    "\n",
    "    x_1_c,_ = torch.min(torch.stack([x1_p,x1_g],1),1)\n",
    "    x_2_c,_ = torch.max(torch.stack([x2_p,x2_g],1),1)\n",
    "\n",
    "    I = x_2_i - x_1_i\n",
    "    U = (x2_p-x1_p) + (x2_g-x1_g) - I\n",
    "    AC = x_2_c-x_1_c\n",
    "\n",
    "    return (I/U) - ((AC-U)/AC)"
   ]
  },
  {
   "cell_type": "code",
   "execution_count": 37,
   "metadata": {},
   "outputs": [],
   "source": [
    "p = torch.tensor([[1,9]])\n",
    "g1 = torch.tensor([[2,5]])\n",
    "g2 = torch.tensor([[20,18]])\n",
    "g3 = torch.tensor([[10,18]])"
   ]
  },
  {
   "cell_type": "code",
   "execution_count": 38,
   "metadata": {},
   "outputs": [
    {
     "data": {
      "text/plain": [
       "(tensor([0.3750]), tensor([-0.4737]), tensor([-0.0588]))"
      ]
     },
     "execution_count": 38,
     "metadata": {},
     "output_type": "execute_result"
    }
   ],
   "source": [
    "giou(p,g1),giou(p,g2),giou(p,g3)"
   ]
  },
  {
   "cell_type": "code",
   "execution_count": null,
   "metadata": {},
   "outputs": [],
   "source": []
  }
 ],
 "metadata": {
  "interpreter": {
   "hash": "ba0eaf5009993b745d4aa7d6cba132d7a7c20d53b6841ddae3db28e24457bb23"
  },
  "kernelspec": {
   "display_name": "Python 3.8.12 ('Crossmdl')",
   "language": "python",
   "name": "python3"
  },
  "language_info": {
   "codemirror_mode": {
    "name": "ipython",
    "version": 3
   },
   "file_extension": ".py",
   "mimetype": "text/x-python",
   "name": "python",
   "nbconvert_exporter": "python",
   "pygments_lexer": "ipython3",
   "version": "3.8.12"
  },
  "orig_nbformat": 4
 },
 "nbformat": 4,
 "nbformat_minor": 2
}
