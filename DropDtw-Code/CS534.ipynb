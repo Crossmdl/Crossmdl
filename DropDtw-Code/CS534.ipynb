{
 "cells": [
  {
   "cell_type": "code",
   "execution_count": 3,
   "id": "28910294-f9db-4291-99d2-f550156f734c",
   "metadata": {},
   "outputs": [
    {
     "name": "stdout",
     "output_type": "stream",
     "text": [
      "(9, 512)\n"
     ]
    }
   ],
   "source": [
    "filename=\"txt_pOWe4zB-E-4.joblib\"\n",
    "txt=joblib.load(filename, mmap_mode=None)\n",
    "print(txt.shape)"
   ]
  },
  {
   "cell_type": "code",
   "execution_count": 1,
   "id": "d55899f3-041f-45d4-a56f-8dcb491a540e",
   "metadata": {},
   "outputs": [
    {
     "name": "stdout",
     "output_type": "stream",
     "text": [
      "Defaulting to user installation because normal site-packages is not writeable\n",
      "Requirement already satisfied: joblib in /koko/system/anaconda/envs/python38/lib/python3.8/site-packages (1.0.1)\n",
      "Note: you may need to restart the kernel to use updated packages.\n"
     ]
    }
   ],
   "source": [
    "pip install joblib\n"
   ]
  },
  {
   "cell_type": "code",
   "execution_count": 2,
   "id": "66ad2e13-3420-4aca-8910-811ce1f1dd09",
   "metadata": {},
   "outputs": [],
   "source": [
    "import joblib"
   ]
  },
  {
   "cell_type": "code",
   "execution_count": 5,
   "id": "54b8edf5-b6bf-4388-a3db-fdab0e703576",
   "metadata": {},
   "outputs": [
    {
     "name": "stdout",
     "output_type": "stream",
     "text": [
      "(500, 512)\n"
     ]
    }
   ],
   "source": [
    "vid_filename=\"vid_pOWe4zB-E-4.joblib\"\n",
    "vid=joblib.load(vid_filename, mmap_mode=None)\n",
    "print(vid.shape)"
   ]
  },
  {
   "cell_type": "code",
   "execution_count": 6,
   "id": "e307c0f7-e7d0-4b25-96d7-1d05611fc0d4",
   "metadata": {},
   "outputs": [
    {
     "name": "stdout",
     "output_type": "stream",
     "text": [
      "(14, 512)\n"
     ]
    }
   ],
   "source": [
    "filename=\"txt_pq2PcaRnzc4.joblib\"\n",
    "txt2=joblib.load(filename, mmap_mode=None)\n",
    "print(txt2.shape)"
   ]
  },
  {
   "cell_type": "code",
   "execution_count": 12,
   "id": "74767258-35c7-40e7-819e-88f2166416f4",
   "metadata": {},
   "outputs": [
    {
     "name": "stdout",
     "output_type": "stream",
     "text": [
      "(500, 512)\n"
     ]
    }
   ],
   "source": [
    "vid_filename=\"vid_pq2PcaRnzc4.joblib\"\n",
    "vid2=joblib.load(vid_filename, mmap_mode=None)\n",
    "print(vid2.shape)"
   ]
  },
  {
   "cell_type": "code",
   "execution_count": 3,
   "id": "16fbfc15-a43e-4cae-bf43-85f011301e44",
   "metadata": {},
   "outputs": [],
   "source": [
    "from evaluate import compute_all_metrics"
   ]
  },
  {
   "cell_type": "code",
   "execution_count": 14,
   "id": "c9be1e52-c10c-42e0-bb69-e627c9e0607f",
   "metadata": {},
   "outputs": [
    {
     "name": "stdout",
     "output_type": "stream",
     "text": [
      "Defaulting to user installation because normal site-packages is not writeable\n",
      "Collecting lmdb\n",
      "  Downloading lmdb-1.3.0-cp38-cp38-manylinux_2_12_x86_64.manylinux2010_x86_64.whl (305 kB)\n",
      "\u001b[K     |████████████████████████████████| 305 kB 13.0 MB/s eta 0:00:01\n",
      "\u001b[?25hInstalling collected packages: lmdb\n",
      "Successfully installed lmdb-1.3.0\n",
      "Note: you may need to restart the kernel to use updated packages.\n"
     ]
    }
   ],
   "source": [
    "pip install lmdb"
   ]
  },
  {
   "cell_type": "code",
   "execution_count": 24,
   "id": "2cb8130e-f1c6-4ebe-ad89-79eb45dc8455",
   "metadata": {},
   "outputs": [
    {
     "name": "stdout",
     "output_type": "stream",
     "text": [
      "num_steps\n"
     ]
    },
    {
     "ename": "TypeError",
     "evalue": "string indices must be integers",
     "output_type": "error",
     "traceback": [
      "\u001b[0;31m---------------------------------------------------------------------------\u001b[0m",
      "\u001b[0;31mTypeError\u001b[0m                                 Traceback (most recent call last)",
      "\u001b[0;32m<ipython-input-24-a0ad48ce2101>\u001b[0m in \u001b[0;36m<module>\u001b[0;34m\u001b[0m\n\u001b[1;32m      4\u001b[0m \u001b[0;32mfor\u001b[0m \u001b[0msample\u001b[0m \u001b[0;32min\u001b[0m \u001b[0mdataset\u001b[0m\u001b[0;34m:\u001b[0m\u001b[0;34m\u001b[0m\u001b[0;34m\u001b[0m\u001b[0m\n\u001b[1;32m      5\u001b[0m     \u001b[0mprint\u001b[0m\u001b[0;34m(\u001b[0m\u001b[0msample\u001b[0m\u001b[0;34m)\u001b[0m\u001b[0;34m\u001b[0m\u001b[0;34m\u001b[0m\u001b[0m\n\u001b[0;32m----> 6\u001b[0;31m     \u001b[0mprint\u001b[0m\u001b[0;34m(\u001b[0m\u001b[0msample\u001b[0m\u001b[0;34m[\u001b[0m\u001b[0;34m'num_steps'\u001b[0m\u001b[0;34m]\u001b[0m\u001b[0;34m)\u001b[0m\u001b[0;34m\u001b[0m\u001b[0;34m\u001b[0m\u001b[0m\n\u001b[0m\u001b[1;32m      7\u001b[0m     \u001b[0mprint\u001b[0m\u001b[0;34m(\u001b[0m\u001b[0msample\u001b[0m\u001b[0;34m[\u001b[0m\u001b[0;34m'frame_features'\u001b[0m\u001b[0;34m]\u001b[0m\u001b[0;34m.\u001b[0m\u001b[0mshape\u001b[0m\u001b[0;34m)\u001b[0m\u001b[0;34m\u001b[0m\u001b[0;34m\u001b[0m\u001b[0m\n\u001b[1;32m      8\u001b[0m     \u001b[0mprint\u001b[0m\u001b[0;34m(\u001b[0m\u001b[0msample\u001b[0m\u001b[0;34m[\u001b[0m\u001b[0;34m'step_features'\u001b[0m\u001b[0;34m]\u001b[0m\u001b[0;34m.\u001b[0m\u001b[0mshape\u001b[0m\u001b[0;34m)\u001b[0m\u001b[0;34m\u001b[0m\u001b[0;34m\u001b[0m\u001b[0m\n",
      "\u001b[0;31mTypeError\u001b[0m: string indices must be integers"
     ]
    }
   ],
   "source": [
    "import pandas as pd\n",
    "d={'num_steps':[9,14],'frame_features':[vid,vid2],'step_features':[txt,txt2]}\n",
    "dataset=pd.DataFrame(d)\n",
    "for sample in dataset:\n",
    "    print(sample)\n",
    "    print(sample['num_steps'])\n",
    "    print(sample['frame_features'].shape)\n",
    "    print(sample['step_features'].shape)"
   ]
  },
  {
   "cell_type": "code",
   "execution_count": null,
   "id": "695ef5dc-7bc1-4a36-8864-7cc35b149e15",
   "metadata": {},
   "outputs": [],
   "source": [
    "config={\n",
    "    \"dataset\":\"YouCook2\",\n",
    "    \"name\":\"\",\n",
    "    \"distance\":\"cos\",\n",
    "    \"dp_algo\":\"DropDTW\",\n",
    "    \"drop_cost\":\"logit\"\n",
    "    \"keep_percentile\":0.3,\n",
    "    \"use_unlabeled\":True,\n",
    "}\n",
    "model=None\n",
    "gamma=1\n",
    "dataset=\n",
    "compute_all_metrics(dataset,model,gamma,config)"
   ]
  },
  {
   "cell_type": "code",
   "execution_count": null,
   "id": "b2915486-d306-41d0-b284-1931685f65a3",
   "metadata": {},
   "outputs": [],
   "source": []
  }
 ],
 "metadata": {
  "kernelspec": {
   "display_name": "Python 3.8",
   "language": "python",
   "name": "python3"
  },
  "language_info": {
   "codemirror_mode": {
    "name": "ipython",
    "version": 3
   },
   "file_extension": ".py",
   "mimetype": "text/x-python",
   "name": "python",
   "nbconvert_exporter": "python",
   "pygments_lexer": "ipython3",
   "version": "3.8.10"
  }
 },
 "nbformat": 4,
 "nbformat_minor": 5
}
