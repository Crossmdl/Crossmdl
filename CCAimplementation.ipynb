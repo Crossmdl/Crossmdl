{
 "cells": [
  {
   "cell_type": "code",
   "execution_count": 10,
   "id": "cb676b26-1933-4dd0-bda8-ddfaae7c88ad",
   "metadata": {},
   "outputs": [],
   "source": [
    "import pickle\n",
    "with open('ingredients_embeddings_train.pkl', 'rb') as f:\n",
    "    data = pickle.load(f)\n",
    "with open('embeddings_train1.pkl', 'rb') as f:\n",
    "    datat = pickle.load(f)"
   ]
  },
  {
   "cell_type": "code",
   "execution_count": 11,
   "id": "c6875854-6987-4221-86d9-708ae2611e3f",
   "metadata": {},
   "outputs": [
    {
     "data": {
      "text/plain": [
       "(281598, 1024)"
      ]
     },
     "execution_count": 11,
     "metadata": {},
     "output_type": "execute_result"
    }
   ],
   "source": [
    "data[0].shape"
   ]
  },
  {
   "cell_type": "code",
   "execution_count": 3,
   "id": "3cec45f8-0a3e-4dc3-861d-df6a904bf7e9",
   "metadata": {},
   "outputs": [],
   "source": [
    "from sklearn.cross_decomposition import CCA"
   ]
  },
  {
   "cell_type": "code",
   "execution_count": 4,
   "id": "e7678dea-bff9-43b6-ae05-375f6f3cc4fb",
   "metadata": {},
   "outputs": [],
   "source": [
    "ca2 = CCA(n_components=50)"
   ]
  },
  {
   "cell_type": "code",
   "execution_count": 19,
   "id": "85561133-679a-4dfb-b56d-adeb004a0cd7",
   "metadata": {},
   "outputs": [
    {
     "name": "stderr",
     "output_type": "stream",
     "text": [
      "/common/home/am2971/.local/lib/python3.8/site-packages/sklearn/cross_decomposition/_pls.py:107: ConvergenceWarning: Maximum number of iterations reached\n",
      "  warnings.warn(\"Maximum number of iterations reached\", ConvergenceWarning)\n"
     ]
    },
    {
     "data": {
      "text/plain": [
       "CCA(n_components=50)"
      ]
     },
     "execution_count": 19,
     "metadata": {},
     "output_type": "execute_result"
    }
   ],
   "source": [
    "ca2.fit(datat[0],data[0])"
   ]
  },
  {
   "cell_type": "code",
   "execution_count": null,
   "id": "3bf2a4ca-c0e2-430a-9d9d-6df7779732fb",
   "metadata": {},
   "outputs": [],
   "source": [
    "data_imC, data_txC = ca.transform(data[0],data[1])"
   ]
  },
  {
   "cell_type": "code",
   "execution_count": 10,
   "id": "bc55000f-f812-4f97-830d-d62148ea6052",
   "metadata": {},
   "outputs": [
    {
     "name": "stdout",
     "output_type": "stream",
     "text": [
      "[[ 1.15504103e+00 -2.10117620e-01  5.27100916e-01 ...  5.78172723e-02\n",
      "  -3.94819613e-04  2.63527093e+00]\n",
      " [ 1.66851764e+00 -7.12431477e-01 -3.24954163e-01 ...  5.78742814e-01\n",
      "   1.93537985e+00 -3.86299455e-01]\n",
      " [ 2.36323408e-01 -2.10619475e-01 -4.54093266e-01 ...  7.20468854e-01\n",
      "   1.66012528e+00  4.43439473e-01]\n",
      " ...\n",
      " [-2.80460865e-01  2.13708844e-02  7.19166036e-01 ...  2.53913920e-01\n",
      "  -4.80996413e-01  3.67737802e-01]\n",
      " [-1.23136963e+00  1.44259608e+00  7.95622787e-01 ...  3.06064156e-01\n",
      "   1.92657131e-01  1.46627235e+00]\n",
      " [-1.40664837e+00  1.04995987e+00  5.05924427e-01 ... -5.26961810e-01\n",
      "   1.83443645e+00 -5.74901680e-01]] [[ 0.89345653 -0.35792156  0.82685189 ...  0.01471124  0.23560124\n",
      "   2.47571393]\n",
      " [ 1.67892223 -0.30363538 -0.91036909 ...  0.31069825  0.71258438\n",
      "  -0.91880403]\n",
      " [ 0.41088139  0.20505904 -0.67950586 ...  1.13169686  1.22971179\n",
      "   0.12002469]\n",
      " ...\n",
      " [-0.10344466  0.33479397  0.24507864 ... -0.11150029 -0.89820862\n",
      "   0.35213981]\n",
      " [-0.13957122  0.9715502   1.24729437 ... -0.15030272 -0.0524991\n",
      "  -0.06963259]\n",
      " [-1.02157246  0.90745777  0.43606391 ... -0.21747525  1.3112747\n",
      "  -0.40011694]]\n"
     ]
    }
   ],
   "source": [
    "print(data_imC, data_txC)"
   ]
  },
  {
   "cell_type": "code",
   "execution_count": null,
   "id": "fe1317db-4755-4d63-8e5e-e1f19e9fabb0",
   "metadata": {},
   "outputs": [],
   "source": [
    "ca.score(data[0],data[1])"
   ]
  },
  {
   "cell_type": "code",
   "execution_count": 20,
   "id": "af10f1e4-9474-4751-ac1f-6442301af6e8",
   "metadata": {},
   "outputs": [],
   "source": [
    "pickle.dump(ca2, open(\"model50.pkl\",\"wb\"))"
   ]
  },
  {
   "cell_type": "code",
   "execution_count": null,
   "id": "039d964c-9f1d-4305-98d7-9af6a42a2916",
   "metadata": {},
   "outputs": [],
   "source": [
    "import numpy as np\n",
    "np.corrcoef(data_imC[:, 0], data_txC[:, 0])"
   ]
  },
  {
   "cell_type": "code",
   "execution_count": null,
   "id": "05806045-1584-4fb0-a3a3-0ec5858d93b9",
   "metadata": {},
   "outputs": [],
   "source": [
    "np.corrcoef(data_imC[:, 1], data_txC[:, 1])"
   ]
  },
  {
   "cell_type": "code",
   "execution_count": null,
   "id": "6f19214b-c071-45d1-a2c4-23579a459dc3",
   "metadata": {},
   "outputs": [],
   "source": [
    "np.corrcoef(data_imC[:, 2], data_txC[:, 2])"
   ]
  },
  {
   "cell_type": "code",
   "execution_count": 8,
   "id": "41813c18-e4f4-4fe7-a9fa-8d5834d30318",
   "metadata": {},
   "outputs": [
    {
     "data": {
      "text/plain": [
       "array([ 0.03286867, -0.05272736, -0.00433418, ...,  0.04528307,\n",
       "       -0.00691087, -0.04606856], dtype=float32)"
      ]
     },
     "execution_count": 8,
     "metadata": {},
     "output_type": "execute_result"
    }
   ],
   "source": [
    "with open('embeddings_test1.pkl', 'rb') as f:\n",
    "    data_test = pickle.load(f)\n",
    "data_test[0][0]"
   ]
  },
  {
   "cell_type": "code",
   "execution_count": 9,
   "id": "7f4089db-2de1-40e3-bb71-abb2aa092833",
   "metadata": {},
   "outputs": [],
   "source": [
    "x=ca.predict(data_test[0])"
   ]
  },
  {
   "cell_type": "code",
   "execution_count": 14,
   "id": "23d2b347-8ec2-4bda-bc6f-27361f8a9318",
   "metadata": {},
   "outputs": [],
   "source": [
    "data_test_tr = ca.transform(data_test[1])"
   ]
  },
  {
   "cell_type": "code",
   "execution_count": 21,
   "id": "d0970ca4-cc38-49bd-a178-4b3f53164966",
   "metadata": {},
   "outputs": [
    {
     "data": {
      "text/plain": [
       "60740"
      ]
     },
     "execution_count": 21,
     "metadata": {},
     "output_type": "execute_result"
    }
   ],
   "source": [
    "len(data_test_tr)"
   ]
  },
  {
   "cell_type": "code",
   "execution_count": 23,
   "id": "83a49833-4f53-43a7-8ab4-c2b9e168aed1",
   "metadata": {},
   "outputs": [
    {
     "data": {
      "text/plain": [
       "0.8103036195454383"
      ]
     },
     "execution_count": 23,
     "metadata": {},
     "output_type": "execute_result"
    }
   ],
   "source": [
    "from scipy import spatial\n",
    "for i in range(len(data_test_tr)):\n",
    "    result += 1 - spatial.distance.cosine(x_tr[i],data_test_tr[i])\n",
    "result/len(data_test_tr)"
   ]
  },
  {
   "cell_type": "code",
   "execution_count": null,
   "id": "1e905666-5075-4476-b935-bc2f937af3b5",
   "metadata": {},
   "outputs": [],
   "source": [
    "import numpy as np\n",
    "np.corrcoef(x_tr,data_test_tr)"
   ]
  },
  {
   "cell_type": "code",
   "execution_count": null,
   "id": "e4bfe21f-bd5b-4ca8-862b-03f517bc135a",
   "metadata": {},
   "outputs": [
    {
     "name": "stderr",
     "output_type": "stream",
     "text": [
      "/koko/system/anaconda/envs/python38/lib/python3.8/site-packages/sklearn/cross_decomposition/_pls.py:97: ConvergenceWarning: Maximum number of iterations reached\n",
      "  warnings.warn('Maximum number of iterations reached',\n",
      "/koko/system/anaconda/envs/python38/lib/python3.8/site-packages/sklearn/cross_decomposition/_pls.py:97: ConvergenceWarning: Maximum number of iterations reached\n",
      "  warnings.warn('Maximum number of iterations reached',\n",
      "/koko/system/anaconda/envs/python38/lib/python3.8/site-packages/sklearn/cross_decomposition/_pls.py:97: ConvergenceWarning: Maximum number of iterations reached\n",
      "  warnings.warn('Maximum number of iterations reached',\n",
      "/koko/system/anaconda/envs/python38/lib/python3.8/site-packages/sklearn/cross_decomposition/_pls.py:97: ConvergenceWarning: Maximum number of iterations reached\n",
      "  warnings.warn('Maximum number of iterations reached',\n"
     ]
    }
   ],
   "source": [
    "for i in range(16,41,3):\n",
    "    ca2 = CCA(n_components=i)\n",
    "    ca2.fit(data[0],data[1])\n",
    "    pickle.dump(ca2, open(\"model{}.pkl\".format(i),\"wb\"))"
   ]
  },
  {
   "cell_type": "code",
   "execution_count": 12,
   "id": "c52031d2-9f50-40cb-8dce-b18187298508",
   "metadata": {},
   "outputs": [
    {
     "data": {
      "text/plain": [
       "CCA(latent_dims=50, random_state=RandomState(MT19937) at 0x7F296D6F9B40)"
      ]
     },
     "execution_count": 12,
     "metadata": {},
     "output_type": "execute_result"
    }
   ],
   "source": [
    "from cca_zoo.models import CCA\n",
    "model = CCA(latent_dims=50)\n",
    "model.fit((datat[0],data[0]))"
   ]
  },
  {
   "cell_type": "code",
   "execution_count": 13,
   "id": "e55fd868-c86d-4791-833f-ddbd9e652788",
   "metadata": {},
   "outputs": [],
   "source": [
    "pickle.dump(model, open(\"model_ingredients50.pkl\",\"wb\"))"
   ]
  },
  {
   "cell_type": "code",
   "execution_count": null,
   "id": "3c519ca9-3062-4953-92b0-51ae57ad3d9c",
   "metadata": {},
   "outputs": [],
   "source": []
  }
 ],
 "metadata": {
  "kernelspec": {
   "display_name": "Python 3.8",
   "language": "python",
   "name": "python3"
  },
  "language_info": {
   "codemirror_mode": {
    "name": "ipython",
    "version": 3
   },
   "file_extension": ".py",
   "mimetype": "text/x-python",
   "name": "python",
   "nbconvert_exporter": "python",
   "pygments_lexer": "ipython3",
   "version": "3.8.10"
  }
 },
 "nbformat": 4,
 "nbformat_minor": 5
}
